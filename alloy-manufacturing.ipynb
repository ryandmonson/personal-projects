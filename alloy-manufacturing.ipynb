{
 "cells": [
  {
   "cell_type": "markdown",
   "metadata": {},
   "source": [
    "<font color = gray>TITLE</font><br>\n",
    "**Grade of Manufactured Alloy**<br>\n",
    "\n",
    "<font color = gray>DESCRIPTION</font>\n",
    "\n",
    "This dataset contains factors associated with the manufacture of a metal alloy.  The purpose of this analysis is to create a model predicting alloy grade based on the factors.\n",
    "\n",
    "<font color = gray>COMMENTS</font><br>\n",
    "\\- `checked`at the end of a code block means the output was verified<br>\n",
    "\\- I'm assuming that each data row applies to a single processing batch"
   ]
  },
  {
   "cell_type": "code",
   "execution_count": 1,
   "metadata": {
    "_cell_guid": "b1076dfc-b9ad-4769-8c92-a6c4dae69d19",
    "_uuid": "8f2839f25d086af736a60e9eeb907d3b93b6e0e5"
   },
   "outputs": [
    {
     "name": "stdout",
     "output_type": "stream",
     "text": [
      "/kaggle/input/metal-furnace-dataset/Test.csv\n",
      "/kaggle/input/metal-furnace-dataset/Train.csv\n"
     ]
    }
   ],
   "source": [
    "#NOTES FROM KAGGLE\n",
    "\n",
    "#This Python 3 environment comes with many helpful analytics libraries installed\n",
    "#it is defined by the kaggle/python Docker image: https://github.com/kaggle/docker-python\n",
    "#For example, here's several helpful packages to load\n",
    "\n",
    "import numpy as np # linear algebra\n",
    "import pandas as pd # data processing, CSV file I/O (e.g. pd.read_csv)\n",
    "\n",
    "#Input data files are available in the read-only \"../input/\" directory\n",
    "#For example, running this (by clicking run or pressing Shift+Enter) will list all files under the input directory\n",
    "\n",
    "import os\n",
    "for dirname, _, filenames in os.walk('/kaggle/input'):\n",
    "    for filename in filenames:\n",
    "        print(os.path.join(dirname, filename))\n",
    "\n",
    "#You can write up to 5GB to the current directory (/kaggle/working/) that gets preserved as output when you create a version using \"Save & Run All\" \n",
    "#You can also write temporary files to /kaggle/temp/, but they won't be saved outside of the current session"
   ]
  },
  {
   "cell_type": "markdown",
   "metadata": {
    "_cell_guid": "79c7e3d0-c299-4dcb-8224-4455121ee9b0",
    "_uuid": "d629ff2d2480ee46fbb7e2d37f6b5fab8052498a",
    "collapsed": true
   },
   "source": [
    "<font color = gray>NOTES FROM THE CREATOR OF THE DATASET </font><br>\n",
    "\n",
    "Manufacturing of any alloy is not a simple process. Many complicated factors are involved in the making of a perfect alloy, from the temperature at which various metals are melted to the presence of impurities to the cooling temperature set to cool down the alloy. Very minor changes in any of these factors can affect the quality or grade of the alloy produced.\n",
    "\n",
    "\n",
    "Given are 28 distinguishing factors in the manufacturing of an alloy, the objective is to build a Machine Learning model that can predict the grade of the product using these factors.\n",
    "\n",
    "You are provided with 28 anonymized factors (f0 to f27) that influence the making of a perfect alloy that is to be used for various applications based on the grade/quality of the obtained product."
   ]
  },
  {
   "cell_type": "code",
   "execution_count": 2,
   "metadata": {},
   "outputs": [
    {
     "name": "stdout",
     "output_type": "stream",
     "text": [
      "train shape: (620, 29) test shape: (266, 28)\n"
     ]
    },
    {
     "data": {
      "text/html": [
       "<div>\n",
       "<style scoped>\n",
       "    .dataframe tbody tr th:only-of-type {\n",
       "        vertical-align: middle;\n",
       "    }\n",
       "\n",
       "    .dataframe tbody tr th {\n",
       "        vertical-align: top;\n",
       "    }\n",
       "\n",
       "    .dataframe thead th {\n",
       "        text-align: right;\n",
       "    }\n",
       "</style>\n",
       "<table border=\"1\" class=\"dataframe\">\n",
       "  <thead>\n",
       "    <tr style=\"text-align: right;\">\n",
       "      <th></th>\n",
       "      <th>f0</th>\n",
       "      <th>f1</th>\n",
       "      <th>f2</th>\n",
       "      <th>f3</th>\n",
       "      <th>f4</th>\n",
       "      <th>f5</th>\n",
       "      <th>f6</th>\n",
       "      <th>f7</th>\n",
       "      <th>f8</th>\n",
       "      <th>f9</th>\n",
       "      <th>...</th>\n",
       "      <th>f19</th>\n",
       "      <th>f20</th>\n",
       "      <th>f21</th>\n",
       "      <th>f22</th>\n",
       "      <th>f23</th>\n",
       "      <th>f24</th>\n",
       "      <th>f25</th>\n",
       "      <th>f26</th>\n",
       "      <th>f27</th>\n",
       "      <th>grade</th>\n",
       "    </tr>\n",
       "  </thead>\n",
       "  <tbody>\n",
       "    <tr>\n",
       "      <th>count</th>\n",
       "      <td>6.200e+02</td>\n",
       "      <td>6.200e+02</td>\n",
       "      <td>6.200e+02</td>\n",
       "      <td>6.200e+02</td>\n",
       "      <td>6.200e+02</td>\n",
       "      <td>6.200e+02</td>\n",
       "      <td>6.200e+02</td>\n",
       "      <td>6.200e+02</td>\n",
       "      <td>6.200e+02</td>\n",
       "      <td>6.200e+02</td>\n",
       "      <td>...</td>\n",
       "      <td>6.200e+02</td>\n",
       "      <td>6.200e+02</td>\n",
       "      <td>6.200e+02</td>\n",
       "      <td>6.200e+02</td>\n",
       "      <td>6.200e+02</td>\n",
       "      <td>6.200e+02</td>\n",
       "      <td>6.200e+02</td>\n",
       "      <td>6.200e+02</td>\n",
       "      <td>6.200e+02</td>\n",
       "      <td>6.200e+02</td>\n",
       "    </tr>\n",
       "    <tr>\n",
       "      <th>mean</th>\n",
       "      <td>-1.345e-16</td>\n",
       "      <td>6.597e-16</td>\n",
       "      <td>3.698e-17</td>\n",
       "      <td>6.504e-16</td>\n",
       "      <td>-9.455e-17</td>\n",
       "      <td>1.146e-16</td>\n",
       "      <td>1.578e-16</td>\n",
       "      <td>-2.735e-16</td>\n",
       "      <td>6.084e-17</td>\n",
       "      <td>0.000e+00</td>\n",
       "      <td>...</td>\n",
       "      <td>1.149e-15</td>\n",
       "      <td>1.894e-16</td>\n",
       "      <td>-1.633e-16</td>\n",
       "      <td>-9.383e-17</td>\n",
       "      <td>-4.298e-18</td>\n",
       "      <td>2.088e-16</td>\n",
       "      <td>-2.722e-17</td>\n",
       "      <td>-2.615e-16</td>\n",
       "      <td>-1.764e-17</td>\n",
       "      <td>2.034e+00</td>\n",
       "    </tr>\n",
       "    <tr>\n",
       "      <th>std</th>\n",
       "      <td>1.001e+00</td>\n",
       "      <td>1.001e+00</td>\n",
       "      <td>1.001e+00</td>\n",
       "      <td>1.001e+00</td>\n",
       "      <td>1.001e+00</td>\n",
       "      <td>1.001e+00</td>\n",
       "      <td>1.001e+00</td>\n",
       "      <td>1.001e+00</td>\n",
       "      <td>1.001e+00</td>\n",
       "      <td>0.000e+00</td>\n",
       "      <td>...</td>\n",
       "      <td>1.001e+00</td>\n",
       "      <td>1.001e+00</td>\n",
       "      <td>1.001e+00</td>\n",
       "      <td>1.001e+00</td>\n",
       "      <td>1.001e+00</td>\n",
       "      <td>1.001e+00</td>\n",
       "      <td>1.001e+00</td>\n",
       "      <td>1.001e+00</td>\n",
       "      <td>1.001e+00</td>\n",
       "      <td>6.308e-01</td>\n",
       "    </tr>\n",
       "    <tr>\n",
       "      <th>min</th>\n",
       "      <td>-8.251e-01</td>\n",
       "      <td>-2.643e-01</td>\n",
       "      <td>-4.614e-01</td>\n",
       "      <td>-2.443e+00</td>\n",
       "      <td>-2.357e+00</td>\n",
       "      <td>-2.761e-01</td>\n",
       "      <td>-2.696e+00</td>\n",
       "      <td>-1.109e+01</td>\n",
       "      <td>-1.328e+01</td>\n",
       "      <td>0.000e+00</td>\n",
       "      <td>...</td>\n",
       "      <td>-1.317e+01</td>\n",
       "      <td>-4.287e+00</td>\n",
       "      <td>-1.081e+00</td>\n",
       "      <td>-1.080e+00</td>\n",
       "      <td>-1.899e+00</td>\n",
       "      <td>-6.877e-01</td>\n",
       "      <td>-4.915e+00</td>\n",
       "      <td>-2.325e-01</td>\n",
       "      <td>-1.573e+01</td>\n",
       "      <td>0.000e+00</td>\n",
       "    </tr>\n",
       "    <tr>\n",
       "      <th>25%</th>\n",
       "      <td>-8.251e-01</td>\n",
       "      <td>-2.643e-01</td>\n",
       "      <td>-4.614e-01</td>\n",
       "      <td>4.094e-01</td>\n",
       "      <td>-5.257e-01</td>\n",
       "      <td>-2.761e-01</td>\n",
       "      <td>3.710e-01</td>\n",
       "      <td>9.017e-02</td>\n",
       "      <td>1.080e-01</td>\n",
       "      <td>0.000e+00</td>\n",
       "      <td>...</td>\n",
       "      <td>8.551e-02</td>\n",
       "      <td>2.333e-01</td>\n",
       "      <td>-1.081e+00</td>\n",
       "      <td>-6.838e-01</td>\n",
       "      <td>-4.064e-01</td>\n",
       "      <td>-6.877e-01</td>\n",
       "      <td>2.719e-01</td>\n",
       "      <td>-2.325e-01</td>\n",
       "      <td>1.021e-01</td>\n",
       "      <td>2.000e+00</td>\n",
       "    </tr>\n",
       "    <tr>\n",
       "      <th>50%</th>\n",
       "      <td>-3.795e-01</td>\n",
       "      <td>-2.643e-01</td>\n",
       "      <td>-4.614e-01</td>\n",
       "      <td>4.094e-01</td>\n",
       "      <td>-5.257e-01</td>\n",
       "      <td>-2.761e-01</td>\n",
       "      <td>3.710e-01</td>\n",
       "      <td>9.017e-02</td>\n",
       "      <td>1.080e-01</td>\n",
       "      <td>0.000e+00</td>\n",
       "      <td>...</td>\n",
       "      <td>8.551e-02</td>\n",
       "      <td>2.333e-01</td>\n",
       "      <td>9.254e-01</td>\n",
       "      <td>-4.593e-01</td>\n",
       "      <td>-4.061e-01</td>\n",
       "      <td>-3.660e-01</td>\n",
       "      <td>2.719e-01</td>\n",
       "      <td>-2.325e-01</td>\n",
       "      <td>1.021e-01</td>\n",
       "      <td>2.000e+00</td>\n",
       "    </tr>\n",
       "    <tr>\n",
       "      <th>75%</th>\n",
       "      <td>5.117e-01</td>\n",
       "      <td>-2.643e-01</td>\n",
       "      <td>-4.614e-01</td>\n",
       "      <td>4.094e-01</td>\n",
       "      <td>1.305e+00</td>\n",
       "      <td>-2.761e-01</td>\n",
       "      <td>3.710e-01</td>\n",
       "      <td>9.017e-02</td>\n",
       "      <td>1.080e-01</td>\n",
       "      <td>0.000e+00</td>\n",
       "      <td>...</td>\n",
       "      <td>8.551e-02</td>\n",
       "      <td>2.333e-01</td>\n",
       "      <td>9.254e-01</td>\n",
       "      <td>4.433e-01</td>\n",
       "      <td>1.161e+00</td>\n",
       "      <td>-2.871e-01</td>\n",
       "      <td>2.719e-01</td>\n",
       "      <td>-2.325e-01</td>\n",
       "      <td>1.021e-01</td>\n",
       "      <td>2.000e+00</td>\n",
       "    </tr>\n",
       "    <tr>\n",
       "      <th>max</th>\n",
       "      <td>2.294e+00</td>\n",
       "      <td>4.920e+00</td>\n",
       "      <td>3.032e+00</td>\n",
       "      <td>4.094e-01</td>\n",
       "      <td>1.305e+00</td>\n",
       "      <td>5.607e+00</td>\n",
       "      <td>3.710e-01</td>\n",
       "      <td>9.017e-02</td>\n",
       "      <td>1.080e-01</td>\n",
       "      <td>0.000e+00</td>\n",
       "      <td>...</td>\n",
       "      <td>8.551e-02</td>\n",
       "      <td>2.333e-01</td>\n",
       "      <td>9.254e-01</td>\n",
       "      <td>3.151e+00</td>\n",
       "      <td>1.834e+00</td>\n",
       "      <td>1.878e+00</td>\n",
       "      <td>2.719e-01</td>\n",
       "      <td>4.519e+00</td>\n",
       "      <td>1.021e-01</td>\n",
       "      <td>4.000e+00</td>\n",
       "    </tr>\n",
       "  </tbody>\n",
       "</table>\n",
       "<p>8 rows × 29 columns</p>\n",
       "</div>"
      ],
      "text/plain": [
       "              f0         f1         f2         f3         f4         f5  \\\n",
       "count  6.200e+02  6.200e+02  6.200e+02  6.200e+02  6.200e+02  6.200e+02   \n",
       "mean  -1.345e-16  6.597e-16  3.698e-17  6.504e-16 -9.455e-17  1.146e-16   \n",
       "std    1.001e+00  1.001e+00  1.001e+00  1.001e+00  1.001e+00  1.001e+00   \n",
       "min   -8.251e-01 -2.643e-01 -4.614e-01 -2.443e+00 -2.357e+00 -2.761e-01   \n",
       "25%   -8.251e-01 -2.643e-01 -4.614e-01  4.094e-01 -5.257e-01 -2.761e-01   \n",
       "50%   -3.795e-01 -2.643e-01 -4.614e-01  4.094e-01 -5.257e-01 -2.761e-01   \n",
       "75%    5.117e-01 -2.643e-01 -4.614e-01  4.094e-01  1.305e+00 -2.761e-01   \n",
       "max    2.294e+00  4.920e+00  3.032e+00  4.094e-01  1.305e+00  5.607e+00   \n",
       "\n",
       "              f6         f7         f8        f9  ...        f19        f20  \\\n",
       "count  6.200e+02  6.200e+02  6.200e+02 6.200e+02  ...  6.200e+02  6.200e+02   \n",
       "mean   1.578e-16 -2.735e-16  6.084e-17 0.000e+00  ...  1.149e-15  1.894e-16   \n",
       "std    1.001e+00  1.001e+00  1.001e+00 0.000e+00  ...  1.001e+00  1.001e+00   \n",
       "min   -2.696e+00 -1.109e+01 -1.328e+01 0.000e+00  ... -1.317e+01 -4.287e+00   \n",
       "25%    3.710e-01  9.017e-02  1.080e-01 0.000e+00  ...  8.551e-02  2.333e-01   \n",
       "50%    3.710e-01  9.017e-02  1.080e-01 0.000e+00  ...  8.551e-02  2.333e-01   \n",
       "75%    3.710e-01  9.017e-02  1.080e-01 0.000e+00  ...  8.551e-02  2.333e-01   \n",
       "max    3.710e-01  9.017e-02  1.080e-01 0.000e+00  ...  8.551e-02  2.333e-01   \n",
       "\n",
       "             f21        f22        f23        f24        f25        f26  \\\n",
       "count  6.200e+02  6.200e+02  6.200e+02  6.200e+02  6.200e+02  6.200e+02   \n",
       "mean  -1.633e-16 -9.383e-17 -4.298e-18  2.088e-16 -2.722e-17 -2.615e-16   \n",
       "std    1.001e+00  1.001e+00  1.001e+00  1.001e+00  1.001e+00  1.001e+00   \n",
       "min   -1.081e+00 -1.080e+00 -1.899e+00 -6.877e-01 -4.915e+00 -2.325e-01   \n",
       "25%   -1.081e+00 -6.838e-01 -4.064e-01 -6.877e-01  2.719e-01 -2.325e-01   \n",
       "50%    9.254e-01 -4.593e-01 -4.061e-01 -3.660e-01  2.719e-01 -2.325e-01   \n",
       "75%    9.254e-01  4.433e-01  1.161e+00 -2.871e-01  2.719e-01 -2.325e-01   \n",
       "max    9.254e-01  3.151e+00  1.834e+00  1.878e+00  2.719e-01  4.519e+00   \n",
       "\n",
       "             f27     grade  \n",
       "count  6.200e+02 6.200e+02  \n",
       "mean  -1.764e-17 2.034e+00  \n",
       "std    1.001e+00 6.308e-01  \n",
       "min   -1.573e+01 0.000e+00  \n",
       "25%    1.021e-01 2.000e+00  \n",
       "50%    1.021e-01 2.000e+00  \n",
       "75%    1.021e-01 2.000e+00  \n",
       "max    1.021e-01 4.000e+00  \n",
       "\n",
       "[8 rows x 29 columns]"
      ]
     },
     "execution_count": 2,
     "metadata": {},
     "output_type": "execute_result"
    }
   ],
   "source": [
    "#READ INTO PANDAS TRAINING AND TEST DATASET, PRINT SHAPE, GET TRAIN INFO\n",
    "\n",
    "df_test = pd.read_csv(\"/kaggle/input/metal-furnace-dataset/Test.csv\")\n",
    "df_train = pd.read_csv(\"/kaggle/input/metal-furnace-dataset/Train.csv\")\n",
    "pd.set_option('display.float_format', lambda x: '%.3e' % x)\n",
    "\n",
    "print(\"train shape:\",df_train.shape, \"test shape:\", df_test.shape)\n",
    "df_train.describe()"
   ]
  },
  {
   "cell_type": "markdown",
   "metadata": {},
   "source": [
    "## Exploratory Data Analysis"
   ]
  },
  {
   "attachments": {
    "image.png": {
     "image/png": "iVBORw0KGgoAAAANSUhEUgAAAxgAAAJkCAYAAACS6odqAAAYOmlDQ1BJQ0MgUHJvZmlsZQAAWIWVWQdUFEuz7pnNLEtYcs4555xzlBxFWPKShCWDRBFFFBWUKKiACAhiIooBREVFRFAEI4qIAb2IIiICbwh67//fc947r8+Z2W+rq6urqrurq3YB4FGlREdHwEwAREbF0ZwsjAU9PL0EcW8ABMgADcQAAyUgNtrIwcEWIO3353+276MIN9JG5NZk/bv/f23MgUGxAQBADgj2D4wNiETwRQDQ6gHRtDgAMDMIXSQxLhrBWERLwEpDFESw6BoO2cCaa9h/A9uu87g4mSDYDwA8PYVCCwGAYU0vwYSAEEQOwz6kjxwVSI1CWI8jWD8glBIIAPcEwiMbGbkdwTz0CJb0/4eckP+Q6f9HJoUS8gdv2LLe8KbU2OgISvL/0x3/d4uMiP89hwjy0IfSLJ3WbF7zW/h2mzWM6A71R/nbb0EwGcEPqYHr/Gv4bWi8pesm/4+AWBPEZ4AdAJg+kGJqg2BeBAtHRdjbbtL1g6nmVghGfA+7UOOsXDbGwoG07U6b8uGkoFgz59+YQlufa41nb3y4q9GmzKrQIKvfMrtSQl3cN/SEhxKobvYIZkDws9hwZ5tNng8poSb2v3lo8U5rOiNrjgLBNHOnDR6UaGTsb7tQ2qFUK/tNbBtAWdeHE8Hb4kJdLDfkoBKCYj1sf+sZGGRqtmEXKjsoynVTf1RhdJyx0+bY2ugIh01+VHdQhMUaXRjBg7EJzr/HzsYhm23DXjSIjnNw2dANzRpGsXbYmBctDWyBCTAFgiAeefzBdhAGqIMz7TPIt40ec0ABNBACgoDcJuX3CPf1nijk7QxSwCcEBYHYP+OM13uDQAJCX/5D3XjLgeD13oT1EeHgLYIjgQ2IQL7Hr4+K+jObG3iDUKj/mj0A0TUCedb6/kUTZPxNw5phTbGWWHOsFJobrY/WQdsib0PkUUZrorV+6/U3P+Yt5gHmNeYRZgIz7kvNpv2X5oLADkwgOppvWuf/T+vQ4ohUNbQxWg+Rj8hGs6O5gRxaFZnJCG2AzK2GUP+pa/wfi//25aYsgiIBJnAQDAmS/9JgzTv/tH+TziDNoLapl/8fb5n84fpvKSb/8F8g8mnz35yoPagLqFuoHtRtVDeqHQiirqI6UAOoy2v4z954s743fs/mtK5bOCKH+q/5KJtzrnktVvG04nvFX5t9IC4oKW7tsJhsj06mUUNC4wSNkGgdJGgVFSAvK6isqKwIwFrs3wgtX53WYzrEfv9vWlgqABoCCPH637SgUQC6niPhju5vmvgu5DijAbjtFxBPS9igoddeGEAHGJGTwgX4kdgliVikDNSBDjAEZsAabAEuwBNsQ3weiuxTGkgEO0AWyAX54CA4AsrBMVAD6kEzOA/aQTfoATfBXTAEHoGnyF6ZAh/BLPgOliAIwkEkiAXiggQgMUgGUoY0IX3IDLKFnCBPyA8KgaKgeGgHtBPKhwqhcugE1ACdgzqhHug29AAah15B76E56CeMgulhVpgPFocVYE3YCLaBXWAfOASOgVPgHLgALoWr4Sa4De6B78KP4An4IzyPAigiih0lhJJDaaJMUFtQXqhgFA2VjtqLKkZVo86gupCVHkFNoGZQi2gsmgUtiJZD9qsl2hUdgI5Bp6P3ocvR9eg2dB96BP0KPYtewZAwvBgZjDbGCuOBCcEkYnIxxZg6TCvmBnJ2pjDfsVgsO1YCq4GcPU9sGDYVuw9biW3BXsM+wE5i53E4HBdOBqeH24Kj4OJwubgyXBPuKm4YN4X7gSfiBfDKeHO8Fz4Kn40vxjfir+CH8dP4JQITQYygTdhCCCQkEw4QagldhPuEKcISHTOdBJ0enQtdGF0WXSndGbobdM/ovhKJRGGiFtGRSCVmEkuJZ4n9xFfERXoyvTS9Cf1W+nj6AvpT9Nfox+m/kkgkcZIhyYsURyogNZCuk16QfjCwMMgzWDEEMmQwVDC0MQwzfGYkMIoxGjFuY0xhLGa8wHifcYaJwCTOZMJEYUpnqmDqZHrMNM/MwqzEvIU5knkfcyPzbeZ3ZBxZnGxGDiTnkGvI18mTLCgWERYTlgCWnSy1LDdYplixrBKsVqxhrPmszayDrLNsZDZVNje2JLYKtstsE+wodnF2K/YI9gPs59lH2X9y8HEYcQRx5HGc4RjmWODk4TTkDOLcy9nC+YjzJ5cglxlXONchrnau59xobmluR+5E7iruG9wzPKw8OjwBPHt5zvM84YV5pXmdeFN5a3gHeOf5+Pks+KL5yviu883ws/Mb8ofxH+a/wv9egEVAX4AqcFjgqsAHQTZBI8EIwVLBPsFZIV4hS6F4oRNCg0JLwhLCrsLZwi3Cz0XoRDRFgkUOi/SKzIoKiNqJ7hA9LfpEjCCmKRYqViJ2S2xBXELcXXy3eLv4OwlOCSuJFInTEs8kSZIGkjGS1ZIPpbBSmlLhUpVSQ9KwtJp0qHSF9H0ZWEZdhipTKfNAFiOrJRslWy37WI5ezkguQe603Ct5dnlb+Wz5dvnPCqIKXgqHFG4prCiqKUYo1io+VSIrWStlK3UpzSlLKwcoVyg/VCGpmKtkqHSofFGVUQ1SrVIdU2NRs1PbrdartqyuoU5TP6P+XkNUw0/jqMZjTVZNB819mv1aGC1jrQytbq1FbXXtOO3z2n/pyOmE6zTqvNOV0A3SrdWd1BPWo+id0JvQF9T30z+uP2EgZEAxqDZ4bShiGGhYZzhtJGUUZtRk9NlY0Zhm3Gq8YKJtkmZyzRRlamG613TQjGzmalZu9sJc2DzE/LT5rIWaRarFNUuMpY3lIcvHVnxWAVYNVrPWGtZp1n029DbONuU2r22lbWm2XXawnbVdkd0zezH7KPv2LWCL1ZaiLc8dJBxiHC45Yh0dHCsc3zopOe1wuuXM4uzr3Oj83cXY5YDLU1dJ13jXXjdGt61uDW4L7qbuhe4THgoeaR53Pbk9qZ4dXjgvN686r3lvM+8j3lNb1bbmbh31kfBJ8rm9jXtbxLbLvoy+FN8Lfhg/d79Gv1+ULZRqyry/lf9R/9kAk4CSgI+BhoGHA98H6QUVBk0H6wUXBr8L0QspCnkfahBaHDpDNaGWU7+EWYYdC1sI3xJ+Knw1wj2iJRIf6RfZGUWOCo/q286/PWn7g2iZ6NzoiRjtmCMxszQbWl0sFOsT2xHHiiTZA/GS8bviXyXoJ1Qk/Eh0S7yQxJwUlTSQLJ2clzydYp5yMhWdGpDau0NoR9aOV2lGaSfSoXT/9N4MkYycjKlMi8z6LLqs8Kx72YrZhdnfdrrv7Mrhy8nMmdxlset0LkMuLffxbp3dx/ag91D3DOap5JXlrewN3HsnXzG/OP/XvoB9d/Yr7S/dv1oQXDB4QP1A1UHswaiDo4cMDtUXMhemFE4W2RW1HRY8vPfwtyO+R24XqxYfK6EriS+ZKLUt7SgTLTtY9qs8tPxRhXFFy1Heo3lHFyoDK4erDKvOHOM7ln/s53Hq8bETFifaqsWri2uwNQk1b2vdam+d1DzZUMddl1+3fCrq1ES9U31fg0ZDQyNv44HT8On40++btjYNNZs2d5yRO3Oihb0l/yw4G3/2wzm/c6Pnbc73XtC8cOai2MWjrSyte9ugtuS22fbQ9okOz44HndadvV06Xa2X5C+d6hbqrrjMdvnAFborOVdWr6Zcnb8WfW2mJ6Rnste39+l1j+sP+xz7Bm/Y3Oi/aX7z+i2jW1f79fq7b2vf7ryjeaf9rvrdtgG1gdZ7avdaB9UH2+5r3O8Y0hrqeqD74MqwwXDPiOnIzYdWD+8+sn/0YNR1dOzx1scTY4Fj78Yjxr88SXiy9DTzGebZ3udMz4tf8L6ofin1smVCfeLyK9NXA6+dXz+dDJj8+Cb2za+pnLekt8XTAtMN75Tfdb83fz/0wfvD1Mfoj0szuZ+YPx39LPn54l+Gfw3MesxOfaF9WZ3b95Xr66lvqt965x3mX3yP/L60sPcH14/6Rc3FWz/df04vJf7C/SpdllruWrFZebYauboaTaFR1lMBFPLAwcEAzJ0CgOQJAMsQAHTeG7XZZkMhyQe8zktCMhpdJNcqAoMQGfKA6mEYjoQnUUGoOXQ+RhEzga3EheFNCeJ0DESYHkViZpBhtGKiMZ8gP2flZ/NnP8+J5vLjvsYrwJfH/0XQR+iuiLboSXFWiUzJaWl7mRY5BvkAhQuKS8o6KrGqx9T61F9pLGrRa3PrSOtq6pnq2xt4GYYaJRjnmhSb1pt1md+xeGL5zmrBBm3LZMdrL7FFyUHb0djJytnexcnV1c3d3cPD09PLy8vba6uXj9c2D183PyeKnb95gH6gWpB0sEAISygudIn6OexV+MOIW8ipPL29Mnp/TDKNEmsUxxX3Ob4noSRxe5J1skjycsrj1JYde9L80jUyGJCzdSmrMDt0p14OS867XVdyi3aH7tHNY89bzkfv09/ffEDz4PlDy0UCh2WOyBcrliiVqpSplqtVqB1Vr9SuMj8WdLz0xFgNW63RSZ+6qFMp9bkNhxorTp9samnuPHO9Zfjsp/NCF6IvDrVJtUd0lHa2dd2/NN29coX9qtI1t57C3nd9ljcqbt679ap/9g72rtiAxb3Awdj7EUOuDzSG+UfoRhYfTj66N3r1cddY9/jVJz1PrzxreX7oRcRL4wmuiblXQ687J+vfVEwdfLtrOvld5Hu/D3YfVWbIMx8/3fxc+1fubNgX+znVr8LfpOZ9vl/5obh4+OfLX1zLHiu1q6tr+wQQAQ+SJTohtU8TeAtJQNuhazAPnA3PoaJRP9B7MEKYG9g4nDzuK76XUEmXRgyk9yA5M3gw+jPFM+eT61mGWH+wS3D4cBZx3ech8dry7eMfFCQJOQofEhkSI4qbSSRI1kk9kP4myyQnKa+qoKWopaSiLKXCr8qkBql9U59Cbqt+rU7tBp1y3Xy9VP0wA29DeyNjYw0TeVNRM25zJgusxZLlrNWU9ZjNgO0Vu7P21VuKHHIcY50ozg4u+q4ybpzuGPcvHs88+70ueB/bmucTu83H18xPlsJC+eH/PKAnsDZoT3B4iF2oApWZ+jXsUXhbRGlkcpTHdvVocvT7mKu0otjAOLV4TPxowsnE+CSzZNbkyZTzqZk77NN40z6kd2XszwzLcso2RXaG9i71XMXdMnvE8gT2cuWT9xH3o/cvF3w/8OXg3KHFItxhziOSxRolpqUOZd7lIRW0o2mVu6sKjx09fupER/VwzeJJqbqtp/LrWxueNK40CTWbnQlt2X+2/dznC2oXd7U+aCd16HVSu8ou3e1evaJ2NeJabc+z68x9hjeoN/NvNfb3335/lzSgcs9rMPt+09DjYeyI6kPfRzmjtY/7xt4+oXuq8MzlefKLqpe3JhZeK03S3lyYmpuWfRfyvubDyxmeTx6fj/41+yXhq9w8eYFuEf758delFerm+tMBDiALLJF6pwTcgbCQBXQImoT14BMoEmoXGocuxIhjrmEDcWTcbfwegj2dAN0i8SF9B+kkQxljIdMB5kJyOctJ1ja2fvYXHItcZG45HnNeCt8O/hKBM4K9Qg+Fp0Q+ic6JzSJZ05hkr9RJ6Z0yXrIKcpDcsHytQqKitZKg0oLyoEqdarqaq7qsBqwxptmsla3tpiOts6w7pFejn2hgbShgOG80YHzSJN3UzUzeHGP+zOKi5V4rP2t1G6LNhG2rXZ69DxIpMA7jjk1Omc7OLmIu31373crdwz10PImeT71Oe6dstfRh93mz7Zxvhp8NhYMy6X8mICXQPIg56GlwXUhMqA4VTR0MKwn3i5CK+BLZEZW53TyaED0Qs49mHYuPvRGXHa8fv5TQnhibJJ/0Prk2xTeVO/XhjoI0y3Q4/UpGeqZlFl/WUvbEzv6cc7sqcnN2R+5xy9PfK55Pyp/f92z/9YLGA4cPZh1KLKQVRR9G0oLimJKY0uiyqHJqhd9R50rrKttjPseTT1RW36j5fJKtTuOUbb1Tg2Oj9+nUpovNSy0WZ4vOvbwgczGhtaed2OHcWdr1tFvocsSVy9dYesJ6r/fx3Ii7OdgvfjvtzsMB6XvZg5NDbg9GRwIezo/uGeMeb35q+Gz0ReaE3WvnNwffLrw/PHPji8vC+Nr6b/xGt9aw6gCcNAfA7TAAzloILgBArB65P3QBcCAB4KIFYK4yAF2OBtBWyT/3Bz8wQu6OnaAW3ECiBxaJH1ZQOLQfakFqvW8wB6wD+8I74Xp4EP6K4kYZoUJRB5H6+zWaiFZHU9D70Z3oaQwbxgwTj1RdY1h6rBE2EXsG+w4njPPFVeFe4IXxofiz+GWCLeE44TudA10zkUSMIg7Ta9KfIBFJCaRJBkeGHkZlxlomLqaDzATmXWSYnM2CYcljZWItYxNju8Buyj7GsZ0Tz1nLZcL1hns3jxzPI94MPlm+Z/wFAqYCy4JdQinC+iIYkfuiR8XCxfUkyBIfJPukqqWzZYJkbeW05OUVFBT1lVyVI1R2IiG/VX1E47sWn7aFToJug95LAy5Dd6My45emkmbx5jctua1CrI/YlNgm2Bnardr3bNnnEOZIdcpxPuvyxo3b3dmjwHPAm7TV0ad425gfI0XF3yLANTAwKCP4dMg7qlJYVvhIpCSy857EaNCKY3/Euyc0JX5K5khRTDXe4ZmWkd6ZScgKzb6Xo76rejfjnvS86XyjfTn7WwsmDjIcsi88e1j1yI0S+9J75ZYVNysdq34c76++Unu+rqQ+pZHa5H3G6CzbuVcXmlsz2rd1el3acbn96mKvVl/kzb39ZXdqB1oGrww9GJ5+hH+sN77/6bcXXhOtk8QpynTXB/yMxGfwV+UX/rnSb7zzbQuRi2o/f/1qW/Fdjx+iwAbEgGLQDV5DeEgecoFSoGqk0v8Cc8HGcDh8BL4Gf0RqdhPkNqlEDaCW0DLoregCdA96HiONoWBKMQ+wRKwFdhe2D4fFWeMO4MbwovhY/A0CLyGRMEqnRXecSEdMJE7Te9DfI5mQuhk0GdoY1Rk7mQyYbiI16jg5iDzHks3KylrPZsA2zh7PwcrRxunFBXM1cXvyEHi6eWORtX7Hf0qAKigv+F2oR/iAiK+oihid2BvxXolayTypWGk/GUdZMzldeQ0FNUV1JW1lYxU7VW+1KPVcjTrN+1orOqq62/XO6M8ZahnlGI+YSphlmD+11LGqtF62dbArsr+z5ZejvFOgc5XLE2SNt3qc8PzgrbZ1p8+Ir5hfLKXbfyVQLygtuCeUQHULOxm+EGkbVbP9V4wnrSOOK35HwpMkxeTUlMupP9O007MyBrOEs5N3juxSzC3Y/TnPfm9j/tJ+w4IdB1oPzheaFlUfIRTTSsbK9MtrjuIrt1eNHtc7UVfDWptXhz1V0MDfeLHJrnmyJekc8fyxi6qtd9r9Oua79nTzXm696t4D97b2UW/y3hq8nXlXdeDDYM2Q9zDzyNVHAY/BWMUTrafPn+9+qTzx8vW+NzpTM9NV7+0/zM/s+bT4l9Xsri/n5ga/vvu2+p1zQeWHy+KOn41LH5Y1V46sr78UcAEZoAGMgBVICln9TKgJGoOxsCrsDx+Ce5AsQgTlhspDXUZ9RUuh/dBl6BEMI8YWk4+5iyVhnbBl2Nc4OVwa7j5eHJ+Ff0WwIJynE6WrILITj9Cz05eTBEh1DIoM3Yy2jC+RfIORuYlsR/7CUsZqyjrHVsPuxkHk6OFM4VLn+s7dyZPBa8XHgaz1ZYEjgjQkA1EV4RZFI3fPpPi4xLDkfaQyfyTzQvaj3C8FsqKskjVyootUr6h90hDUdNcq1B7WZdPz0W80WDJyMG40JZhFmj+2tLa6aWNrO2ZPdQCOFc66Lq/dCjwMPOe9z/nQfNX95vwrAmWCmkOkQ+vCxMMbIhWiOqMtYsZiI+OxCdVJRskvU5PSsOkFmaxZZTuFc5pzdXbfywvIh/adLth6EHuoooj/8JFiXEli6XS5V8VIpUfVt+MN1UG1uJN7677XezS0nmZtimsebdE6W3UecyHq4nibRXtnp2JXY7fo5YqrDNfSej5cd+/ru6l868Rt8p2cuwv3IgbfDPk8GB9xf/h41OXx7XHlJ4VPPz7Xf1Hw8vkrudfpk0NTIm+Tpu+9F/mQ8PHazMpnpb+sZz2/eM7Zf9X9JjKPm3/9vWsh84fej9nFrJ/kn8eXCEsxS+O/jH+V/Xq3rLG8a/nhisgKdaV5ZXZVdTVp9dLa+scGqyivXx8QvTEAmBerq1/FAcAVArB8aHV1qXp1dbkGKTKeAXAtYuN/n/W7hgmAo9fX0M2Uycz//v/lfwCwF8iBW/+7uQAAQABJREFUeAHs3Qt0VdWd+PEfb3kExMShdMJjjYgtIaQMTBwI/w44YAix8rQoUAbpIBCk1oXGDpCC5SEgCyGiYYCiwDgFhpUoLwEfAYQFRtIMlQpxAEEMWC1ieEkL6N/frvdyH+fee+4jkNzz3WuFnLPP3vue/bnnhLPP3vucWt98G4SAAAIIIIAAAggggAACCMRAoHYMyqAIBBBAAAEEEEAAAQQQQMAI0MDgQEAAAQQQQAABBBBAAIGYCdDAiBklBSGAAAIIIIAAAggggAANDI4BBBBAAAEEEEAAAQQQiJkADYyYUVIQAggggAACCCCAAAII0MDgGEAAAQQQQAABBBBAAIGYCdDAiBklBSGAAAIIIIAAAggggAANDI4BBBBAAAEEEEAAAQQQiJkADYyYUVIQAggggAACCCCAAAII0MDgGEAAAQQQQAABBBBAAIGYCdDAiBklBSGAAAIIIIAAAggggAANDI4BBBBAAAEEEEAAAQQQiJkADYyYUVIQAggggAACCCCAAAII0MDgGEAAAQQQQAABBBBAAIGYCdDAiBklBSGAAAIIIIAAAggggAANDI4BBBBAAAEEEEAAAQQQiJkADYyYUVIQAggggAACCCCAAAII0MDgGEAAAQQQQAABBBBAAIGYCdDAiBklBSGAAAIIIIAAAggggAANDI4BBBBAAAEEEEAAAQQQiJkADYyYUVIQAggggAACCCCAAAII0MDgGEAAAQQQQAABBBBAAIGYCdDAiBklBSGAAAIIIIAAAggggAANDI4BBBBAAAEEEEAAAQQQiJkADYyYUVIQAggggAACCCCAAAII0MDgGEAAAQQQQAABBBBAAIGYCdDAiBklBSGAAAIIIIAAAggggAANDI4BBBBAAAEEEEAAAQQQiJkADYyYUVIQAggggAACCCCAAAII0MDgGEAAAQQQQAABBBBAAIGYCdDAiBklBSGAAAIIIIAAAggggAANDI4BBBBAAAEEEEAAAQQQiJkADYyYUVIQAggggAACCCCAAAII0MDgGEAAAQQQQAABBBBAAIGYCdDAiBklBSGAAAIIIIAAAggggAANDI4BBBBAAAEEEEAAAQQQiJkADYyYUVIQAggggAACCCCAAAII0MDgGEAAAQQQQAABBBBAAIGYCdDAiBklBSGAAAIIIIAAAggggAANDI4BBBBAAAEEEEAAAQQQiJkADYyYUVIQAggggAACCCCAAAII0MDgGEAAAQQQQAABBBBAAIGYCdDAiBklBSGAAAIIIIAAAggggAANDI4BBBBAAAEEEEAAAQQQiJkADYyYUVIQAggggAACCCCAAAII0MDgGEAAAQQQQAABBBBAAIGYCdDAiBklBSGAAAIIIIAAAggggAANDI4BBBBAAAEEEEAAAQQQiJkADYyYUVIQAggggAACCCCAAAII0MDgGEAAAQQQQAABBBBAAIGYCdDAiBklBSGAAAIIIIAAAggggAANDI4BBBBAAAEEEEAAAQQQiJlA3ZiVREEIOEjg888/l7/85S8OqjFVRQABBJwn0KBBA7n99tudV3FqjECUAjQwogQkuzMFtHGRnJzszMpHUOtPPvkEL5tuX331lVy6dEkSExNt5nB2sjNnzkijRo2kYcOGzoawWXvORZtQ3yVTLwICCIQvwBCp8M3IgQACCCCAAAIIIIAAAgEEaGAEgCEaAQQQQAABBBBAAAEEwheggRG+GTkQQAABBBBAAAEEEEAggAANjAAwRCNQ3QQuX75c3XaJ/UEg7gUqKyvjvo5UEAEEEIi1AA2MWItSnuMEdu3aZSbkdurUSTp06CB333237NixI6DDF198IUuWLAm43XfDBx98IP/v//0/6dOnjyl7/vz5vknc66tWrZI5c+a412viwpo1a+Q3v/lNTdx19jmOBLRBr+f0sGHD5JtvvjE1++///m+ZOXOmXy3j6ZiNp7r4fVFEIIDADRPgKVI3jJoPilcBvfjo1auXrF+/3lTxf//3f+WnP/2paMPje9/7nrk4OXnypDRt2lRuvfVW0QbDW2+9JQ8//LDoIxA1v+d2T6ezZ8/KgAED5LXXXpMf/vCH8vXXX5vGRnp6uvz4xz82SbXBctttt5ll3X7t2jWzfOXKFVN2/fr1zW99OlG9evXMtgsXLpjlJk2aiH6GPoVH90XzaNCnGF29erVKnmTk+oxA+zB48GBTT1e6qtwXU9lq/I/LIJCV7rrV8XPx4kXzfdatW9d8p/pdOuEpSy4vq2PG8zwJ9JV7pikvL5ekpCRzXteqVctk0fNLf/T70KDnj4ZQx6ym16ddtWrVSmrXrl739Xz3zfNviD4tT4+vW265xdTzyy+/NH/DdEXzuervuazHXuPGjU16/kEAAecK0MBw7ndPzatI4Ec/+pH88z//s7z55pvyL//yLzJ06FBJSUmRd999V8aOHWsaGL///e/l9ddfly5duvhtnzBhgnvP3nnnHbnnnntM40Ij9eJk+/bt5mJRL6b69+8vCQkJohdGTz31lDufLrzyyitSUVEhU6ZMkY8++khycnLkZz/7mbz44ovmQue9996TgQMHyrFjx+To0aOydu1aKS0tlaVLl0qzZs3kxIkTMnHiRPn3f/93r3KjXVm3bl3QfVAbvbhr3759le9LtHWp6vyhrPRCzvf40uNHv/udO3fK6tWrJSsryxwb2gMW70G9fI/ff/u3f/M7T3r37u1FYXUu/e53v5MjR47IihUrxPOc3LBhg4nfv3+/PP300/LAAw/I//zP/wQ8ZvU4zs3NldTUVCkrKzM3F/T8qg5Bb4L47ptrv/RvxoMPPigvvfSS3HHHHfLII4+YxtWf//xn+dWvfiVPPvmk+Rum6f/u7/7O/L3Qmyj9+vWT3bt3u4rhNwIIOFSget1KceiXQLXjT0CHSh0/flz0jt+zzz5rLnrmzp0rGzdulNGjR5uhTtozYbXdU+Pw4cPSunVrzyhzd1AbGlu2bJFu3bqZhsHLL78szzzzjFe6QCtt27YVHQYxadIk0/AoLCyURx991JSnefROt15E6QWWXrBVRQi1D67PvBH74vqs6vo7mFWg40cvBvWu8pAhQ+Sf/umfzPC66lq/WO+X7zFj5zyxSqMX3mlpaV6NC93Xv//7vxcdirht2zZzoe27/76fv2fPHsnIyJB58+ZJQUGBu4fRN9/NWA+0b3pzQXthtYGqf8u0rnoc6t+ZlStXyqJFi+S+++4zN1G0N1ad3n77bXPzQxsYBAQQQIAeDI4BBKpAQF/O9I//+I9mCMHkyZPNMJWWLVuaYUeeH6dDDIJtv+uuu0yjxDOPDrHSIS/6n772YGjQix7thdDhDVbBM17vRmrQ4Vp6V1WDDpE6ffq0tGjRQnT4lQbd/te//tUsx/qfYPvg+Vk3Yl88P686LgezCnb8aO9TZmamudteHetVVfvke8xYnSc6jLBOnTruXQiUxp3AY8FVvg538jyvXElc213nj34PM2bMMDcD2rRpY3pEXGlv9u9A+1ZcXGyGXeqwSg26vnfvXjlw4IBZ1+GUP/nJT+T55583jjpnyjVEVBtmBAQQQIAeDI4BBGIsoBf6RUVF5j/ghQsXyqBBg2Tr1q1mnLbrwsY1T8Jqu+fu6ORuHW6gPRkadCjHz3/+c3N3Wud96B1IDdpbov/pe47v1nHTOpxBw6FDh8xv/cfzwsod6bHg2q5jr6squD4jVPmudFW5L6H24WZvdxlY7Ueg40cvDHUYy3/+53/KmDFjzDh6q/zxGOfych0zVueJK42r/nbSuNLqHCsNH374oXTt2tUV7f7tKtv1+dp40WFseg5rg17/NlSXEGjfRo0aJcuWLTN/a/RvTs+ePc2cr1dffVV++9vfmh6Lzp07mzrpUCrtzdC/MTqkTHs8CAgggAA9GBwDCMRA4I033jBPnNGeBR0Xr0MJbr/9djNBe+rUqWY8vA6d+Pzzz0XvYpaUlEh+fr7lds/d0cnbWpbOg9DJ2jok5qGHHpLu3bubidibNm0yZWijRi8mtaHhCjp3Y9asWaaXQ8txXfC4tvO75gvoMDvf40trpXeRhw8fbo4bvSBesGCBGRJX82scfg2ys7PF9zzRUrSXUeel6IVxoDRWn3bu3Dkz9EyHoNl52plecI8fP970Dp46dcrMa7Iq92bEWe2b66aFNp604aV/Q/7jP/7DDJvUmyX62N5f/vKXZnd1DplOBNegc020l5aAAAIIqECtby86qu42JcYIxKmAXpwkJyfbqp32VugjLz2frKJDK/RHn/Jjtd2qYM8ntXhu1yfm6BAnq6Cn9/nz580TrKy236i4cLxu1D5V18/R3gf9ThMTE23tot3jx1ZhNTCRPp1Jj39twAcLwc4TVz47aTStDh3UBn84QRsmOgn6Zgerc9HuvunfMdcTpW52PW7U51t53ajP5nMQqMkC9GDU5G+Pfa8RAjpkwrNxoTutQ5lcw5mstltVzPVISN9tgRoXmk4fr1kdLmp895n12AnYPX5i94k1s6Rg54mrRnbSaNpwGxeapzqfh3b3zWmNC/3eCAggEJkAczAicyMXAggggAACCCCAAAIIWAgwRMoChSgEQglotznBvoCO09ZJ6ITQAjp0Toc9uV6KGDqHs1PoJGTtxXH1CDpbI3TtORdDG/mmsDsc1jcf6wg4WYAhUk7+9ql7VAL8p2Ofj3HM9q3CnYNhv+T4TGl3DkZ81j78WnEuhmfGzaTwvEiNgEuAIVIuCX4jgAACCCCAAAIIIIBA1AI0MKImpAAEEEAAAQQQQAABBBBwCdDAcEnwGwEEEEAAAQQQQAABBKIWoIERNSEFIIAAAggggAACCCCAgEuABoZLgt8IIIAAAggggAACCCAQtQANjKgJKQABBBBAAAEEEEAAAQRcAjQwXBL8RgABBBBAAAEEEEAAgagFaGBETUgBCCCAAAIIIIAAAggg4BKggeGS4DcCCCCAAAIIIIAAAghELUADI2pCCkAAAQQQQAABBBBAAAGXAA0MlwS/EUAAAQQQQAABBBBAIGoBGhhRE1IAAggggAACCCCAAAIIuARoYLgk+I0AAggggAACCCCAAAJRC9SNugQKQMChAl999ZVDax5+tb/++mvBy57bX/7yF7l69Spe9riMlZoR7AlwLtpzIhUCCEQnQAMjOj9yO1jg0qVLDq59eFW/du2a4GXPTBsXV65cwcsel7HSpHqMEUILcC6GNiIFAghEL0ADI3pDSnCoQGJiokNrHn61tfcCL3tuaqWNMbzseZ05c0YaNWokDRs2tJfB4ak4F8M7AD755JPwMpAaAQSMAHMwOBAQQAABBBBAAAEEEEAgZgI0MGJGSUEIIIAAAggggAACCCBAA4NjAIEYCVRWVsaoJIpBAAEEEEAAAQRqrgBzMGrud8eeVxOBy5cvS3p6urRq1UrS0tJk165d8s0338iaNWtMXDXZTXajigSmTJkiO3fuDPidP/XUU/L+++9L48aN5dlnn5W2bduatDk5OXLs2DGpVauWrFixQr7//e9X0R5Wn2L1CUaPPvqoqbfOmZg6dap06dLFvYNW23/0ox9Jbm6u/P73v5cmTZoYq9tvv92dhwVvgeeee05eeuklE6kTuvWBAR9++KF3ItYQQACBKhagB6OKgSk+/gXKy8slKSlJHnvsMTlx4oTs3r1bJk+eLHl5efFfeYfXUBsWx48fD/idHzhwQPT42LJliwwfPlwWLVpkxHbs2CHNmjWTbdu2ydChQ2XhwoWOkNy4caPUr19ftm7dKrNnz/Y7R6y2v/HGG/Lll19KcXGxPPnkk6aB4gisCCv5+OOPyx/+8Afz88ADD8jDDz8csCRtfOjPn/70J5PmwoUL5m+YNvQICCCAQDQC9GBEo0deBL4VyM/PlyNHjkhBQYEMHDjQmGRlZcmkSZPwiXOBkpISyczMDPid65OgKioqZO/evbJ9+3Zp3769SdurVy/Rn1OnTpmL7ezs7DiX+lv1+vXrJ3379jUr58+fl3PnznnV22q7Gvfo0cOk0x7C0tJSrzysWAto4/btt98WbcwGCtrLqn+/NIwZM8b0DqWmpkpZWZm89dZbphEcKC/xCCCAQDABGhjBdNiGgA0BHb7x2WefSZs2baR58+YmR+3atYWXf9nAq+FJtPHwgx/8IOB3rkN6kpOT5ZlnnjE9HT/72c+8ajx//nw5dOiQ6HApJ4R69eqZauqjP/WCVhvlnsFqe0JCgowePVratWsnRUVFcvbsWc8sLAcQ0OF4TzzxhOjfomBBG72vvPKKOUYzMjLMsDW9YcJ7RYKpsQ0BBEIJBP/LEyo32xFAwC2gjQsdYqBB52DohREh/gTGjRtnLnY7d+5sGpTBvvNly5bJ3XffLRs2bDA9FY888ogXyIIFC2TTpk2OaWBo5XXeifbY6HCx7t27e3lYbdc76osXL5bXXntNtIfjrrvu8stDhLeANsL2799vnL23+K+5etUmTpwodevWlW7duplGhr4vg4AAAghEKkADI1I58iHgI6CTVXX+hYZ9+/ZJSkqKTwpW40FgyZIlZkicDiMJ9Z3fdttt7hfA6Z1knXehQYemzJkzxyzrQwJatmxpluP9Hx0SNnjwYFm5cqX07NnTr7pW2/VC+ejRo6K9PfpCvTvvvNMvHxHeAjosqk+fPlKnTh3vDRZrrh4O13ygw4cPizbqtLeIgAACCEQqwBCpSOXIh4CPgN6V1XH2+vv06dNSWFjok4LVeBOw+s51+I9e3OnQp4ceesgMBRoxYoQZ2vP0008bggEDBphJ30OGDBG9Uzxjxox4o7Gsz6xZs0R9Ro4cabbrHJXVq1e7vay264Tw6dOnm14gnbOhjRNCcIEPPvhAOnbsGDyRz9YOHTrI+PHjpUWLFmZukPZoEBBAAIFIBWp9O5Tjm0gzkw8BpwroRZKOrbcKesGoj+AkXBcI5nU9Vc1dCvWdB9p+6dIlc1fes+aaVuP14ptwXeDixYvmUb/XY/62dObMGWPIOecrY70e6lzURlzTpk2tMzswNpSXA0moMgK2BBgiZYuJRAjYF+BCx75VvKQM9Z0H2q5Dfgj2BPQ9IoSqF6BxUfXGfAICThCggeGEb5k6IoAAAggggAACCCBwgwSYg3GDoPmY+BPQoRkEewL6Mi+87FldvXrVvPwML3teOqRMzXRYGSG0AOdiaCNSIIBA9AI0MKI3pASHCjC8xf4Xr+Pn8bLn5Xp/Cl72vLRx0aBBA/NjL4ezU3Euhvf9awOWgAAC4QvQwAjfjBwIGIFA4+rh8RfQR2Hi5e8SKEZfcoZXIB3veO250AYGXt4ugdY4FwPJEI8AArEUYA5GLDUpCwEEEEAAAQQQQAABhwvQwHD4AUD1EUAAAQQQQAABBBCIpQANjFhqUpajBSorK9315/UybgoWEEAAAQQQQMBhAjQwHPaFU93YC1y+fFk6deokw4YNE21YrFu3TkaNGhX7D6LEaikwZcoU6dGjh2RkZMjJkye99vHrr7+WnJwc6du3rwwcOFBKS0vd2/WN1MOHDzdvsfaMdyeI44VTp06ZN0arj2fQuSeTJk2SXr16yU9+8hP5/PPPJZihZ16WvQUCGXunYg0BBBCoGgEmeVeNK6U6SKC8vFySkpJk/fr1ohebRUVFkp6e7iAB51Z1586dcvz4cdm9e7ds3rxZ8vLy5OWXX3aDbNy4UerXry9bt26VQ4cOmYvnLVu2yLvvviuvvvqqOVaOHDli8nTp0sWdL54XtBE+ceJE0caEb3jjjTfkyy+/lOLiYtm1a5c8+uijpuFuZeibl/XrAsGMr6cS8zhkXf/iiy9Mg+/ChQvmcdKtWrUSnQxOQAABBCIV4C9IpHLkQ+A7gfz8fNGLxBUrVkjXrl1l+fLl2DhEoKSkRDIzM01ts7KyZN++fV4179evn8ydO9fEnT9/Xs6dO2eWX3/9dZNv8eLFcuzYMZkxY4ZXvnhe0fMlOztbEhMT/aqpntobpCEtLc30+AQy9MtMhFsgmLE70bcLa9aske7du8t9990nS5culd69e8vMmTPNDRLPIZ+eeVhGAAEE7AjQwLCjRBoEggjk5uaai6EJEybIoEGDuPMXxCreNlVUVEjz5s1NtfSOr+sdFq561qtXzzxC9ZNPPpExY8bIvHnzzKbTp0/LsmXL5NZbb5W1a9fKtGnTXFni+vfBgwdl7969Mnr0aMt66jCyF198Ud555x15+umn5ezZsxLI0LIAIiWUsS9R+/bt5b333jM9FzrMT4/RgoICyx4m37ysI4AAAoEEaGAEkiEeAQQQsBAYN26ctGvXTjp37mwaFzqsRIMOS0lISPDLoT0Uesd+0aJF5m6xJtB0Dz74oIwYMUKef/55M7zOL2McRowdO1Zat24t8+fPN40HvdPuGVJTU0V7dV577TXRnou77rrLbLYy9MzH8nWBUMbXU/5tSRsYGnTYWt26daVbt24ydepU4QVzf/PhXwQQiEyABkZkbuRCAAGHCixZssQMiSsrKxOdN6HzLzTo8KiUlBQvFZ1oO3jwYNEJ3T179nRv06F0H3/8sVn/9NNPpXHjxu5t8bygF646P6lt27amZ6JNmzZe1d2/f78cPXrUNED0TeZ33nmnBDL0ysiKWyCUsTvhdwuuuRbbtm2ToUOHyuHDh0UbejqXjIAAAghEKsAk70jlyIcAAo4X0J6J7du3mx4KHfZUWFgoOhyqT58+ZlL3rFmzzPrIkSONlc470AnMDzzwgBw4cMA8bUwbKi+88IIjLHWeiivoAxH69+/v5aUXttOnT5cNGzaY+SraMNN1NfU1dJXDb28BK2PvFNZrHTp0kPHjx5vJ3tqo0x4NAgIIIBCpQK1vu/W/iTQz+RBwqoBe8CQnJzu1+mHXO969dDhJw4YNw3bRRxw3aNBAatWq5c6rZV26dMlyErQ7UZwvXLx40XavzpkzZ0R7OyLxj3NGy+qFOhf1QQRNmza1zOvEyFBeTjShzgjYEaAHw44SaRBAAIEgApFe3N5yyy1BSnXuJqcMGauO3zCNi+r4rbBPCNQ8AeZg1LzvjD1GAAEEEEAAAQQQQKDaCjBEqtp+NexYdRbQbnOCfQF9fKsOBSKEFtA3V+tL6PTxrITQAleuXJE6derweOjQVCYF56JNKI9kDIf1wGARAZsCDJGyCUUyBHwF+E/HVyTwOuOYA9v4bmEOhq9I8HXmYAT38d3KuegrEnydm0nBfdiKQCABhkgFkiEeAQQQQAABBBBAAAEEwhaggRE2GRkQQAABBBBAAAEEEEAgkAANjEAyxCOAAAIIIIAAAggggEDYAjQwwiYjAwLWApWVldYbiEUAAQQQQAABBBwkQAPDQV82Va0aAX1ZWqdOneShhx4yb8Lt27evDBw4UEpLS6vmAym1WgnoG6l79OghGRkZcvLkSct90zcjt2jRQvQJUa6gb6kePny4eeu3U44Vfa+rvi06MzNT9DxRF9/g62knj28ZTl+/5557JC0tzfzwRm6nHw3UH4GbI0AD4+a486lxJFBeXi5JSUkyatQo8yjWrVu3yuzZsyUvLy+OaklVrAR27twpx48fl927d8vkyZMtv3O9QNaLPH30rCu8++678uqrr8orr7wiBQUFUlRU5NoU17937NghzZo1k23btsnQoUNl4cKFXvW18gyVx6sAVsxb4M+fPy8HDhwwP88//3xAFX3Er/786U9/MmkuXLggJ06c8GoIB8zMBgQQQCCIAA2MIDhsQsCOQH5+vhw5ckQ+/fRTmTt3rsmi/8GfO3fOTnbS1GCBkpISczdeq5CVlSX79u3zq40eH9nZ2ZKYmOje9vrrr5t8ixcvlmPHjsmMGTPc2+J5oVevXjJnzhzTc6EN8Y4dO3pV18ozVB6vAliR999/X5o3by7Tp0+X1atXi773IlBYs2aNdO/eXe677z5ZunSp9O7dW2bOnCnp6enCkM9AasQjgIAdARoYdpRIg0AQgdzcXDMU4Re/+IXpwdDnpo8ZM0bmzZsXJBeb4kGgoqLCXMxpXWrXru13MXfw4EHZu3evjB492qu6p0+flmXLlsmtt94qa9eulWnTpnltj/eV+fPny6FDh6RNmzZeVQ3mGSiPVwGsmIZB69atTaNBezEee+yxoCrt27eX9957T/R9IjrMT/9uaa+aZ49b0ALYiAACCFgI0MCwQCEKgUgF9G603q1etGiRuTMYaTnkq74C48aNk3bt2knnzp1N40KHlWjQoVAJCQleOz527FjRiz29OD579qxob4YGTffggw/KiBEjRIewrF+/3itfvK8sWLBANm3aJDk5OV5V1TvvgTwD5fEqgBW59957Zfny5dK1a1czVHPz5s1BVbSBoUGH8dWtW1e6desmU6dOFX3hIwEBBBCIVIAGRqRy5EPAR0AnrA4ePFh08m7Pnj19trIaLwJLliwxQ+LKysqkS5cuZv6F1k2HR6WkpHhVUy/UdLhJ27ZtpV69eu479nrx9/HHH5u0OrSucePGXvnidUWH5OgQKQ36cISWLVt6VdXKM1QerwJYMT1irt7Tjz76SFwNiEA02vOmwTUv5vDhw5KamuqYeUGBXIhHAIHoBGp9e9ftm+iKIDcCzhPQYVDJycmm4jrJ+4knnjB3qtetW+e+aNIx98XFxc7Dsaixp5fF5hobpX8+dQjK0aNHRYc9FRYWmrvAffr0MUOAPCt21113mTi9oNPhJ9r40DzaUHnhhRfMk6g0vd45vnTpktecDc9yavKyNir0yVm1atUy9VSDVq1amSdp6ZApK8/vfe97fnn0Lrsr6NCeRo0aScOGDV1Rjv6tx8+wYcPMkD011bkV+pQzV/A8F3WOhj6kQB9IoWn1CV/6tDO9WfJf//Vf7gaxK68Tf3t6ObH+1BmBSAVoYEQqRz5HC/CfTnhff7x76UVdJBe4esHdoEEDc8HtEo3nBoarjtqA0kZBoGDlGSgPDQxrRR1qpj1j2pjzDKHORX04RdOmTT2zOHo5lJejcag8AkEE6gbZxiYEEEAAARsCkTQutNhbbrnFRunxlyRY40Jra+UZKk/8KUVXoyZNmkRUAI2LiNjIhAACPgLMwfABYRUBBBBAAAEEEEAAAQQiF2CIVOR25HSwgHabE+wL6LP4dSgQIbSAvu1b52jopHBCaAF9UVydOnXMnIPQqUnBuRj+MeCabxd+TnIg4FwBhkg597un5lEK8J+OfUDGMdu3csIcDPsaoVMyByO0kWcKzkVPjdDL3EwKbUQKBKwEGCJlpUIcAggggAACCCCAAAIIRCRAAyMiNjIhgAACCCCAAAIIIICAlQANDCsV4hBAAAEEEEAAAQQQQCAiARoYEbGRCQF/gcrKSv9IYhBAIGYCvBc2ZpQUhAACCFSpAA2MKuWlcCcI6MvSOnXqJA899JCMGzdOMjMzpW/fvuZtuE6ov5PrqE98ysnJMd/3wIEDpbS01JJD34ysb0jW9J4hULxnmnhbnjJlinmzdEZGhpw8edKyelYu69atk1GjRlmmJ/K6gN1jUnOsWrVK5syZcz0zSwgggECMBGhgxAiSYpwrUF5eLklJSfKLX/xCbr31Vtm2bZsMHTpUFi5c6FwUh9R848aNUr9+fdm6davMnj1b8vLy/Gqud90nTpxoHj3ruTFQvGeaeFveuXOnHD9+XHbv3i2TJ0+27aVpp02bFm8cVVIfO8ek64Ndj0TWdX3z94kTJ/wawa60/EYAAQTCEaCBEY4WaRGwEMjPz5cjR47I0aNHzd1AvfuqF5wdO3a0SE1UPAn069dP5s6da6p0/vx5OXfunF/19PjIzs6WxMREr22B4r0SxdlKSUmJ6eHTamVlZcm+ffv8amjl0rVrV1m+fLlfWiL8Bewck765du3aJb1795aZM2dKenq6MNzTV4h1BBAIV4AGRrhipEfARyA3N1fS0tJkwoQJZsv8+fPl0KFD0qZNG5+UrMabgL4MT18gqM/KHzNmjMybN8+rigcPHpS9e/fK6NGjbcV7JYrDlYqKCmnevLmpWe3atUVf+uYZAnkNGjSIF+l5QgVZDnVMWmXds2eP6JA1PX4LCgr8etus8hCHAAIIBBOggRFMh20IRCCwYMEC2bRpkxmbH0F2slRzAZ1n065dO+ncubPZ02PHjpkeikWLFkn37t299n7s2LHSunVr0Ubn2bNnRe/OawgU75U5Dle0caFDcTToELGEhASvWjrVxQshBivBjkmr4nUIX926daVbt24ydepU0Zc9EhBAAIFoBGhgRKNHXgQ8BNasWeOeMKkTv1u2bOmxlcV4EViyZIkZEldWVmYm8g8ePFhWrlwpPXv29KuiXqzpkJO2bduK3ll29WoFivcrIM4iunTpYuZfaLV0eFRKSopXDZ3q4oUQ5YoO0Qx2TFoV75o3dvjwYUlNTZWioiKrZMQhgAACtgXq2k5JQgQQCCowYMAAGT58uAwZMsTcAZwxY0bQ9Gys+QKzZs0yw6NGjhxpKqPzLFavXi19+vQxw+R0noEr6NOT+vfvb1YDxbvSxutvnYuyfft20+Nz+vRpKSwsNH6hvOLVoyrqZXVMFhcXB/2oDh06yPjx482TzrSBoj0aBAQQQCAagVrfdlN/E00B5EXAiQI65j45Odmy6pcuXZJGjRpZbnNqZDAvp5oEqrcOT9FjyHdSeKD0NTFe69iwYcOY7PqZM2fM+Rar8mKyU9W4kGDnoj6koGnTptV472/8rgXzuvF7wyciUHMEGCJVc74r9rSGCNC4qCFfFLt50wRoDNw0+qAfTOMiKA8bEUAgDAGGSIWBRVIEPAWYCOmpEXxZn7ePV3Aj11Z9stLVq1fxcoGE+K1Wvk+jCpHF0Zs5Fx399VN5BG6YAA2MG0bNB8WbgA5jIdgTuHbtmhn2Yy+1s1PpBfOVK1fwsnkYqJUGPcYIoQU4F0MbkQIBBKIXoIERvSElOFQgnsfIx/or1d4LvOypqlW8z8GwJ2EvFXMw7Dm5UnEuuiTs/dY5GAQEEAhfgDkY4ZuRAwEEEEAAAQQQQAABBAII0MAIAEM0AggggAACCCCAAAIIhC9AAyN8M3IgYClQWVlpGU8kAgj4C0TyhPRI8vh/MjGeAhcvXjRzfjzjWEYAAQSiFaCBEa0g+R0voG/t7tSpkwwbNkz0AkhfVNWiRQvRp7UQ4ltAv+OcnBzp27evDBw4UEpLS70qrMeDvsAsMzPTpNFjwxX07d/6YkZ9yZxvPleaeP29bt06GTVqlF/1gnkFyuNXiMMjghn60pSXl8uLL74o77zzjuiLD6MJX3zxhehb7m9GWLNmjfzmN7+5GR/NZyKAQAABGhgBYIhGwK6A/iedlJQk69evN1n0Lbg80cauXs1Ot3HjRqlfv75s3bpVZs+eLXl5eV4V2rFjhzRr1ky2bdsmQ4cOlYULF5rt7777rrz66qvyyiuvSEFBgRQVFXnli+eVyZMny7Rp0yyrGMgrWB7LghwcGcjQiuTTTz8Vbejqcak9Ga6g8Z43SL788kvXJvNbn9ylP9prq5PsNXzwwQfy1ltveT0y2DOfK8+f/vQnk971j8b/9a9/lT//+c+iN2t8g2cZuk0bUB9//LF4xuu+uv7m6iOLrcrxLZd1BBCoWgGeIlW1vpTuAIH8/Hw5cuSIrFixwry/IDs7Ww4ePOiAmlPFfv36mZ4JlTh//rzom5A9Q69evUR/tOdCGyF6bGh4/fXXTa/G4sWLpX379jJjxgzPbHG93LVrV+OwdOlSv3oG8gqWx68Qh0cEMrRiueuuu0wPnB6fd9xxh1y4cEHuv/9+uf3226WiokKee+450WNUL+C1AfCrX/1K/uVf/kW0N0m/P208nzhxQvSmSllZmfz+9783x3ZWVpY88sgjXvm0UaB/KzVoo1q/Uw1a1oIFC6RNmzam4fDrX//a7IM2FHzL+Id/+AfTUE9JSRFtpI8dO1YmTJhgytF/PvroI3nwwQflpZdekg4dOrjjWUAAgRsvQA/GjTfnE+NMIDc3V9LS0sx/vHv37pXRo0fHWQ2pTiCBevXqSYMGDUQfZTlmzBiZN2+eZdL58+fLoUOHzEWUJtDhKMuWLZNbb71V1q5dG/COvmVhNTxy0KBBUrt28P96fL3s5KnhLDHffV9Dqw/43ve+ZxoYM2fOlFq1apmbJHfffbc5JpcvXy6bNm2Stm3byssvv2x6OhYtWuQuRt/GvmHDBvnd735nGgn6d0/zDhgwwPTYWeXTxvR7773nbly4Cvv+978vhYWFprwnn3zSRGuvn28Z2mvx7LPPmsbN3LlzRXsQXUEbOj/96U9l9erVNC5cKPxG4CYK0INxE/H56PgS0LtpGRkZov+xnz171tyt++UvfxlflaQ2Mm7cOHnzzTclISHB3LU9duyYmX+hF1/du3e3FNI7tHoHV+/s/vGPfzR59U7riBEjRC+e9W4uY8iv0/l6Xd/Ckl2BSAz1Ir1bt27mI37wgx+YHjm9aXLgwAETp41pHaKkIT093fzWRrIOcfIMxcXFYpVPGxhWQRsmGrShoe+A0c+wKqNx48aiw+V0WFXLli1Nj7GrPE1/2223ib7ng4AAAjdfIPhtpJu/f+wBAjVGYOrUqeY/Xb3rpne2tcufEH8COpFVh8TpkBAdWjJ48GBzd7dnz55+ldXJp3PmzDHxOi5cL4o0aINCGxwadLy7XjgRRAJ5YWNfIBrDf/3XfzU9DPppJSUl8vnnn8uPf/xjM1/ot7/9remp1Z4ODXXq1DG/XQ0OXXfNg9BzwSpfoJ4r7dXQcPToUTOfTT/DqgxtxGuDXIcb6nnn+jzNqw8N0F7Bn//85zwVS0EICNxkARoYN/kL4OPjR0DvTg8ZMsT8NGnSRPr37x8/laMmlgKzZs0yw6NGjhxpniSm4991uNQPf/hDk16Hi+jFkx4Xjz/+uHuuxQMPPCB6jOhFkT59Sse6OzXY8XKqTST1DnTM2Smrd+/e8tlnn5mLeH1ggc650EncelGvw49SU1MDFqM3VLRRovMs9KlqdvNpgf/3f/9nnqamn6PzMzRYlaF106Fbet5s3rzZNIBM4u/+0Ya7noN6XhIQQODmCtT69u7D3/o7b+5+8OkI1CgBvShKTk6uUft8M3fW6V467KNRo0Z+X4H2auiwE9ddYU2gQzw0fWJiol96p0QE8rKqv17Iqq3OCSBcFwhkaOdc1OPylltucRfmu+7e4LOgk8H1p27dv42+tpNPn6SmPYI690K/Q89zQYv3LUN7LTTuRvX62fHyYWAVAQS+FWAOBocBAgggUMUCVo0L/UjPi7gq3oUaVXwgrxpViZu8s9EY+h6XvuuBqqZDoDyHQdnJp4951nSB9te3DB2KdaMaF4HqSTwCCIQWoIER2ogUCCCAAAIIIFAFAjpckIAAAvEnQAMj/r5TanSDBFwvmLpBH1ejP0af+oKXva/w6tWrZpIqXva8dEiZmumQIEJoAc7F0EakQACB6AVoYERvSAkOFQjUpe9QjqDV1rcE4xWUyL1RXzCmAS83SdAFbVzoPBb9IYQW4FwMbeSZgsfeemqwjIB9ARoY9q1IiYCXAJNKvTiCrui4bLyCEnlt1ImseHmRBFzRngttXOAVkMhrA+eiFwcrCCBQRQI8praKYCkWAQQQQAABBBBAAAEnCtDAcOK3Tp0RQAABBBBAAAEEEKgiARoYVQRLsc4TqKysdF6lqTECN1CA1zbdQGw+CgEEEIhCgAZGFHhkRUAF9KVPnTp1kmHDhpm3yKalpYn+TJw4ESAHCEyZMkV69OghGRkZcvLkSa8a60vHcnJyzFuJ9Y3dpaWl7u1PPfWU9OvXT/QxncePH3fHx/vCPffcY86PQOfIypUrZfjw4ebNzp5e69atM29wjnefWNQvlHEsPoMyEEAAgWACTPIOpsM2BGwIlJeXS1JSkqxatcpcSB44cMBGLpLEg8DOnTtN42D37t2yefNmycvLk5dfftldtY0bN4q+SGzr1q1y6NAhmTRpkmzZskX0GNHjRpdfffVVWbRokTz33HPufPG6oBOyz58/b+pvVcd3333XeBQVFZm3O6tlly5dZPLkyaJx6enpVtmI8xAIZeyR1DwOWde/+OILadGihVy4cME8TrpVq1ZeL8zzzMMyAgggYEeAHgw7SqRBIIhAfn6+uRiaM2eONG/eXKZPny6rV68W1+NGg2RlUw0XKCkpkczMTFOLrKws2bdvn1eNtIdi7ty5Jk4vrM+dO2eWExMTpaKiQvbu3Svbt2+XNm3aeOWL15X3338/6Dny+uuvG8/FixfLsWPHZMaMGYaia9eusnz58nhliWm9Qhl7ftiaNWuke/fuct9998nSpUuld+/eMnPmTNOQY8inpxTLCCAQrgANjHDFSI+Aj0Bubq4Z8tGnTx9p3bq1+c9a71A/9thjPilZjTcBbSRoo1KDPv7Tt1FZr1498wjVTz75RMaMGSPz5s0zaZs0aSLJycnyzDPPiPZ+3H333SY+3v/Ri9Zg58jp06dl2bJlcuutt8ratWtl2rRphmTQoEHcUbd5cIQy9i2mffv28t5775meCx3mp8doQUGB6KOSCQgggECkAgyRilSOfAj4CNx7772iPxp0TsYdd9zhk4LVeBAYN26cvPnmm5KQkCADBgwww0q0XjoBWeN8g96J1/kXOgxK7xZr0ItobVT86le/klOnTpm79nrnOd5DqHNE/R588EEZMWKEaKNCey5+85vfxDtLTOsXytj3w7SBoUHnjGmPUbdu3UyP2ooVK3yTso4AAgjYFqAHwzYVCREILqB3XF13qD/66CNx/ccdPBdba5rAkiVLzJC4srIyMz9AeyA06PColJQUr+po42Hw4MGiE5d79uzp3nbbbbe5XwynPR/NmjVzb4vnhVDniDYoPv74Y0Pw6aefSuPGjeOZo0rqFsrY90P1+NOwbds2GTp0qBw+fFhSU1PNnBfftKwjgAACdgXowbArRToEQgjcf//95klSekGpE3p1TDMhvgWys7PNHAr9rcN7CgsLRYdD6XA5PQZmzZpl1keOHGkgdO5FcXGxPPTQQ2bIlN6pP3v2rDz99NPxDfVd7azOEU8vfaKWDi8cNWqUaAPuhRdecIRLLCtpZWyn/A4dOsj48ePNZG9tGPMUPDtqpEEAgUACtb7t1v8m0EbiEUDAWkAvinQMvVXQJ7HonddatWpZbXZkXDCveAD56quv3D0S4dTHKp/G6ZOAtDESryHUOaKPfm7QoIGtc+jMmTPSqFGjiPzj1VfrFcg41LmoDyJo2rRpPNOEVbdQXmEVRmIEHCRAD4aDvmyqemMEdAIvwVkCDRs2jKjCkeaL6MOqUaZQ58gtt9xSjfa2Zu5KKONAtaJxEUiGeAQQCEeAORjhaJEWAQQQQAABBBBAAAEEggowRCooDxsRsBbQbnOCfQF9fKsOeSGEFtC3f+sjQvURt4TQAleuXJE6derwGNvQVCYF56JNKI9kgYbDeiRhEQEEfAQYIuUDwioCdgX4T8eulJiJznjZ83LCHAx7EvZSMQfDnpMrFXMKXBL2fnMzyZ4TqRDwFWCIlK8I6wgggAACCCCAAAIIIBCxAA2MiOnIiAACCCCAAAIIIIAAAr4CNDB8RVhHAAEEEEAAAQQQQACBiAVoYERMR0YEvAUqKyu9I1hDAAEEEEAAAQQcKMAkbwd+6VQ5tgL6UrD09HRp1aqV6JuI33jjDfnss89kzpw50qVLl9h+GKVVewF9CtSjjz4qx44dMy9/mzp1qt9x8Nxzz8lLL71k6qJPjNInIX344YfVvm6x2MEpU6bIzp07Rd/xumbNGnPeuMrVuJycHGOnL6pcsWKFrF271rFWLpdwfts5/lzlrVq1SvSt3b/61a9cUfxGAAEEYiJAD0ZMGCnEyQLl5eWSlJQkubm58tprr8krr7wiBQUFUlRU5GQWx9Z948aNUr9+fdm6davMnj1b8vLy/Cwef/xx+cMf/mB+tFH68MMP+6WJxwhtWBw/flx2794tkydP9rPZsWOHNGvWTLZt2yZDhw6VhQsXilOtIv3+7Rx/rrJdj0TWdX3z94kTJ0TjCAgggEC0AvRgRCtIfscL5Ofny5EjR2Tu3Lly//33y+LFi6V9+/YyY8YMx9s4EaBfv37St29fU/Xz58/LuXPnAjIcOHBA3n77bdELayeEkpISyczMNFXNysqSSZMmeVW7V69eoj96V10baNnZ2e7tTrNyVzzMhXCOP1fRu3btMjdIUlNTpaysTN566y3T0HNt5zcCCCAQrgA9GOGKkR4BHwHtuUhLSzNDPZYtWya33nqrGdYxbdo0n5SsOkFAX5CnLxXU5+ePGTNG5s2bF7Dazz77rDzxxBOOeUlcRUWFNG/e3HjUrl1b9KVvVmH+/Ply6NAhadOmjXuz06zcFQ9zIZzjz1X0nj17JCMjwxyr2vuqw/YICCCAQDQCNDCi0SMvAh4CCQkJ8uCDD8qIESPk+eefl/Xr13tsZTGeBcaNGyft2rWTzp07m2rq/Au9+75o0SLp3r27ZdXPnj0r+/fv97pLb5kwjiK1caFDcTTofAs9Z6zCggULZNOmTWY+hm53opWVi904O8efZ1kTJ06UunXrSrdu3UTnDOnLHgkIIIBANAI0MKLRIy8CHgJdu3aVjz/+2MR8+umn0rhxY4+tLMazwJIlS8wwOR1eosN7Bg8eLCtXrpSePXsGrLYOi+rTp4/UqVMnYJp426APPdD5Fxr27dsnKSkpXlXUSd/6cAQN+vCEli1bmmUnWpmKR/CP3ePPs2jXnJfDhw+LDpNi/pinDssIIBCJAHMwIlEjDwIWAjpZV8eJjxo1yoxjfuGFFyxSERXvArNmzTLDo0aOHGmqmpiYKMXFxSZOGxQ69EfDBx98IB07djTLTvlHe3W2b99uem1Onz4thYWFXi4DBgyQ4cOHy5AhQ8xddNc8JidaRXpMBDr+gpXXoUMHGT9+vLRo0cI0kLVHg4AAAghEI1Dr227qb6IpgLwIOFFAx9cnJydbVl3vvOoYfH3MJuFvAsG8MPIW0OEply5dEm2YxGvQOjZs2DBg9bT+jRo1Crjdc8OZM2dM2mDleaZ3+nKwc1EfSNC0aVOnE3nVP5iXV0JWEEDAS4AeDC8OVhCIXuCWW26JvhBKQCCOBUI1Buw2LuKY6KZUjcbFTWHnQxGISwHmYMTl10qlEEAAAQQQQAABBBC4OQIMkbo57nxqDRfQbnOCfQF9HKkOGyOEFnC9/EwfN0oILaBvQdeJ8vrYW0JoAc7F0Ea+KQINh/VNxzoCCFwXYIjUdQuWEAhLgP907HMxjtm+lRPmYNjXCJ2SORihjTxTcC56aoRe5mZSaCNSIGAlwC0fKxXiEEAAAQQQQAABBBBAICIBGhgRsZEJAQQQQAABBBBAAAEErARoYFipEIcAAggggAACCCCAAAIRCdDAiIiNTAj4C1RWVvpHEuMYAatXClnF+YLYSeObh3UEEEAAAQSqswANjOr87bBvNUJAX6zXqVMn6datm6SmpprllJQUad++fY3Yf3YyeoF169aZN7h7lmQV57ldl+2k8c1T09enTJkiPXr0kIyMDDl58qRfdXy3X7t2TSZNmiS9evWSn/zkJ/L555/75SHiuoA+hSwnJ0f69u0rAwcOlNLS0usbfZZWrVolc+bM8YllFQEEEIhegKdIRW9ICQ4XKC8vl6SkJNm8ebP77cTTp0/nsawOOS4mT54sRUVFkp6e7q6xVZx743cLdtL45qnp6zt37pTjx4/L7t27zfmSl5cnL7/8srtaVtsffPBB+fLLL6W4uFh27doljz76qKxdu9adhwVvgY0bN0r9+vVl69atcujQIdM427Jli3ei79Zcj0TW1QsXLog+katVq1Y88tdSi0gEEAhHgB6McLRIi4CFQH5+vhw5ckRWrFhhth44cEDefvtteeqppyxSExVvAl27dpXly5d7VcsqzivBtyt20vjmqenrJSUlkpmZaaqRlZUl+/bt86qS1XaN0x4PDWlpaUHvyHsV5tCVfv36ydy5c03tz58/L+fOnQspoQ233r17y8yZM01DmeGeIclIgAACIQRoYIQAYjMCoQRyc3PNhc+ECRNM0meffVaeeOIJ7gKGgouT7YMGDfL7rq3ifKtrJ41vnpq+XlFRIc2bNzfV0Bfj6UvfPIPVdh3m8+KLL8o777wjTz/9tJw9e9YzC8s+AvqCRn2ppb6/YcyYMTJv3jyfFP6re/bsMUPWNG1BQYHosDQCAgggEI0ADYxo9MiLgI+AXvzs379fsrOzfbawGi8C48aNk3bt2knnzp3jpUo3rB7auNChOBp0cntCQoLXZ1tt13lNixcvltdee0307vxdd93llYcVf4Fjx46Zv0GLFi2S7t27+yfwiZk4caLUrVvXzCObOnWq6MseCQgggEA0AjQwotEjLwI+Ajt27JA+ffpInTp1fLawGi8CS5YsMUPiysrK4qVKN6weXbp0MfMv9AN1eJQ+DMEzWG3XBvvRo0dl/vz50qhRI7nzzjs9s7DsI3Dq1CkZPHiwrFy5Unr27Omz1Xp127ZtMnToUDl8+LB5UIXOKSIggAAC0QgwyTsaPfIi4CPwwQcfSMeOHX1iWUVAzJAVbXzqxFunBu3Z2759u7m7fvr0aSksLPRysdresmVL0YcmbNiwwcwn0AtnQmCBWbNmGdORI0eaRImJiWaCfOAcIh06dJDx48dLixYtRBso2qNBQAABBKIRqPVtN/U30RRAXgScKKDjm5OTk51Y9YjqjJd9Nh2ecunSJdELw3gNWseGDRsGrJ7V9osXL0rjxo398uiTj7RnI1h5fpkcHBHsXNQJ4U2bNnWwjn/Vg3n5pyYGAQRcAgyRcknwGwEEEEDghgiEagxYbbdqXNyQnXXQh9C4cNCXTVURqGIBhkhVMTDFx68AEyHtf7f6vH287Hnpk5WuXr2Klz0uY+X7NCqbWR2ZjHPRkV87lUbghgvQwLjh5HxgvAjoMBaCPQF97CVe9qy0cXHlyhW87HEZK03Ko1XtgXEu2nMiFQIIRCdAAyM6P3I7WCCex8jH+mvV3gu87KmqVbzPwbAnYS8VczDsOblScS66JOz91jkYBAQQCF+AORjhm5EDAQQQQAABBBBAAAEEAgjQwAgAQzQCCCCAAAIIIIAAAgiEL0ADI3wzciBgKVBZWWkZT6QzBHjid2y/ZytPq7jYfiqlIYAAAgjEQoAGRiwUKcPRApcvX5ZOnTrJsGHDJDc3V/r16ycPPPCAHD9+3NEuTqr8unXrZNSoUabKehGsLy3LzMyUvn37mheX+VrYSeObJ17Wp0yZIj169JCMjAw5efKkZbU8PV0JrOJc2/h9XUCfEpWTk2OOvYEDB0ppaen1jT5Lq1atkjlz5vjEsooAAghEL0ADI3pDSnC4QHl5uSQlJcmvf/1r+fDDD2XLli0yfPhwWbRokcNlnFH9yZMny7Rp09yV3bFjhzRr1ky2bdsmQ4cOlYULF7q3uRbspHGljaffO3fuNA3v3bt3i7rl5eX5Vc/XUxNYxfllJMIIbNy4UerXry9bt26V2bNnWxq7qLQx4nr61oULF+TEiROicQQEEEAgWgEaGNEKkt/xAvn5+XLkyBF54403pKKiQvbu3Svbt2+XNm3aON7GCQBdu3aV5cuXu6vaq1cvc1f41KlT5iKvY8eO7m2uBTtpXGnj6XdJSYnp2dE6ZWVlyb59+/yq5+upCazi/DISYQS0B3Xu3Llm+fz586Jv5w4Vdu3aJb1795aZM2dKenq6MNwzlBjbEUAglAANjFBCbEcghIAOi0pLS5NHH31UkpOT5ZlnnhG9Q3v33XeHyMnmeBAYNGiQ1K7t/6d0/vz5cujQoaANTTtp4sHIVQdtgDdv3tysqpnVC/KsPK3iXGXy21ugXjNhR0UAAEAASURBVL160qBBA9HHq44ZM0bmzZvnncBibc+ePWbImqYtKChw92pYJCUKAQQQsCXg/7+irWwkQgABX4Fly5aZRsWGDRvMnetHHnnENwnrcSAwbtw4adeunXTu3DlobRYsWCCbNm0y4+EDJbSTJlDemhivjQsdiqNB56EkJCTUxGpU+30+duyYZGdnm2Ga3bt3D7m/EydOlLp160q3bt1k6tSpvEU+pBgJEEAglAANjFBCbEfApsBtt90mDRs2NKn17qyOwyfEn8CSJUvMkLiysjLLyq1Zs8Y9cVYfANCyZUu/dHbS+GWKg4guXbqY3j2tig6PSklJiYNaVa8q6NC8wYMHy8qVK6Vnz562ds41X+jw4cOSmpoqRUVFtvKRCAEEEAgkwJu8A8kQj0CYAg899JAZkjBixAg5e/asPP3002GWQPJ4EBgwYICZ5D9kyBBzJ3jGjBmmWjpkpU+fPmbYVKA08VD/YHXQu+o6P0l/nz59WgoLC81QHpdLsLxssycwa9YsYzpy5EiTITExUYqLi4Nm7tChg3nyWYsWLcxTz7RHg4AAAghEI1Dr227qb6IpgLwIOFFALxZ1voVV+Oqrr9w9GVbbnRgXzCtePS5duiSNGjUKWj2rNHr8aLxeGMZriOU5cubMGePs6j2MV7NY1SvYuagTwps2bRqrj4qLcoJ5xUUFqQQCVSTAEKkqgqVY5wpwoePc796z5qEaF5rWThrPMuNlmXOken6TNC6q5/fCXiFQEwVoYNTEb419RgABBBBAAAEEEECgmgowB6OafjHsVvUX0KEZBHsCV65cEbzsWV29elXwsmelqXS4lZrpsDJCaAGOrdBGpEAAgegFaGBEb0gJDhVw6vCWSL7uixcvOnY4ULherndDcHzZk9PGhb73QX8IoQU4F0MbeabQBiwBAQTCF6CBEb4ZORAwAowjt38g6GN78bLvde3aNbxscmnPhTYuOL7sgXEu2nMiFQIIRCfAHIzo/MiNAAIIIIAAAggggAACHgI0MDwwWEQAAQQQQAABBBBAAIHoBGhgROdHbgTcApWVle5lFhBAAAEEEEAAAacKMAfDqd889Y6ZwOXLlyU9Pd28eO8HP/iBlJWVSZMmTWTFihVy++23x+xzKCi+BKZMmSI7d+4UfdfpmjVrpFWrVvFVwRjWBqvwMPEKz4vUCCAQewF6MGJvSokOEygvL5ekpCQZO3asaC9GcXGxPPnkk/Loo486TILq2hXQhsXx48dl9+7dMnnyZMnLy7Ob1XHpsArvK8crPC9SI4BA1QjQwKgaV0p1kEB+fr4cOXJEli5dKj169DA1T0tLk9LSUgcpUNVwBEpKSiQzM9NkycrKkn379oWT3VFpsQrv68YrPC9SI4BA1QgwRKpqXCnVQQK5ubny2WefyezZs2X06NHSrl07KSoqkrNnzzpIgaqGI1BRUSE6nE6DPjbU9e6LcMpwSlqswvum8QrPi9QIIFA1AvRgVI0rpTpQIDU1VRYvXiyvvfaa9OvXT+666y4HKlBlOwLNmzeXCxcumKQ6ByMhIcFONkemwSq8rx2v8LxIjQACVSNAA6NqXCnVgQL79++Xo0ePyvz5881bq++8804HKlBlOwJdunQx8y80rQ6PSklJsZPNkWmwCu9rxys8L1IjgEDVCDBEqmpcKdWBAtqDMX36dNmwYYOcO3dOVq5c6UAFqmxHIDs7W7Zv3y76+/Tp01JYWGgnmyPTYBXe145XeF6kRgCBqhGo9W33/DdVUzSlIhC/Ap988ol5LK1VDS9evCiNGze22uTYuGBejkX5tuJfffWVNGzY0ItA4y5duiSJiYle8U5fsbJSkzNnzpgeQ19HvPyPLTXhXAzvyMArPC9SI+ASYIiUS4LfCMRIgMZFjCAdUAwXxfa/ZKzsW2lKvMLzIjUCCMRWgAZGbD0pDQEEEEAAAQQQQAABRwswRMrRXz+Vj1RAu80J9gX0MawNGjSwn8HBKb/++mu5du2a1KtXz8EK9qt+5coVqVOnjnncr/1czk3JuRj+d5+cnBx+JnIg4HABJnk7/ACg+pEL8J+OfTvGMdu3Yg6GfStNyRyM8Lw4F8P3Ci8HqRFAQAUYIsVxgAACCCCAAAIIIIAAAjEToIERM0oKQgABBBBAAAEEEEAAARoYHAMIIIAAAggggAACCCAQMwEaGDGjpCCnC1RWVroJeL2Mm4IFBBBAAAEEEHCYAA0Mh33hVDf2ApcvX5ZOnTrJsGHDRBsW69atk1GjRnl90JQpU6RHjx6SkZEhJ0+e9NrGSs0V0Cc+5eTkSN++fWXgwIFSWlrqV5l77rlH0tLSzM/EiRPNdj1Oxo8fL5mZmSbvqVOn/PI5KcLO+aFGLVq0EDUnBBawc0y6cq9atUrmzJnjWuU3AgggEDMBGhgxo6QgpwqUl5dLUlKSrF+/XvRCadq0aV4UO3fulOPHj8vu3btl8uTJkpeX57WdlZorsHHjRqlfv75s3bpVZs+e7ffd6hu5z58/LwcOHDA/zz//vKnsjh07pFmzZrJt2zYZOnSoLFy4sOYiRLnnds4PbZBp40wf30sILhDqmPTM7XokssZduHBBTpw4QQPOE4hlBBCIWIAGRsR0ZETgbwL5+fly5MgRWbFihXTt2lWWL1/uRVNSUmLuVGtkVlaW7Nu3z2s7KzVXoF+/fjJ37lxTAW1InDt3zqsy77//vjRv3lymT58uq1evFn0HgYZevXqZO8d6V14bJx07dvTK56QVO+eHnmPZ2dmSmJjoJJqI6hrqmLQqdNeuXdK7d2+ZOXOmpKeni+dwT6v0xCGAAAKhBGhghBJiOwIhBHJzc83wlwkTJsigQYP8XvhVUVFhLjK1mNq1a7svMkMUy+YaIKAvw9MXCOq7BcaMGSPz5s3z2mu9UGvdurXcd999pgfjscce89o+f/58OXTokLRp08Yr3kkroc6PgwcPyt69e2X06NFOYom4rqGOSauC9+zZY4Zv6vFbUFBAT5EVEnEIIBCWAA2MsLhIjED4AnoHW4cfaNChHgkJCeEXQo5qIzBu3Dhp166ddO7c2ezTsWPHzN31RYsWSffu3b3289577zU9WtqzpUOoNm/e7LV9wYIFsmnTJjOPw2uDg1ZCnR9jx441jTRtjJ09e1a0N4MQXCDYMWmVU4ef1a1bV7p16yZTp04VfdkjAQEEEIhGgAZGNHrkRcCGQJcuXcz8C02qw6NSUlJs5CJJdRVYsmSJGRJXVlYmOsRp8ODBsnLlSunZs6ffLq9du9bdq/HRRx9J+/btTZo1a9a4J9fqQwJatmzpl9cpEaHOD73g1WE7bdu2Fb077+TeHjvHRKhj0qoM11ygw4cPS2pqqhQVFVklIw4BBBCwLVDXdkoSIoBARAI6dnz79u3mLvfp06elsLAwonLIVP0EZs2aZYZHjRw50uyczhHQuRZ9+vQxQ5/uv/9+83QxbYToUKilS5eadAMGDJDhw4fLkCFDzN3iGTNmVL/K3aA9CnR+6LAzl6NrV/QhCv3793et8ttCwOqYLC4utkh5PapDhw7mqWb6lC5toLiednY9BUsIIIBAeAK1vh2y8U14WUiNAAJ68ZOcnBwWhA47aNiwYVh54iVxJF7xUnethw6Ra9y4sdSqVcurWvqUqUaNGnnF6XGi8U6b0Bzp+XHmzBlj6NRzy+vgsbES7FzUhxQ0bdrURinOSRLMyzkK1BSB8AXowQjfjBwIRCTABVBEbHGRqUmTJpb18G1cWCZySCTnx83/omlc3PzvgD1AIF4EmIMRL98k9UAAAQQQQAABBBBAoBoIMESqGnwJ7ELNE9Buc4J9AX3/gz7OlRBawPXyM53QTAgtcOXKFalTp47f46FD53RmCs7F8L/3cIfDhv8J5EAg/gQYIhV/3yk1ukEC/KdjH5pxzPatnDoHw76Qd0rmYHh7hFrjXAwl5L2dm0neHqwhYFeAIVJ2pUiHAAIIIIAAAggggAACIQVoYIQkIgECCCCAAAIIIIAAAgjYFaCBYVeKdAgggAACCCCAAAIIIBBSgAZGSCISIGBPoLKy0p0w0OtlAsW7M7KAAAIBBTh/AtKwAQEEEKhWAjQwqtXXwc7URIHLly9Lp06dzBub9QJo3bp1MmrUKL+qBIr3S0hEjRHQ73v8+PGSmZkpffv2NW9B9tx5fSJUTk6O2TZw4EApLS313GzS69uTNZ1Tgr6Nu0ePHpKRkSEnT570qnYwT84fL6qAK6GOOc+Mq1atkjlz5nhGsYwAAgjERIAGRkwYKcTJAuXl5ZKUlCTr168XvXiaNm2aH8fkyZMt4/0SElGjBHbs2CHNmjWTbdu2ydChQ2XhwoVe+79x40apX7++bN26VWbPni15eXnu7XoxPXHiRLl27Zo7Lt4Xdu7cKcePH5fdu3eLnhOeHlr3QJ6cP/aPjGDHnG8prkcia7y+bf7EiROOauz6erCOAAKxE6CBETtLSnKoQH5+vhw5ckRWrFghXbt2leXLl/tJBIr3S0hEjRLo1auXuQN86tQp04jo2LGj1/7369dP5s6da+LOnz8v586dc2/X4yY7O1sSExPdcfG+UFJSYnp7tJ5ZWVmyb98+ryoH8uT88WIKuhLsmAuUcdeuXdK7d2+ZOXOmpKeni+dwz0B5iEcAAQSCCdDACKbDNgRsCOTm5kpaWppMmDBBBg0aZPnCr0DxNoonSQ0QmD9/vhw6dEjatGnjtbf6sjx9waA+S3/MmDEyb948s/3gwYOyd+9eGT16tFf6eF+pqKiQ5s2bm2rWrl1b9KVvVsHXk/PHSsk6LtAxZ536b7F79uwxQ9b0+CwoKHBUr1owF7YhgEDkAjQwIrcjJwIIOFBg3Lhx0q5dO+ncubO79gsWLJBNmzaZ+RbuyO8Wjh07ZnoqFi1aJN27dzexY8eOldatW4teSJ89e1a0N8MJQRsXOhRHgw4RS0hIsKx2ME/LDER6CVgdc14JfFZ0qF7dunWlW7duMnXqVNGXPRIQQACBaARoYESjR14EEHCcwJIlS8yQuLKyMlmzZo17kqxO9m/ZsqWXhw6dGjx4sKxcuVJ69uzp3qYXcToUpW3btqJ3nH17PtwJ42yhS5cuZv6FVkuHR6WkpHjVMJSnV2JWLAUCHXOWib+LdM0hOnz4sKSmpkpRUVGw5GxDAAEEQgrUDZmCBAgggAAClgIDBgyQ4cOHy5AhQ8xd3xkzZpjhUH369DFDpmbNmmXWR44cafLrfIvi4mIz/8BVoD4YoH///q7VuP6tc062b99uenROnz4thYWFXl5WnnENUgWVC3TMBfuoDh06mKeh6RPNtIGiPRoEBBBAIBqBWt92U38TTQHkRcCJAjqmPjk52YlVj6jO8e516dIladSoUUQ2vpl0eIqWF8+Tv7WODRs29K26ez0czzNnzhj7YOW5C2bBNOgC/e3ShxA0bdoUJQ+BeP/b5VFVFhGIqQBDpGLKSWEIIOBEgVg1LpxiF6oxgOfNORJoXNwcdz4VgXgUYIhUPH6r1OmGCDAR0j6zPm8fL3te+mSlq1ev4mWPy1gFehqVzSIclYxz0VFfN5VF4KYJ0MC4afR8cE0X0GEcBHsC+jI5vOxZaePiypUreNnjMlaa1EkvLLRJY5mMc9GShUgEEIixAA2MGINSnHME4nmMfKy/Re29wMueqlrF+xwMexL2UjEHw56TKxXnokvC3m+dg0FAAIHwBZiDEb4ZORBAAAEEEEAAAQQQQCCAAA2MADBEI4AAAggggAACCCCAQPgCNDDCNyMHApYClZWV7nie/uymYAEBBBBAAAEEHCZAA8NhXzjVjb2AvsG5U6dOMmzYMNGGxbp162TUqFHuD9KntuTk5Ejfvn1l4MCBUlpa6t7GgjMFnHxM6IsFe/ToIRkZGXLy5Em/A+Cee+6RtLQ08+N64ZtVnF9GIoyA/g0aP368ZGZmmr85+uK8QGHVqlXuN9EHSkM8AgggEIkAk7wjUSMPAh4C5eXlkpSUJOvXrxe9eCoqKpL09HR3io0bN0r9+vVl69at5u3OkyZNki1btri3s+A8AaceEzt37pTjx4/L7t27ZfPmzZKXlycvv/yy+wDQye3nz5+XAwcOBI1zb2TBT2DHjh3SrFkz2bZtm7z00kuycOFCmTdvnl86jdCGruvpWxcuXBCdMN+qVSupXZt7j5ZgRCKAgG0B/orYpiIhAtYC+fn5cuTIEVmxYoV07dpVli9f7pWwX79+MnfuXBOnF0/6tlyCswWcekyUlJSYO+v67WdlZcm+ffu8DoT3339fmjdvLtOnT5fVq1eLvt/CKs4rEyteAr169TK9EtpzoTc1Onbs6LXdamXXrl3Su3dvmTlzprk54jnc0yo9cQgggEAoARoYoYTYjkAIgdzcXDOcY8KECTJo0CC/u3/16tWTBg0aiD7ucMyYMQHvJob4GDbHkYBTj4mKigrTgNCvUu+S+74gTy9sW7duLffdd5/pxXjsscfEKi6ODoUqq8r8+fNNj2mbNm1CfsaePXvMkDXt6SgoKHD3aoTMSAIEEEAggABDpALAEI1ALAWOHTtm5l8sWrRIunfvHsuiKasGCIwbN07efPNNSUhIkLKyMrPHTjkmPOs+YMAA0aE4GnSugHp4hnvvvVf0R4POa7rjjjtkyZIlfnGeeVi2FliwYIF8/PHHpqfoj3/8o3Wi72J1rsuMGTOkW7duog0S7Y0lIIAAAtEI0IMRjR55EbAhoEMVBg8eLCtXrpSePXvayEGSeBPQi2QdRudqXDjpmPCse5cuXcz8C/1+dXhUSkqK11e9du1adw/fRx99JO3btxerOK9MrHgJrFmzxj1xWx9A0bJlS6/tVis6X2Po0KFy+PBhSU1NNfPIrNIRhwACCNgVoAfDrhTpEIhQYNasWWZ41MiRI00J+kbr4uLiCEsjWzwIOPWYyM7Olu3bt4v+Pn36tBQWFppzo0+fPmY4z/3332+exqYN8kOHDsnSpUtFGyX6hDbPuHg4BqqqDtpLNHz4cBkyZIjoW7u1ZyJU6NChg3nyVIsWLUQbv66nd4XKx3YEEEAgkECtb7upvwm0kXgEELAW0PkUycnJ1huJ9RPAy48kYIReFOrTlLQhGq9B69iwYcOA1dNhVI0bN5ZatWq501jF6UZ98lGjRo2ClucuxEELegypi28Idi7qAyiaNm3qm8XR68G8HA1D5REIIUAPRgggNiOAAAIIxFYgWONCP6lJkyZ+H2gV55eICLeAVePCvTHAAo2LADBEI4BA2ALMwQibjAwIIIAAAggggAACCCAQSIAejEAyxCMQQkCHZhDsCVy5csUMZbGX2tmprl69KnjZPwZ0uJWa6ZAgQmgBjq3QRqRAAIHoBWhgRG9ICQ4ViGQIgkOp5OLFi5bjwZ3qEazerndDcHwFU7q+TRsX+p4Z/SGEFuBcDG3kmUIbsAQEEAhfgAZG+GbkQMAIhBpHDtN1AX2pGl7XPUItXbt2Da9QSN9t154LbVxwfNkD41y050QqBBCIToA5GNH5kRsBBBBAAAEEEEAAAQQ8BGhgeGCwiAACCCCAAAIIIIAAAtEJ0MCIzo/cCLgFKisr3cu8XsZNwcJ3AhwTHAoIIIAAAk4RoIHhlG+aelaZwOXLl6VTp07mbcN6Eblu3ToZNWqU+/M0bvz48ZKZmSl9+/Y1b8p1b2ShRgt8/fXXkpOTY77XgQMHSmlpqWV9fI8Ju/ksC6vhkVOmTJEePXpIRkaGnDx50rI2+jZpfau0Oj333HPm/NJzLCUlRdq3b2+Zh8i/CYRzbK1atUrmzJkDHQIIIBBzARoYMSelQKcJlJeXS1JSkqxfv1704mnatGleBDt27JBmzZrJtm3bZOjQobJw4UKv7azUXIGNGzdK/fr1ZevWrTJ79mzJy8vzq8zkyZP9jgk7+fwKioOInTt3yvHjx2X37t2iLlZe2iCfOHGi6ER3DY8//rj84Q9/MD8PPPCAPPzww3EgUXVVCOfY0saIy1nflH7ixAnTqKu6vaNkBBBwigANDKd809SzygTy8/PlyJEjsmLFCunatassX77c67N69epl7hLqXVm9EO3YsaPXdlZqrkC/fv1k7ty5pgLnz5+Xc+fO+VXG6piwk8+voDiIKCkpMT15WpWsrCzZt2+fX630fMrOzpbExESvbQcOHJC3335bnnrqKa94VrwFIjm2du3aJb1795aZM2dKenq6eA739C6dNQQQQMCeAA0Me06kQiCgQG5urqSlpcmECRNk0KBBoo+BtArz58+XQ4cOSZs2baw2E1cDBerVq2cekfrJJ5/ImDFjZN68eX61sDom7OTzKygOIioqKqR58+amJnqeuN754arawYMHZe/evTJ69GhXlPv3s88+K0888UTA88ud0OELkRxbe/bsMUPW9PgtKChw92o4nJLqI4BAFALWV0JRFEhWBBCwFliwYIFs2rTJjNm3TkFsTRAYN26ctGvXTjp37mx299ixY+aO+6JFi6R79+62qxBpPtsfUA0TauNCh+Jo0KFQCQkJXns5duxYad26tWhj/OzZs6K9GRp0ef/+/cbZKwMrlgLhHls6JK1u3brSrVs3mTp1qvByOUtWIhFAIAwBGhhhYJEUgUgE1qxZ455IqRPCW7ZsGUkx5KkmAkuWLDFD4srKysyE/cGDB8vKlSulZ8+etvdQh8tFks/2B1TThF26dDHzL3T3dHiUTtr2DHpxq0N02rZtK3on3tXbp/OY+vTpI3Xq1PFMzrKFQCTHlmt+2OHDhyU1NVWKioosSiYKAQQQsC/Am7ztW5ESgYgEBgwYIMOHD5chQ4aYO4MzZsyIqBwyVT+BWbNmiQ6PGjlypNk5nTewevVqczGsw+ECBat8xcXFgZLHTbzOrdi+fbvpiTh9+rQUFhYaP208qJfOy3AFfWBC//79zeoHH3zA3CUXTIjfkRxbHTp0ME+60yd3aQNFezQICCCAQDQCtb7tpv4mmgLIi4ATBfSiMjk5OayqX7p0SRo1ahRWnnhJHIlXvNQ93Hro8BQ9VnwnOYdbTnVOr3Vs2LBhTHbxzJkz5ryKVXkx2alqXEiwc1EfUtC0adNqvPc3fteCed34veETEag5AgyRqjnfFXtawwWc2rio4V8bu18FAjQGqgA1BkXSuIgBIkUggIARoIHBgYAAAggggAACCCCAAAIxE2CIVMwoKchJAtptTrAvoI8jbdCggf0MDk7pevmZTnImhBa4cuWKmfwd6PHQoUtwVgrOxfC/73CHw4b/CeRAIP4EmOQdf98pNbpBAvynYx+accz2rZwwB8O+RuiUzMEIbeSZgnPRUyP0MjeTQhuRAgErAYZIWakQhwACCCCAAAIIIIAAAhEJ0MCIiI1MCCCAAAIIIIAAAgggYCVAA8NKhTgEEEAAAQQQQAABBBCISIAGRkRsZELAX6CystIdyetl3BQsIBCRAOdQRGxkQgABBKqFAA2MavE1sBM1WeDy5cvSqVMnGTZsmOhF0bp162TUqFF+VdI35OqbcvUpQYT4EbjnnnskLS3N/Pi+Afm5554zx4YeHykpKdK+fXt3xZ966inp16+fPPDAA3L8+HF3fLwv6Bu6e/ToIRkZGXLy5EnL6nqeQ8EMLTM7PFL/vuTk5Ejfvn1l4MCBUlpaGlBk1apVMmfOnIDb2YAAAghEKsBTpCKVIx8C3wmUl5dLUlKSrF+/XvTiqaioSNLT0718tOGhF5/Xrl3zimelZgvoG7fPnz8vBw4csKzI448/LvqjYfr06e5H9Wp6PW62bNkir776qixatEj0Qjrew86dO01javfu3bJ582bJy8uTl19+2avakydP9jqHAhl6ZWLFLbBx40apX7++bN26VQ4dOiSTJk0yx5k7gceC65HIGnXhwgXRJ3K1atVKeOSvBxKLCCAQkQA9GBGxkQmB6wL5+fly5MgRWbFihXTt2lWWL19+feN3S5omOztbEhMT/bYRUXMF3n//fWnevLlpPKxevVr0HQNWQRsUb7/9tmivhQY9DioqKmTv3r2yfft2adOmjVW2uIsrKSmRzMxMU6+srCzZt2+fXx0DnUO+hn4ZiTAC2is2d+5cs6yN33PnzoWU2bVrl/Tu3Vtmzpxpbo54DvcMmZkECCCAgIUADQwLFKIQCEcgNzfXDI+ZMGGCDBo0yO/u38GDB82F5OjRo8MplrQ1QEAvxFq3bi333Xef6cV47LHHLPf62WeflSeeeMJ9bDRp0kT0PSrPPPOM6N38u+++2zJfvEVqo0obZBr0LrlVg8zqHNL0voYaR/AX0Bc06kst9f0NY8aMkXnz5vkn8onZs2ePGbKmaQsKCuhp9fFhFQEEwheggRG+GTkQCEtg7Nix5iJ0/vz5cvbsWdHeDELNFRg3bpy0a9dOOnfuLPfee6/psdK77rNnzzbDfnxrpt/5/v37TQ+Wa9uyZctMo2LDhg1mKMsjjzzi2hTXv7VxoUNxNOiwwYSEBFv1tTK0ldGhiY4dO2aONx16171795AKOnyzbt260q1bN5k6daroyx4JCCCAQDQCNDCi0SMvAjYE9D9snZPRtm1b0buLThkOY4OmRiZZsmSJGRJXVlYma9eudd8h/uijj7wmcbsqt2PHDunTp4/UqVPHFSW33XabNGzY0KzrnfxmzZq5t8XzQpcuXUyPjdZRh0fpxHc7wcrQTj4nptGHSQwePFhWrlwpPXv2tEWwbds2GTp0qBw+fFhSU1PNHBhbGUmEAAIIBBBgkncAGKIRiJWAjjV3BZ0E3r9/f9cqv2u4wP3332+eHqYXdDqhdunSpWZoijYodF3DBx98IB07dvSq6UMPPWSGr4wYMcL0aj399NNe2+N1Rech6ZwT/X369GkpLCz087Kqu5WhVTriRGbNmmVMR44caTh0vk9xcXFQmg4dOsj48ePNU+60geL7NLSgmdmIAAIIWAjU+rab+huLeKIQQCCIgI5v1jH0BHsC8e6lw34aN24stWrVsgfyXSodiuLqyXBl1Dh9OlU8PxDAqt6u+of7W5981KhRIz/HcMtxSvpg56JOCG/atKlTKGzVM5iXrQJIhIBDBejBcOgXT7URQCB2AjppO5Lg27iIpIyamMep9a7u3xWNi+r+DbF/CNQcAeZg1Jzvij1FAAEEEEAAAQQQQKDaCzBEqtp/RexgdRTQbnOCfQF9HKk+OpMQWsD18jN9IAAhtMCVK1fMBHpeDhfaSlNwLtpz8kzFcFhPDZYRsCfAECl7TqRCwE+A/3T8SAJGMI45II3fBifMwfCrdBQRzMEID49zMXyv8HKQGgEEVIAhUhwHCCCAAAIIIIAAAgggEDMBGhgxo6QgBBBAAAEEEEAAAQQQoIHBMYAAAggggAACCCCAAAIxE6CBETNKCnK6QGVlpZuA18u4KRyzEOl3Hmk+x8B6VBQrDwwWEUAAgWosQAOjGn857FrNELh8+bJ06tTJvNFZL4DWrVsno0aN8tr5e+65R9LS0swPb8n1oomLFd/vXN/Y3qNHD8nIyJCTJ08GrKNvvoAJ43yDHS+s7B0E+hSynJwc6du3rwwcOFBKS0sDZly1apXMmTMn4HY2IIAAApEK8BSpSOXIh8B3AuXl5ZKU9P/buxPgKK478eM/cZrbMqQICQa2zJFFHMWKlUtAeQUFiNNcxrKBEJYtzA1OMOASqIA/hxGmCBIYMBDCkWyAUGADxgi85g4yhlAsJIIsiMsyJIRwiKuCjz+/58xkZtQz03MAmunvqwL18V7PvE93S/3r9153Ldm0aZPohdKWLVskJSXF7aNvZS4uLpYTJ064lzERPwKZmZle+3zfvn1y4cIFOXjwoHz00UeSlZUlq1evLlFh33IlMjhkgR0vrOwfDNu2bZMKFSrIzp07paCgQCZMmCA7duyw3IDrkci6Ut9Gr0/kev7554VH/lpysRABBEIQoAUjBCyyImAlkJubK2fPnpVVq1ZJ69atZeXKlV7ZTp48KYmJiTJ9+nRZt26deQ69VwZmYlrAd58fOXJE0tPTTZ26du0q+fn5lvXzLWeZyQEL7XhhZf9A6Natm2RnZ5sCemPj9u3bQQvv379fOnbsKLNmzTI3Rzy7ewYtTAYEEEDAQoAAwwKFRQiEIjBp0iTT9Wn06NHSt2/fEnf/9I91vXr1pEePHqYVY/z48aFsnrylXMB3nxcVFZmAUr+23gnWF5tZJd9yVnmcsMyOF1b2jwR9QaO+1FLfdzFs2DCZN29e0MKHDh0y3fk079KlS+Xrr78OWoYMCCCAQCABukgF0mEdAlEQ6Ny5s+g/TTpW44UXXojCVtnE0xIYMWKEfPLJJ1KtWjU5fvx4ia+hrVXa3USTjsnRfCT/Anj5twl3TWFhoRl/kZOTI23atAm6GR0XNnPmTElNTZX69eub1tighciAAAIIBBCgBSMADqsQiIbAhg0b3HcRz58/L40bN47GZtnGUxJYtmyZ6RJnFVzoV0pOTjbjL3Rau0clJSXpJMmPAF5+YMJc/OWXX0q/fv1kzZo1kpaWZmsreXl5kpGRIadPn5bmzZubMUW2CpIJAQQQ8CNAC4YfGBYjEC2Bl19+2TxhSv/o66DL5cuXR2vTbKcUCnTv3l127dol+vPKlSuyefNm8y21y0qnTp3MMVAKv/ZT+0p4RZd+9uzZpnvU4MGDzYZr1qwpe/bsCfghTZs2lZEjR0rt2rVFAxSedBeQi5UIIGBDIOFRE/63NvKRBQEEPAT0YrFu3boeS4JPareZKlWqSEJCQvDMcZYjHK9YJ7h//75UqlQp5GpoOX3ymF4YOimF66VPPqpcuXJY1k7yddU10LmoA8KrV6/uysrPRwKBvABCAAH/ArRg+LdhDQJRFahatWpUt8fGSrdAOMFF6a7R4/12eD1eXztbJ7iwo0QeBBCwI0CAYUeJPAhYCOgdV5I9AX3ePl72rPSpU1999RVe9riMlb8nddnchKOycS46andTWQSemgABxlOj54NjXUC7sZDsCehjL/GyZ6XBxcOHD/Gyx2WsNCuPVrUHxrloz4lcCCAQmQABRmR+lHawgNP6yEeyq7X1Ai97gmrlxDEY9nRK5mIMRkmTQEs4FwPplFynYzBICCAQugCPqQ3djBIIIIAAAggggAACCCDgR4AAww8MixFAAAEEEEAAAQQQQCB0AQKM0M0ogYClwK1bt9zLefqzm4IJBKImwHkVNUo2hAACCDxWAQKMx8rLxp0g8ODBA2nRooV5mZ5eAG3cuFGGDBniVXV9q+7AgQPNi9aOHTvmtY6Z2BXQ/a0vKEtPT5cuXbqYl5R51kaf2DNq1Cizrk+fPuK77/WlZvpyM83nlDRlyhRp166dtG3bVi5fvuxV7UCeVueVV2FmjECwY86Tae3atTJ37lzPRUwjgAACUREgwIgKIxtxssCZM2ekVq1asmnTJtGLp2nTpnlxfPbZZ/LBBx/Ir3/9a1m6dKls2bLFaz0zsSuwd+9eqVGjhuTl5UlGRoYsXLjQqzLbtm2TChUqyM6dO2XOnDmSlZXlXq8X0/rGZCc9/Wjfvn1y4cIFOXjwoGRmZnp5KIw/T83re165IZnwEgh0zHllfDSjwYjr+NMXgV68eNFRwa6vB/MIIBA9AQKM6FmyJYcK5ObmytmzZ2XVqlXSunVrWblypZfExx9/bO5wL168WAoLC2XmzJle65mJXYH27dubO8DaEqFBRLNmzbwq061bN8nOzjbLiouLRd+U7Ep63HTv3t1RT9c6cuSIORfUoGvXrpKfn+/iMD/9eVqdV14FmXELBDrm3Jl8Jvbv3y8dO3aUWbNmSUpKinh29/TJyiwCCCBgS4AAwxYTmRDwLzBp0iRp2bKljB49Wvr27StlynifVleuXJEVK1bIs88+Kxs2bOBOrH/KmF0zf/58KSgokPr163vVoXz58lKxYkXRR10OGzZM5s2bZ9afOnVKDh8+LEOHDvXKH+8zRUVFkpiYaKqp54m/F+T5elqdV/FuFW79/B1zgbZ36NAh02VNj09tZXW1agQqwzoEEEAgkID3lVCgnKxDAIGwBKpVqyavvfaaDBo0SBYtWmS6UoW1IQqVCoERI0ZIw4YNpVWrVu7vs2DBAtm+fbsZb+Fe+I8JbbXSloqcnBxp06aNWTp8+HCpV6+e6IX0jRs3RFsznJA0uNCuOJq0i5ieG1YpkKdVfpZ5C1gdc945vOe0q165cuUkNTVVpk6dylvkvXmYQwCBMAQIMMJAowgCoQho945Lly6ZIlevXpUqVaqEUpy8pUxg2bJlpkvc8ePHZf369e5BsjrYv06dOl7fVrtO9evXT3SQf1pamnudXsRpV5QGDRqI3nH2bflwZ4yzieTkZDP+Qqul3aOSkpK8ahjM0yszM5YC/o45y8z/WOgaQ3T69Glp3rw548QCYbEOAQRsCfAmb1tMZEIgfIH+/fvLiRMnzJOl9KL0vffeC39jlCxVAr179zZPB3vllVfMXV8dX6PdoTp16mS6TM2ePdvMDx482HxvfZv5nj17zPgDV0X0wQC9evVyzcb1T23J2bVrl2nR0a6Dmzdv9vKy8oxrkMdQOX/HXKCPatq0qXkamj7RTAMUbdEgIYAAApEIJDxqpv42kg1QFgEnCuhFZN26dUOqut7h1v74CQkJIZWLh8zheMVSve/duyeVK1eOyle+f/++6PY0GInXpHWsVKmS3+qF4nn9+nVjH2h7fj/IgSsCnYv6EILq1as7UMV/lQN5+S/FGgQQoAWDYwCBJyTwzDPPPKFP4mOetEC0gosn/b2f1ucFCwbwfDp7huDi6bjzqQjEowBjMOJxr1InBBBAAAEEEEAAAQSekgAtGE8Jno+NfQHtmkGyJ/Dw4UPBy57VV199JXjZs9Jc2t1KzbRbFSm4AMdWcCNyIIBA5AIEGJEbsgWHCtCNw/6Ov3v3btTGKNj/1NjM6Xo3BMeXvf2nwYWObdJ/pOACnIvBjTxzaABLQgCB0AUIMEI3owQCRiBYP3KY/imgL1XD658ewab0RWd4BVP6br22XGhwgZc9L85Fe07kQgCByAQYgxGZH6URQAABBBBAAAEEEEDAQ4AAwwODSQQQQAABBBBAAAEEEIhMgAAjMj9KI+AWuHXrlnua18u4KZhAAAEEEEAAAYcJEGA4bIdT3egL6Av0WrRoIQMGDBANLDZu3Gje2u36pJ///OdmveZJSkqSxo0bu1bxM8YFvvnmGxk1apR06dJF+vTpI8eOHXPXSN+IrG9G1jy+ScdYTJgwQdq3by89e/aUa9eu+WaJ23l9c3m7du2kbdu2cvny5RL19Lc+kGeJjTh4QaBj0pdl7dq1MnfuXN/FzCOAAAIRCxBgREzIBpwucObMGalVq5Zs2rRJ9OJo2rRpXiQ//elP5X//93/Nv/79+8t//ud/eq1nJnYFtm3bJhUqVJCdO3fKnDlzJCsry1RGA82xY8eKBhJWaffu3XLz5k3Zs2ePTJw4UcaMGWOVLe6W7du3Ty5cuCAHDx6UzMxMt5erov7WB/N0leeniL9j0spGgxHXMXrnzh25ePGiZUBsVZZlCCCAQCABAoxAOqxDwIZAbm6unD17VlatWiWtW7eWlStXWpY6ceKEfPrppzJ58mTL9SyMPYFu3bpJdna2+eLFxcVy+/ZtM63HRPfu3aVmzZqWlTpy5Ii5i68rW7Zs6dXyYVkgThZqvdPT001tunbtKvn5+V4187c+mKfXRhw+4++YDMSyf/9+6dixo8yaNUtSUlLEs7tnoHKsQwABBPwJEGD4k2E5AjYFJk2aZC4SR48eLX379hV9DKRVevfdd+Wtt97yu96qDMtKt0D58uXNI1K/+OILGTZsmMybN09OnTolhw8flqFDh/r98tqdasmSJXLgwAGZMWOG3Lhxw2/eeFpRVFQkiYmJpkp6nrje+eGqo9V6O56u8vwUsTomg7kcOnTIdFnT43fp0qXuVo1g5ViPAAII+BOwvhLyl5vlCCAQloBeQB49etTc1Q5rAxQqNQIjRoyQhg0bSqtWrcx3KiwsNPs1JydH2rRpI8OHD5d69erJ/PnzTeCgd999U/PmzWXx4sXy4Ycfit5xbtKkiW+WuJzX4EK74mjSbk/VqlXzqqfVejueXhthRnyPyWAk2p2vXLlykpqaKlOnTjVvRw9WhvUIIIBAIAECjEA6rEMgSgJ79+6VTp06SdmyZaO0RTbztASWLVtmusQdP35cdOBxv379ZM2aNZKWlma+kl6gaTeTBg0amLvJ9evXL/FVNdg8d+6cCUL0jd2NGjUqkSceFyQnJ5vxF1o37R6lDz3wTFbr7Xh6bsPp01bHZDCTvLw8ycjIkNOnT4sGv1u2bAlWhPUIIIBAQAHe5B2Qh5UIREfgj3/8ozRr1iw6G2MrpUZg9uzZot2jBg8ebL6TjrnQgduupIP+e/XqZWY1nwaZBQUF5iJu+vTpsnXrVjNuQwMUJyQdl7Jr1y7T4nPlyhXZvHmz8XO5WK3XQM2VPD1dy/jpLRDsmPTO/d1c06ZNZeTIkeapZxqgaIsGCQEEEIhEIOFRM/W3kWyAsgg4UUAvFuvWrevEqodVZ7ys2e7evStVqlTxWnn//n25d++e3wHiXpljdEbrWKlSJb/fPth6z4LXr18XbQUKtD3P/E6fDnQu6kMKqlev7nQir/oH8vLKyAwCCHgJ0EXKi4MZBBBA4MkJ+AYXT+6Tn+4nBQsGgq1/ut8+fj+d4CJ+9y01Q+BJCxBgPGlxPg8BBBBAAAEEEEAAgTgWoItUHO9cqvb4BLTZnGRfQB9HWrFiRfsFHJzT9fIzfdwoKbjAw4cPzcMT/D0eOvgWnJWDczH0/U132NDNKIEAg7w5BhAIU4A/Ovbh6Mds38oJYzDsawTPyRiM4EaeOTgXPTWCT3MzKbgRORCwEqCLlJUKyxBAAAEEEEAAAQQQQCAsAQKMsNgohAACCCCAAAIIIIAAAlYCBBhWKixDAAEEEEAAAQQQQACBsAQIMMJioxACJQVu3brlXsjrZdwUTCAQlgDnUFhsFEIAAQRKhQABRqnYDXyJWBZ48OCBtGjRQgYMGCB6UbRx40YZMmSIV5UmT54s3bp1k/79+8uFCxe81jET2wIdOnSQli1bmn/+3oCsb0euXbu26BOiXMmpx4S+jbtdu3bStm1buXz5sovD66fvOeRUKy8UmzN6jI0aNUq6dOkiffr0kWPHjvktuXbtWpk7d67f9axAAAEEwhUgwAhXjnII/EPgzJkzUqtWLdm0aZPoxdO0adO8bE6cOCGaZ8eOHTJw4EDJycnxWs9M7AroG7eLi4tF97H+W7RoUYnKaNCpgcfXX3/tXufUY2Lfvn0mwD548KBkZmZKVlaW28Q1ocs9zyGnWrk8Qv25bds2qVChguzcuVPmzJljaezapuuRyDp/584duXjxolcQ7MrHTwQQQCBUAQKMUMXIj4CPQG5urpw9e1ZWrVolrVu3lpUrV3rlqFmzphQVFcnhw4dl165dUr9+fa/1zMSuwMmTJyUxMVGmT58u69atE33HgG/S46N79+6ix4ErOfWYOHLkiKSnpxuGrl27Sn5+vovE/dP3HHKqlRskxAltKc3OzjalNPi9fft20C3s379fOnbsKLNmzZKUlBTx7O4ZtDAZEEAAAQsBAgwLFBYhEIrApEmTTPeY0aNHS9++fcX3hV9Vq1YVfWfGO++8I3rn9sUXXwxl8+QtxQJ6IVavXj3p0aOHacEYP36817c9deqUCSyHDh3qtdypx4QG2hqQadLzxCog8z2HnGrldcCEMKMvaNSXWur7G4YNGybz5s0LWvrQoUOmy5rmXbp0qVdrW9DCZEAAAQQsBAgwLFBYhEA0BVasWGGCiq1bt5puC2+88UY0N8+2nrDAiBEjpGHDhtKqVSvp3LmzabHSu+7aHeWjjz7y+jbDhw83Acj8+fPlxo0boq0Zmpx6TGhwoV1xNGnXsWrVqpnpQP851SqQSbB1hYWFptVMu2O2adMmWHbTha9cuXKSmpoqU6dOFX3ZIwkBBBCIRIAAIxI9yiJgQ+C5556TSpUqmZx617ZGjRo2SpGltAosW7bMdIk7fvy4bNiwwX2H+Pz589K4cWOvr60Xa9rlpEGDBqJ3ll3d45x6TCQnJ5tWPEXS7lFJSUleXlYzTrWysrCzTB8o0K9fP1mzZo2kpaXZKSJ5eXmSkZEhp0+flubNm8uWLVtslSMTAggg4E+gnL8VLEcAgegIvP7666arwqBBg8xd7BkzZkRnw2zlqQu8/PLL5ulhekFXUFAgy5cvN11TOnXqZOZ1nIEr6QMAevXqZWadekzoWBQdh6Q/r1y5Ips3b/bycll5/nSqladBKNOzZ882poMHDzbFdAzLnj17Am6iadOmMnLkSPOkMw1Q/D0NLeBGWIkAAgh4CCQ8aqb+1mOeSQQQsCGg/Zt1XEUoSbsduFoyQikXD3nD8Yqlemu3nypVqkhCQkJIX9vqmNBl+nQqz0HhIW00BjJb1TvY1/ZX5vr161K5cmXHnlvB3HzXBzoXdUB49erVfYs4ej6Ql6NhqDwCQQRowQgCxGoEoiXg1OAiWn6leTs6EDmc5NRjIpx6h1MmnH3i5DIEF07e+9QdgegKMAYjup5sDQEEEEAAAQQQQAABRwvQRcrRu5/KhyugzeYk+wL6OFJ9dCYpuIDr5Wc6KJwUXODhw4dStmzZEo+HDl7SmTk4F0Pf76F2hw39EyiBQPwJ0EUq/vYpNXpCAvzRsQ9NP2b7Vk4Yg2FfI3hOxmAEN/LMwbnoqRF8mptJwY3IgYCVAF2krFRYhgACCCCAAAIIIIAAAmEJEGCExUYhBBBAAAEEEEAAAQQQsBIgwLBSYRkCCCCAAAIIIIAAAgiEJUCAERYbhRAoKXDr1i33Ql4v46ZwzAT73DG7mooigAACCAQRIMAIAsRqBIIJPHjwQFq0aGHe6KwXmRs3bpQhQ4a4i3399dcyYcIEad++vfTs2VOuXbvmXsdEfAh47nM9BvStyOnp6dKlSxfRNyP7Jn1S1KhRo8z6Pn36yLFjx3yzxO28vtG8Xbt20rZtW7l8+XKJevqu5/wpQRRwQSjH1tq1a2Xu3LkBt8dKBBBAIBwBAoxw1CiDgIfAmTNnpFatWrJp0ybRi6Np06Z5rBXZvXu33Lx5U/bs2SMTJ06UMWPGeK1nJrYFMjMzvfb53r17pUaNGpKXlycZGRmycOHCEhXctm2bVKhQQXbu3Clz5syRrKysEnniccG+ffvkwoULcvDgQVE333pbref8Ce1ICOXYcj0SWT9B30Z/8eJF0WUkBBBAIFIBAoxIBSnveIHc3Fw5e/asrFq1Slq3bi0rV670Mjly5Ii5Y6sLW7Zs6ai71V4QcTrju8+1pUrvCmvLhQYQzZo1K1Hzbt26SXZ2tlleXFwst2/fLpEnHhfouaAtO5q6du0q+fn5XtW0Ws/540UUdCacY2v//v3SsWNHmTVrlqSkpIhnd8+gH0gGBBBAwEKA92BYoLAIgVAEJk2aJH/5y19k9OjRptjhw4e9imsXmKFDh0rDhg1ly5YtcuPGDa/1zMS2QN++fcV3n2uN5s+fLwUFBaYrlG8NXS/R02fsDxs2TJYuXeqbJS7ni4qK5Ec/+pGpW5kyZURf+uaZrNZz/ngKBZ8O59g6dOiQ6bI2depUc7NEu6WREEAAgUgEaMGIRI+yCNgQaN68uSxevFg+/PBD0buLTZo0sVGKLKVVYMSIESZYbNWqVcCvuGDBAtm+fbtlgKEFCwsLpXv37pKTkyNt2rQJuK14WZmYmGi64mh9dKxKtWrVvKpmtZ7zx4vI1kyox9bYsWOlXLlykpqaKhpk6MseSQgggEAkAgQYkehRFgEbAkePHpVz586ZO9qVK1eWRo0a2ShFltIqsGzZMnOX9/jx45Zfcf369e6Bs/oAgDp16pTIp92n+vXrJ2vWrJG0tLQS6+N1QXJyshl/ofXT7lFJSUleVbVaz/njRRR0JpxjyzVe6PTp06IBnba0khBAAIFIBOgiFYkeZRGwIaB/sKdPny5bt241fe31opIUvwK9e/eWgQMHyiuvvGLuBM+cOdNUVrtDderUyXSbmj17tuj84MGDzbqaNWuahwDEr8p3NdMWm127dpmWmytXrsjmzZuNg8vFar0GaJw/9o+McI6tpk2bmief1a5d24wd0hYNEgIIIBCJQMKjZupvI9kAZRFwooBeHNatWzekqt+9e1eqVKkSUpl4yRyOV6zX/d69e6ItVqEm7Z6iZTXoiNekdaxUqZLf6lmt93f+XL9+3TgH2p7fD3LgikDnoj5soHr16g5U8V/lQF7+S7EGAQToIsUxgMATEnBqcPGEeEvdx4QTXJS6SjymLxQsGLBaz/nzmHaGx2YJLjwwmEQAgYgE6CIVER+FnSzAQEj7e1+frY+XPS99stJXX32Flz0uY+X7NCqbRR2ZjXPRkbudSiPwxAUIMJ44OR8YLwLajYVkT0Afe4mXPSsNLh4+fIiXPS5jpVl5tKo9MM5Fe07kQgCByAQIMCLzo7SDBeK5j3y0d6u2XuBlT1Wt4n0Mhj0Je7kYg2HPyZWLc9ElYe+njsEgIYBA6AKMwQjdjBIIIIAAAggggAACCCDgR4AAww8MixFAAAEEEEAAAQQQQCB0AQKM0M0ogYClwK1btyyXsxABBBBAAAEEEHCSAAGGk/Y2dX0sAvq25hYtWsjrr79uXlbVpUsX6dOnjxw7dsz9eVOmTJF27dpJ27Zt5fLly+7lTMSHgL49WV9Spk/o8Uw6P2rUKPE9JnSg7YQJE6R9+/bSs2dPuXbtmmexuJ4OdC5YeemrmkaOHCnp6enGUa1J/gWsDP3lXrt2rfut8/7ysBwBBBAIR4AAIxw1yiDgIXDmzBmpVauWDBkyRCpWrCg7d+6UOXPmSFZWlsm1b98+uXDhghw8eFAyMzPdyz02wWQMC+gFsL752OopRtu2bZMKFSqUOCZ2794tN2/eNG/vnjhxoowZMyaGBex/9WDngpXX3r17pUaNGpKXlycZGRmycOFC+x/owJxWhv4YNBhxHbd37tyRixcvlgiS/ZVlOQIIIBBIgAAjkA7rELAhkJubK2fPnpWrV69Kdna2KVFcXCz6VlxNR44cMXdfdbpr166Sn5+vk6Q4EdD93717d8unZHXr1s3vMaEtWppatmzp1doVJyyW1Qh2Llh5aSvP3LlzRVsuNHhv1qyZ5bZZ+J2AlWEwm/3790vHjh1l1qxZkpKSInT3DCbGegQQCCbAY2qDCbEegSACkyZNkr/85S8ybtw4k1Mfazhs2DBZunSpmS8qKpIf/ehHZrpMmTLCS8GCgMbQ6lOnTsnhw4dl/fr17kDC8+uXL1/ezPoeE9qFbujQodKwYUPZsmWL3Lhxw7NY3E4HOxf8eSnI/PnzpaCgwHQ5i1ugKFQskKG/zR86dMh035w6daq5WeJq1fCXn+UIIIBAMAFaMIIJsR6BEAQKCwvN3eycnBxp06aNKZmYmCja/UCTdqepVq2amea/2BQYMWKECQxatWolw4cPl3r16pmLXw0StDXDN1kdE82bN5fFixfLhx9+KHrHuUmTJr7F4nLezrlg5aUYCxYskO3btxNg2Dgy/Bn6K6pd/MqVKyepqamiQYa+K4OEAAIIRCJAgBGJHmUR8BDQLhz9+vWTNWvWSFpamntNcnKyGX+hC7R7VFJSknsdE7EnsGzZMnOX9/jx4+ZiTLuUNGjQQPTOcf369b0q5O+YOHr0qJw7d84EJpUrV5ZGjRp5lYvXmWDngpWXtg5pFylN+kCFOnXqxCtPVOplZRhsw67xLadPnxYNfrVVjYQAAghEIpDw6I7qt5FsgLIIOFFAu7zUrVvXVF0Heb/11lvmTvbGjRvdF0D65uo9e/aYVovx48ebC8rjUXToAAA4mklEQVQrV67I5s2bzQWpk9w8veK13toKoV149AKvU6dOZnr06NFidUxoNzkNRqtWrWrG6mhQ+r3vfc/QxPObvPXPje+5oHfOA3l9/PHHMnDgQElISDB31vUOu95pdyXe5O2S+O6nv2POlcvzXFy9erVot7W+ffuaJ3Xpk9D0+P3Vr35VIlh2lXfaT08vp9Wd+iIQiQABRiR6lHWsQDh/dPTCsVKlSo40C8fLCVB3796VKlWqeFU1ngMMV0XDORfu3bsn2trjmwgwfEUCzwc6F/XBFNWrVw+8AYetDeTlMAqqi0BIAnSRComLzAiEL+DU4CJ8sfgv6RtcxH+Nv6thOOeCVXDhFK8nVU+CiyclzecgEP8CBBjxv4+pIQIIIIAAAggggAACT0yAx9Q+MWo+KN4EtGsGyZ7Aw4cPBS97Vl999ZXgZc9Kc2l3KzXTLlSk4AIcW8GNyIEAApELEGBEbsgWHCpAlw37O17HGuBlz8v1nhS87HlpcFGxYkXzz14JZ+fiXAxt/2sAS0IAgdAFCDBCN6MEAkYgnH7kTqXTFwziZX/v64vO8LLnpS0XGmDgZc+Lc9GeE7kQQCAyAcZgROZHaQQQQAABBBBAAAEEEPAQIMDwwGASAQQQQAABBBBAAAEEIhMgwIjMj9IIuAVu3brlnvY3wXst/cnE/nL2bezvQ2qAAAIIIBAdAQKM6DiyFQcLPHjwQFq0aCGvv/66eRtuly5dpE+fPnLs2DEvFX2j85AhQ7yWMRMfAoH27ZQpU6Rdu3bStm1buXz5srvCkydPlm7dukn//v3lwoUL7uXxPuHPQ+utY08mTJgg7du3l549e8q1a9dEA7eRI0dKenq66Lmlb5om+Rf45ptvZNSoUcbK6veQZ8m1a9fK3LlzPRcxjQACCERFgAAjKoxsxMkCZ86ckVq1apngQQeb7ty5U+bMmSNZWVlulszMTJk2bZp7non4EQi0b/ft22eCh4MHD4rmcx0TJ06cED1uduzYIQMHDpScnJz4AQlQE38eriK7d++Wmzdvyp49e2TixIkyZswY2bt3r9SoUUPy8vIkIyNDFi5c6MrOTwuBbdu2SYUKFSx/D/lm12BEgzpNd+7ckYsXL4ouIyGAAAKRChBgRCpIeccL5ObmytmzZ+Xq1auSnZ1tPIqLi+X27dtum9atW8vKlSvd80zEj0CgfXvkyBFz511r27VrV8nPzzcVr1mzphQVFcnhw4dl165dUr9+/fgBCVATfx6uIrpeW3s0tWzZ0rQCamuG3mXXlgsN3ps1a+bKzk8LAW0V8/d7yCK7WbR//37p2LGjzJo1S1JSUsROd09/22I5AgggoAIEGBwHCEQoMGnSJHMxNG7cOPO4zC+++EKGDRsm8+bNc2+5b9++oo+HJMWfQKB9q0FEYmKiqbTuf9c7LqpWrSp169aVd955R7R148UXX4w/GIsa+fNwZdUuPUuWLJEDBw7IjBkz5MaNG65VMn/+fCkoKHBMMOaueIgT5cuX9/t7yN+mDh06ZLrw6e+spUuXuls1/OVnOQIIIBBMgCueYEKsRyAEgcLCQunevbvp8tKmTZsQSpI1VgRGjBghDRs2lFatWgX9yhpcaNcTTTqWoFq1amZ6xYoVJqjYunWruSv/xhtvmOXx/p8/D1e9mzdvLosXL5YPP/zQjE9p0qSJa5UsWLBAtm/fbsYXuBcyYSkQ6u+hsWPHSrly5SQ1NVWmTp1q3o5uuWEWIoAAAjYFCDBsQpENgWAC2oWjX79+smbNGklLSwuWnfUxKrBs2TLTJe748eNBa5CcnGxaKDSjdo9KSkoyZZ577jn3i+G0ZUPHGDgh+fNw1f3o0aNy7tw501qhbzJv1KiRrF+/3j0QWR+oUKdOHVd2floIhPN7yDW+5fTp06JB3pYtWyy2zCIEEEDAvgBv8rZvRU4EAgrMnj1btHvU4MGDTT7tZ6+DVUnOEtBjoFOnTqY7j7Zm6RgL/XnlyhXZvHmzwdAnjmk3ukGDBpluQNodyAnJysPTSy9up0+fLtqyo2OYNFjXVh8dCP/KK6+YO+szZ850AlXYdQzn91DTpk3Nk7pq165txrpoiwYJAQQQiEQg4VGz/beRbICyCDhRQC+KtA89yZ6A073u37/vbrHwFLNarsvu3bsnGqDGa7Kqt2dd7969K1WqVPFcZEy0VcM3Xb9+XXR5pUqVfFcxbyEQ6FzUoK569eoWpZy7KJCXc1WoOQLBBegiFdyIHAgggEBEAv4ufv0tj+jDYqBwsHr7BhdaJavgIgaqGlNfkeAipnYXXxaBUi1AgFGqdw9fDgEEEEAAAQQQQACB2BKgi1Rs7S++bSkR0GZzkn0BfTyrvoSQFFzA9fIzfdwoKbjAw4cPpWzZsjwGOjiVycG5aBPKIxvdYT0wmETApgCDvG1CkQ0BXwH+6PiK+J+nH7N/G981ThiD4VvnSOYZgxGaHudi6F6hlSA3AgioAF2kOA4QQAABBBBAAAEEEEAgagIEGFGjZEMIIIAAAggggAACCCBAgMExgAACCCCAAAIIIIAAAlETIMCIGiUbcrrArVu3nE7g6PrzSqHo7n48o+vJ1hBAAIEnKUCA8SS1+ay4FHjw4IG0aNFC9O3MI0eOlC5dukifPn3k2LFjpr76VKBRo0aVWB6XGA6t1MaNG2XIkCGWtZ8yZYq0a9dO2rZtK5cvX3bnmTx5snTr1k369+8vFy5ccC+P5wkNGvQcSU9PN+fDl19+aVldX88OHTpIy5YtzT/eMm1J5l749ddfy4QJE6R9+/bSs2dPuXbtmnsdEwgggMCTEiDAeFLSfE7cCpw5c0Zq1aplLjD1Uaw7d+6UOXPmSFZWlqnztm3bpEKFCiWWxy2IwyqWmZkp06ZNs6z1vn37TPBw8OBB0XyuY+LEiROix82OHTtk4MCBkpOTY1k+3hbu3btXatSoIXl5eZKRkSELFy4sUUVfT32reXFxsaiZ/lu0aFGJMiz4p8Du3bvl5s2bsmfPHpk4caKMGTPmnyt9pvQRv/rvz3/+s1lz584duXjxouhNERICCCAQiQABRiR6lEXgkUBubq6cPXtWrl69KtnZ2cZEL4hu375tpvUutdVy8OJDoHXr1rJy5UrLyhw5csTcrdeVXbt2lfz8fJOvZs2aUlRUJIcPH5Zdu3ZJ/fr1LcvH20K9qz537lzRlgsNxJs1a1aiir6eJ0+elMTERJk+fbqsW7dO9D0OJP8Cesxpi5kmbfVxtaRalVi/fr20adNGevToIcuXL5eOHTvKrFmzJCUlRejyaSXGMgQQsCtAgGFXinwI+BGYNGmS+UM+btw48zI5fc78sGHDZN68eaaEvjBNWzZ8l/vZHItjTKBv375+X/KmQYReHGsqU6aM++K4atWqou9Reeedd0RbN1588cUYq3VkX3f+/PlSUFBgGVj5euqFbr169cxFsLZgjB8/PrIPj/PS2j1zyZIlcuDAAZkxY4bcuHEjYI0bN24sn3/+uej7RLQbn/7eWrp0qWhXKxICCCAQrgAv2gtXjnIIWAgUFhaa8Rfa5UXvDLqSv+Wu9fyMHYERI0bIJ598ItWqVZPjx48H/OIaXGi3E006/kDLaFqxYoUJKt5++21zN1/HJOideqekBQsWyKVLl0yrzh/+8IeA1e7cubPoP0061umFF14ImN/pK5s3by6LFy+W3/72t2aMj6vVzJ+LBhiadGzLzJkzJTU11QR+q1at8leE5QgggEBQAVowghKRAQF7Atrto1+/frJmzRpJS0tzF/K33J2BiZgSWLZsmekSFyy40EolJyebFgqd1gu9pKQknZTnnntOKlWqZKa1ZUPHJTghaZcc7SKlSR+OUKdOnaDV3rBhg7s18Pz58+K6IA5a0KEZjh49KufOnRNtJapcubI0atQooIQef5pc42JOnz4tGqRs2bIlYDlWIoAAAoEEaMEIpMM6BEIQmD17tukGNXjwYFNK+9nrQEt/y0PYNFljSEC7wnXq1Ml0AerevbsZY6E/r1y5Ips3bzY10SeOaTe6QYMGmS4s2pXFCal3795mUPsrr7wi9+/fN3fMPb2sDF5++WUZMGCACd61W5WOFSD5F9DgQMerbN261YwD0xsedlLTpk3NE75q165tWtV4WpcdNfIggIA/gYRHzfbf+lvJcgQQsBbQiyLtQ0+yJ+B0L72YdrVYeIpZLddl+uQkDVDjNWn99O56KEm7mlWpUkUSEhK8iunYAd2Wla9XRofN3L1713j5VjvYuagPp6hevbpvMcfOB/NyLAwVRyCIAC0YQYBYjQACCEQq4O/i19/ySD+vtJcPNbjQ+ujAeJJ9AQ3GwkkEF+GoUQYBBHwFGIPhK8I8AggggAACCCCAAAIIhC1AF6mw6SjoZAFtNifZF9B3F+ijeknBBfQlZ/qIUH28MSm4gL4ormzZsn4fFRx8C87KwbkY+v6mO2zoZpRAgC5SHAMIhCnAHx37cPRjtm/lhDEY9jWC52QMRnAjzxyci54awae5mRTciBwIWAnQRcpKhWUIIIAAAggggAACCCAQlgABRlhsFEIAAQQQQAABBBBAAAErAQIMKxWWIYAAAggggAACCCCAQFgCBBhhsVEIgZICt27dKrmQJY4W4DVD/nc/Nv5twlmDZzhqlEEAgcclQIDxuGTZrmMEHjx4IC1atBB9O/PIkSOlS5cu0qdPHzl27Jgx0D/8ujw9Pd2s+/LLLx1j4+SKbty4UYYMGWJJoE+JmjBhgrRv31569uwp165ds8wXrwsD2UyePFm6desm/fv3lwsXLgjnT/CjwNdzypQp0q5dO2nbtq1cvnw5+AbIgQACCERZgAAjyqBsznkCZ86ckVq1apmLSX0U686dO2XOnDmSlZVlMPbu3Ss1atSQvLw8ycjIkIULFzoPyWE1zszMlGnTpvmt9e7du+XmzZuyZ88emThxoowZM8Zv3nhbEcjmxIkToufTjh07ZODAgZKTkyOcP4GPAF/Pffv2mcDs4MGDoutcv4estqKP+NV/2vqqT+PyTH/72988Z00+f3n1WCYhgAACngIEGJ4aTCMQhkBubq6cPXtWrl69KtnZ2WYLxcXFcvv2bTOtd6nnzp0r2nKhwUezZs3C+BSKxJJA69atZeXKlX6/8pEjR8wdZs3QsmVLd2uX3wJxtCKQTc2aNaWoqEgOHz4su3btkvr165tWHs4f/weAr6ceW9paqqlr166Sn5/vt7C2fHTs2FF+/OMfS4cOHcwxq0GEtiBpq2unTp3kk08+MeWt8uo7NX7yk5/I2LFjzWdpcENCAAEEVIAAg+MAgQgFJk2aZC4Sx40bZ14mp89NHzZsmMybN89ry/Pnz5eCggJz0eS1gpm4E+jbt2/AF79pF7olS5bIgQMHZMaMGXLjxo24M/BXoUA2VatWFX2/zDvvvCN6B/7FF190b4bzx03hNeHrqQFaYmKiyVOmTBnRICBQqlSpkmzdulV+85vfiAYR2nqUmpoqGzZskNWrV5t94Srvm1dbZRs0aGDyrVmzxrQ4ufLyEwEEnC3Ai/acvf+pfZQFCgsLzfgL7drRpk0br60vWLBALl26ZO70/eEPf/Bax0xsC4wYMcLc6a1WrZocP348aGWaN28uixcvlt/+9rfmbnGgu8xBNxZHGVasWGGCirffftu0+Omd+JMnT5oacv7Y29EaXNy5c8dk1vErekwGSikpKWb1s88+K3//+99NV85evXqZZT/84Q/l3Llz5s3yusA3r3bx09Ym7dqmSbuI6mcmJCSYef5DAAHnCtCC4dx9T82jLKBdoPr16yd6Jy8tLc299fXr15suUrpAB4TXqVPHvY6J+BBYtmyZ6SZnJ7jQGh89etRcuOld+cqVK0ujRo3iAyLCWjz33HOid8k16d13HbvE+RMaanJysmn90VIauCYlJQXcQNmyZc16DQw0aZfOQ4cOmWkdZK9BgyuP66crr/6ee+mll+SDDz6QX/ziF6Yll+DC0PEfAo4XoAXD8YcAANESmD17tmj3qMGDB5tNan9yvcPXu3dvM2D1lVdekfv378vMmTOj9ZFsJ4YE9NjQPu3aTU5bMKZPn266puhYHQ1KnZo8XfRJbNq9cNCgQabbmHYf0ych6YBvzh97R0j37t3N+BX9eeXKFdm8ebO9gv/IpeW2b99ufm9p68X777/vt7w+MU+7V2k3LR0o/uabb/rNywoEEHCWQMKjOxHf3bZwVr2pLQIRCehFkfYVDyXdu3fP3K0OpUy85A3HK17qHqged+/elSpVqnhl0SBUjxUNUJ2a1MDVkuEy8Hf+6NOPtBXIN7+rnFN/Whmqhd1z0Z+3lae2zD7zzDNWq2J+mV2vmK8oFUAgygJ0kYoyKJtDwJ+AXgSREPAU8A0uPNc5edoqWOD8Ce2IsDIMZQuheMdrcBGKF3kRQMBbgC5S3h7MIWBbQO8QkuwJfPPNN6Z7mL3czs6lT/356quv8LJ5GKhVsCcl2dyUI7JxLjpiN1NJBJ66AAHGU98FfIFYFdAuBCR7AvrmarzsWekFs76LAC97XmqlSY8xUnABzsXgRuRAAIHIBQgwIjdkCw4VcHIf+VB3ubb24GVPTa00uMDLnhdjMOw5uXJxLrok7P3UMRgkBBAIXYAxGKGbUQIBBBBAAAEEEEAAAQT8CBBg+IFhMQIIIIAAAggggAACCIQuQIARuhklELAU0OfAkxBAwJ4AT0i35/S4c+mjkl3jWB73Z7F9BBBwjgABhnP2NTV9TAL6DPgWLVqIviRs5MiRoi+f6tOnjxw7dszrE/VN37Vr1xZ9igspfgSmTJki7dq1My+Eu3z5comK6Uv09EVx+pI91zGhA20nTJhg3prcs2dPuXbtWoly8bxg48aNMmTIEMsqTp48Wbp16yb9+/cXfZO0JqtlZgX/WQpYHXNWGc+cOSNLliyRAwcOmJfy6e+mUaNG+f0dZrWNUJbpW9n/3//7f6EUIS8CCMSoAAFGjO44vnbpEdA/0rVq1TIXTBUrVpSdO3fKnDlzJCsry/0l9W7t2LFjedKNWyQ+Jvbt22cugg8ePCiZmZle+1xr+Nlnn8kHH3wgv/71r2Xp0qWyZcsWU/Hdu3fLzZs3zZveJ06cKGPGjIkPEBu1UKdp06ZZ5jxx4oTo+bRjxw4TlOXk5IjVMsvCLDQC/o45K56rV6+at8gvXLhQtCVj27ZtUqFCBcvfYVpeWzr+/ve/y1//+lfRGyueSY9n36S/9y5dumSOdV2nAYzraV/6aGHXNu7cuSMXL17k5osvIPMIxLAAAUYM7zy+eukQyM3NlbNnz4r+sc7OzjZfqri4WG7fvu3+gpqne/fuPBnILRIfE0eOHJH09HRTma5du0p+fr5XxT7++GOzfvHixVJYWCgzZ84067WctnpoatmypbtlwyyI8/9at24tK1eutKylPjmrqKhIDh8+LLt27ZL69eubc8Z3mWVhFhoBf8ecFU+TJk1Mi4W2wL7wwgum5cjf7zAtry1Pqamp8sYbb5jjd+vWreYdJD/5yU/MDRQ9BzTo1qSteW3btjXH/EsvvSTvvfeeWa7/nT9/XnSZnhP79++Xjh07yqxZsyQlJUXoaupmYgKBmBYgwIjp3ceXLw0CkyZNMheJ48aNE23B0McaDhs2TObNm2e+3qlTp8wF09ChQ0vD1+U7RFFAL3wTExPNFsuUKVPihW9XrlyRFStWyLPPPisbNmxw37nXLnSurikzZsyQGzduRPFble5N9e3bV9TKKlWtWlXq1q0r77zzjmir0IsvvihWy6zKsuw7AX/HnJXP97//fRNg6MV9QkKClC9f3vJ3mGfZH/zgB7J582bR4EJb3/Ly8qRBgwayevVq0xqirU6atEXj3XffleXLl5sbL9o6oklbKl599VVZt26dNG3aVA4dOmQCEf19qa18rhYOk5n/EEAgZgWsf8vHbHX44gg8XQG9I6ctFfpHtk2bNubLDB8+XOrVqyfz5883F5LamkGKXYERI0ZIw4YNpVWrVia40O4dmrQ7SLVq1bwqpvOvvfaaDBo0SBYtWiSbNm0y65s3by7aqvHhhx+au8Z6J5kkJhjToEIvXrWrod4p1wDNdxlW/gX8HXP+S3ivsfod5plD94UmDTT0fS2ffvqpCTL69etn9pcGKXouaGA4d+5c0VYNbfnQF0hq2rNnj9eb6rXraLly5UzLyNSpU3mDvVHiPwRiX4AAI/b3ITUoJQI6iFv/yOoAy7S0NPe30j+a2vSvd/n0j692+yDFrsCyZctMl7jjx49LcnKyudOutdHuUUlJSV4V0+5A2gddk3ahq1Klipk+evSonDt3zgSdlStXlkaNGpnlTv/vueeek0qVKhkGbeWoUaOGWC1zulOg+vs75gKVca3z9zvMtV5/fv7552ZWj18de9a+fXvT3UnHGv3iF78wrbnaGqLjOrS1SgNF/b3oapnQwf0aNP7Xf/2XGdOhLSAZGRly+vRp0cDbNU7J8zOZRgCB2BPgTd6xt8/4xqVUYPbs2aZ71ODBg8031P7kerdO7+C5kj5xqFevXq5Zfsa4gLZW6VgB/aldU7TriHaR0ydGFRQUmCch6SBlvajSgMTVD10vpKZPn27u1OtYHQ1KnZo8vfRJbNq9UFt8tNuYdh/TPv++y5xqZafe+vQtq2POTll/v8M8y/7f//2fOb7/8pe/yPvvv29a8rTFSYMJHT/x5ptvmuy9e/cWvbmiYzI0aPR8UpoGQRqY6OdpcKFP39Mn7GmAoy0aJAQQiH2BhEdNmd/GfjWoAQJPVkAvirSvOMmeQLx73b9/333n3UpEn5aj43P0zq5n0if3uFo1XMt1W9r1RANUpyYrT6tl6nP9+nXRViBXy4dTzXzr7e+Yi+Rc1Keh6QMtdOyFensez/p5zzzzjNfX0FYLXe57jHtl+seMBtrVq1e3WvVUl0Xi9VS/OB+OwFMWoAXjKe8APh4BBGJfINjFre+Fl6vGdi68XHmd9NPK02qZk0xCrau/Yy7U7Xjm10fY6nY1oPNNVp9XtmxZW8GFbqs0Bhe+dWQeAQTsCxBg2LciJwIIIIAAAo4V0O5XJAQQQMCOAAGGHSXyIGAhoF0zSPYE9AVdeNmz0qft4GXPSnNp1yk1025lpOACHFvBjciBAAKRCxBgRG7IFhwqYNVNwKEUQautYw3wCspkMugbjjXhZRiC/qfBhY5v0X+k4AKci8GNPHNoAEtCAIHQBQgwQjejBAJGgD7h9g8EfeQoXva9dHAsXva8tOVCgwu87HlxLtpzIhcCCEQmwHswIvOjNAIIIIAAAggggAACCHgIEGB4YDCJAAIIIIAAAggggAACkQkQYETmR2kE3AL6kikSAqEK8CqiUMXIjwACCCBQ2gUYg1Ha9xDfr9QL6IukUlJSzIv36tevL+fPnzf9wfUttsnJyeb7d+jQwf0UpZdeekkWLVpU6uvFF7QvoG8gbtWqlXmbt/ZxdyUdSzFp0iT5/e9/L1WrVpVVq1bJ9773Pddq2bhxo3z00UeOepO3vs1e3+6sgdX69evl+eefd3t88803MmbMGCksLHSfQ/v375df/vKXJo966lOQ/vSnP7nLMOEtoK6jRo0yhvoiPD3mfvCDH3hn+sfc2rVrzduz3377bcv1LEQAAQTCFSDACFeOcgj8Q+DMmTNSq1YtGTJkiPzud7+TnTt3SkFBgUyYMEF27NhhHp9ZXFwsJ06cwCwOBfSCbuzYsaIXv75p9+7dcvPmTdmzZ4/ohbJePG/YsMFky8zMlC1btpjg1LdcvM5rYHHhwgU5ePCgCayysrJk9erV7upu27ZN9GVuvufQT3/6U5Nn+vTpPC3KrWU9sXfvXqlRo4bk5eWZwGzhwoUyb948y8wa0LmO2zt37pibIBrweQbJlgVZiAACCAQR+OettiAZWY0AAtYCubm5cvbsWbl69apkZ2ebTBpQ3L5920yfPHlSEhMTRS+O1q1bJ67HkFpvjaWxJqD7v3v37lKzZs0SX/3IkSPSrl07s7xly5Zy7Ngxd57WrVvLypUr3fNOmFCP9PR0U9WuXbtKfn6+V7W7detmeQ5pJg3QP/30U5k8ebJXGWa8Bdq3by9z5841LRMaqDVr1sw7g8WcBr8dO3aUWbNmmYCX7p4WSCxCAIGQBAgwQuIiMwIlBbQLjF48jhs3ztxd/eKLL2TYsGHuu4b6x7pevXrSo0cPc5E0fvz4khthSUwKnDp1Sg4fPixDhw61/P59+vSRJUuWyIEDB2TGjBly48YNd76+ffs67k5xUVGRCbYVQe+S+wbb5cuXtzyHNP+7774rb731luPMtO7hpPnz55uWVO22GSwdOnRI2rZta35nLV261N2qEawc6xFAAAF/AnSR8ifDcgTCENC+43pRmZOTI23atDFb6Ny5s+g/TS1atJAXXnjBTPNfbAqMGDFCPvnkE6lWrZp5GZ5emOnFnAYP2prx5ptvuivWvHlzWbx4sfz2t78VvTvve8fendEhE9qSp11xNGnXMjX0TVbnkNoePXrUUWNVfF1CnV+wYIFcunRJtKXoD3/4Q8Di2sVv5syZkpqaKhqQ6LgNEgIIIBCJAC0YkehRFgEPAR3o269fP3MRlJaW5l6jfe5dfaB1AHjjxo3d65iIPYFly5aZLnHHjx8XHcivA/wbNGggevfd926xXhSfO3fOBCD6Zu5GjRrFXoWj+I31oQc6/kKTBltJSUleW/d3Dum4gk6dOknZsmW98jNTUkAHzmsXKU36AIo6deqUzOSzRMdrZGRkyOnTp0WDYh0bREIAAQQiEaAFIxI9yiLgITB79mzR7lGDBw82S7VPvg7uffnll2XAgAEm+NDB38uXL/coxWQsC+jdYVfSpyP16tXLHAN6Maz7Wi/WdOzN1q1bzZicNWvWuLI78qeOVdm1a5cZs3LlyhXZvHmzl5e/c+iPf/yjrbEEjkT1qXTv3r1l4MCB8sorr8j9+/dNy4RPlhKzTZs2lZEjR0rt2rXN2A1t0SAhgAACkQgkPGqm/jaSDVAWAScKaCBRt27dkKquXUOqVKki+uhIp6VwvOLJ6O7du2bf26mTXhTeu3fPctC4nfKxkEfrWKlSpah81evXr5uuatHaXlS+VCnYiB5D2mrmmwKdi/pgiurVq/sWcfR8IC9Hw1B5BIII0IIRBIjVCERLQN+DQHKmgAaWpH8KEAz80+JxTVkFF8E+i+AimBDrEUDArgBjMOxKkQ8BBBBAAAEEEEAAAQSCCtBFKigRGRAoKaDN5iT7Avo40ooVK9ov4OCcrpef6aBxUnABfbO3Dv7m5XDBrTQH56I9J89coXaH9SzLNAJOFaCLlFP3PPWOWIA/OvYJ6cds38oJYzDsawTPyRiM4EaeOTgXPTWCT3MzKbgRORCwEqCLlJUKyxBAAAEEEEAAAQQQQCAsAQKMsNgohAACCCCAAAIIIIAAAlYCBBhWKixDAAEEEEAAAQQQQACBsAQIMMJioxACJQVu3bpVciFLEEAAAQQQQAABhwkQYDhsh1Pd6As8ePBAWrRoIa+//rp5G26XLl2kT58+cuzYMfeH6Ruc9e26+oZnz+XuDEzErIC+wbtdu3bStm1buXz5slc99IlQo0aNEt9jQt9vqm9OTk9PN+u+/PJLr3LxPqP11bdGq49v6tChg7Rs2dL80zdK+zP0Lcf8dwJOP7Y4DhBAoHQIEGCUjv3At4hhgTNnzkitWrVkyJAh5lGsO3fulDlz5khWVpap1WeffSYffPCB/PrXv5alS5fKli1bYri2fHVPgX379smFCxfk4MGDkpmZ6d7nrjzbtm2TChUqiO8xsXfvXqlRo4bk5eVJRkaGLFy40FUk7n/qBbAGDl9//XWJuurbp4uLi+XEiRPm36JFi8SfYYnCLDACoRxb+ohf/ffnP//ZlL1z545cvHjRMvCDFwEEEAhFgMfUhqJFXgQsBHJzc+Xs2bNy9epVyc7ONjn0Iun27dtm+uOPPzZ3qhcvXiyNGzeWmTNnWmyFRbEocOTIEbNv9bt37dpVJkyY4FWNbt26mRYKXeh5TLRv3170n97J1+Cje/fuXuXieUbPF63vqVOnSlTz5MmTkpiYKNOnT5cXXnhBXn31VfFnWKIwC4xAKMfW+vXrRfeHpmHDhsmqVaukefPmcvz4cfmf//kfEwSblfyHAAIIhChAC0aIYGRHwFdg0qRJpjvHuHHjTAuGPjdd/1jPmzfPZL1y5YqsWLFCnn32WdmwYYNMmzbNdxPMx6hAUVGRuSDWr68vetOXmHkmfVmevmDQ95hw5Zk/f74UFBRI/fr1XYvi+qcGFYcPH5ahQ4da1lPHMdWrV0969OhhWjDGjx8vwQwtN8RCsXts6U2Pzz//XPR9ItrNT39vaUurVQsTrAgggIBdAQIMu1LkQ8CGQGFhobk7m5OTI23atDElqlWrJq+99poMGjRItMvHpk2bbGyJLKVVYMSIEdKwYUNp1aqVCS60W4km7fqj+9o3WR0TrjwLFiyQ7du3m3EarmXx/HP48OEmgNCL3xs3brjvnrvq3LlzZ1m5cqW0bt3adDP86KOPzKpAhq6y/PQWsHtsaYChSbutlStXTlJTU2Xq1KmiL3wkIYAAAuEKEGCEK0c5BHwEtLtLv379RAd0p6WludfqxdKlS5fMvHajqlKlinsdE7EnsGzZMtMlTruRJCcnm/EXWov8/HxJSkryqpC/Y0K7psydO9fk1YcE1KlTx6tcvM7ohWtKSoo0aNDAtEz4ttxoC5+r5e/8+fOmS6E/w3g1irReoR5b2vKmyTUe6PTp06abFGPFIt0TlEfA2QIJj+66fetsAmqPQOgC2uWlbt26pqAO8n7rrbfMndmNGze6LxZr1qwpe/bsMV0N9MJKu0rpRel7771nnjoU+qfGbglPr9itRclvrr8+tRvPuXPnzP7dvHmzuQusTwvTrk+jR48Wq2NCgwp9qlhCQoK5U6zHh9451qR3jnWwsx4/8ZyaNGlijDSAcHlp3QcMGGC6m6nf8uXL5Te/+Y2loctGu/ZUrlxZKlWq5Frk6J+Bji2F8TwX161bZx5SoA+kUG99spk+3Uv3ya9+9SvHdN0LdMB4egXKxzoEEPAWIMDw9mAOAVsC4fzR0T/82h9fLyqdlsLxiiUjvTAO5wJXAwm9OPZMTgkwPOvsO63dzrSlz865QoDhq/fdvNWxpWuCnYv6cIrq1atbb9SBS4N5OZCEKiNgS4CnSNliIhMCkQs888wzkW+ELZRKgXCCC62Ib3BRKiv3FL5U1apVn8KnxtdHhntsEVzE13FAbRB4WgKMwXha8nwuAggggAACCCCAAAJxKEAXqTjcqVTp8QtosznJvoA+vlW7h5GCC+ibq/URofp4VlJwAX1RXNmyZc24jeC5ycG5GPox4BpvF3pJSiDgXAG6SDl331PzCAX4o2MfkH7M9q0Yg2HfSnMyBiM0L87F0L1CK0FuBBBQAbpIcRwggAACCCCAAAIIIIBA1AQIMKJGyYYQQAABBBBAAAEEEECAAINjAAEEEEAAAQQQQAABBKImQIARNUo25HSBW7duOZ3A0fXnnaWPf/dHYqyDm0kIIIAAAk9GgADjyTjzKXEsoC/Qa9Gihbz++uvmTbhdunSRPn36yLFjx0ytf/7zn5v1micpKUkaN24cxxrOrJq+rXvIkCHuynfo0EFatmxp/o0dO9a93DXBMeGS+O7nlClTzNvt27ZtK5cvX/Ze+Y85X2OrTPoErlGjRonnOahPmXr11VclIyND0tPT5dNPP7Uq6shla9eulblz5zqy7lQaAQQerwBPkXq8vmzdAQJnzpyRWrVqmQvM3/3ud7Jz504pKCiQCRMmyI4dO+SnP/2p+acU06dP53GtcXZMZGZmypYtWyQlJcXUTN+gXFxcLCdOnPBbU46Jf9Ls27dPLly4IAcPHpSPPvpIsrKyZPXq1f/M8GjK19hrpcfMtm3bpEKFCl7n4ODBg6VBgwYyb948uXjxogwYMEA0ACSJuB6JrBb69nR9Itfzzz/PI385OBBAIGIBWjAiJmQDThfIzc2Vs2fPytWrVyU7O9tw6AXm7du3vWj0glPvnk6ePNlrOTOxLdC6dWtZuXKluxInT56UxMREE0yuW7dOAnXN4ZgQOXLkiGlZUMCuXbtKfn6+29I14WvsWu77s1u3biXOwddee80EF5pXAwzeVO2rJrJ//37p2LGjzJo1ywTKdPcsacQSBBAITYAAIzQvciNQQmDSpEmmK8y4ceNM64Q+Z37YsGHuixpXgXfffVfeeust7g66QOLkZ9++fb32qV6c1atXT3r06GFaMcaPH++3phwTIkVFRSYgU6QyZcpYBmS+xv5A9eWE+kJHq3Pw97//vWlJ9G0d8bctJy0/dOiQaPc0beVZunSpedGjk+pPXRFAIPoCBBjRN2WLDhYoLCyU7t27S05OjrRp08YtcePGDTl69KhZ517IREwKjBgxQho2bCitWrWy/P6dO3c2LRp6133OnDmm249VRo6J71S0tUe752jSQdzVqlX7bkWY//s7B3Wswfvvvy+1a9cOc8vxW0zHCZUrV05SU1Nl6tSpoi97JCGAAAKRCBBgRKJHWQQ8BL788kvp16+frFmzRtLS0jzWiOzdu1c6deokZcuW9VrOTOwJLFu2zHSJO378uOWX37Bhg7v16vz5834H9XNMfMeXnJxsxl/onHaP0gchhJsCnYPaeqgPWiCVFMjLyzOD4E+fPi3Nmzc3Y4pK5mIJAgggYF+AAMO+FTkRCCgwe/Zs0zVDB5XqhUz79u3d+f/4xz9Ks2bN3PNMxK/Ayy+/LIcPHzbBpj5NbMaMGaay2m3nX//1X90V55j4jkJb/DTw1p+jR4+Wd955x9LLDRdgItA5qHfpdawUqaRA06ZN5Wc/+5kJMj777DPp2bNnyUwsQQABBEIQSHjUJP1tCPnJigACjwT0YrFu3bpY2BRwopd2+6lSpYokJCTYVPoum3ZP0SdR1axZM6RysZ5Z612pUqWQq6FPPqpcuXJYZUP+sDgoEOhc1AdTMAjeeycH8vLOyRwCCHgK8JhaTw2mEUAAgSgJVK1aNUpbcsZmwgkunCHz5GpJcPHkrPkkBOJdgAAj3vcw9XtsAgyEtE+rz9vHy56XPtb2q6++wssel7EK9Chgm5txTDbORcfsaiqKwFMVIMB4qvx8eCwLaDcWkj2Br7/+2nT7sZfb2bk0uNC3T3N82TsO1EqTHmOk4AKci8GNyIEAApELEGBEbsgWHCrgtD7ykexmbb3Ay56gWjlxDIY9nZK5GINR0iTQEs7FQDol1+kYDBICCIQuwFOkQjejBAIIIIAAAggggAACCPgRIMDwA8NiBBBAAAEEEEAAAQQQCF2AACN0M0oggAACCCAQFwJ37941Y37iojJUAgEESo0AAUap2RV8EScL6BufebmVs46AKVOmSLt27aRt27Zy+fJlZ1U+jNrqW7pr164t+hQkUmCBDh06SMuWLc0/fcGgv3TmzBlZsmSJHDhwQK5cueIv22NZvnbtWpk7d+5j2TYbRQCBpy9AgPH09wHfIE4E/vrXv5qauO4I6tNt/vznP5tl+j7LS5cuyc2bN0vUVi+c9KJJnx7kSlb5XOv4GfsC+/btkwsXLsjBgwclMzNTsrKyYr9Sj7EGev7ohTJPigqOrA8IKC4ulhMnTph/ixYt8lvo6tWrsmbNGlm4cKF4/t66deuW6OB5z/S3v/3NPau/2zx/v7nmb9y4IfqCSU067fn4YN/fgfo7j/3pJmUCgbgT4ClScbdLqdCTFtA/vF26dJEXXnhBnnnmGfnTn/4kI0aMkNzcXPNVpk2bJnPmzJGkpCT57LPPZPjw4TJ69GjzBzg9PV3+5V/+RS5evCiJiYnmD/Ibb7xhAg4NWN5++235j//4jyddJT7vMQscOXJEdN9r6tq1q0yYMOExf2Jsb17Ppe7du8upU6diuyJP4NufPHnS/C6ZPn26+Z306quvSsWKFS0/uUmTJjJq1CjRmxz6++u///u/Zfny5VKjRg3zO0mDup/85CfSq1cvqVatmujvusmTJ5vWDtfvt6VLl4qrJeT555+Xzz//XPr06SOFhYVy7tw52bBhg3mjfUZGhtfvQH3LPQkBBOJXgBaM+N231OwJCegdQv3j+Zvf/Eb69evn/tTGjRubP7b169eXd9991/zhzs7Olm3btpk82jVB8+sf4J/97GdmWV5enjRo0EBWr15t7izm5OS4t8dE/AgUFRWZi0CtUZkyZbzu9MZPLaNTEw0qDh8+LEOHDo3OBuN8K9r6UK9ePenRo4dpwRg/frzfGn//+983AcasWbMkISHB5NM3qm/dutX8Ptu4caPs2LFDUlNTze8p/b30zjvvmHyu32+tW7c28/p7a/369SZY1i6fmzdvljFjxpjy2iJr9TvQ7xdjBQIIxLwALRgxvwupwNMW0NaHAQMGmK/xb//2b+6vo3+ANVWtWtV0g9FuBHXq1HF3hdK7e3p3UdO///u/yy9/+UvZs2ePuZjS7g2a9M6jdi1w/fE3C/kv5gW0tcrVlUT3r94dJlkLaIufjlOZP3++afXTO+dvvvmmdWaWSufOnc0/pWjRooVpmQiFJSUlxWR/9tln5e9//7voTQ9twdD0wx/+0LRKaPcm1+83s+LRf9oCoknLNW/e3ExXrlzZtHb4+x1oMvEfAgjEpQAtGHG5W6nUkxTo1KmTfPrpp+YjXT91Ru9Ma9L+zX379pWdO3eaFgtXv2PtMqV3ZjUdO3bM/ExLS5OXXnpJPvjgA/nFL35hBmkSXBiauPovOTnZjL/QSuXn55uuI3FVwShWZurUqaIXvXqHvHz58qItgiT/AtoiOm/ePJNBWxJ8AwH/Jb9bU7ZsWTOhga+m9u3by6FDh8y0jhvSmx76u831+82sePSfq5xr3vOnv9+BnnmYRgCB+BKgBSO+9ie1eQoCendPWxy0j3jdunVFuxh4pt69e4teJOnAXl137do1s3rkyJGi67T8D37wA7NMx3Jo9wQNSLSrA3dqPSXjZ1qPlV27dpljRp/eo91JSNYCOkbFlfTJW6676a5l/PQWePnll02Lqna/LCgoMF0zvXOENqfH6vbt283vKm11ff/990N+6pm/34GhfRNyI4BALAkkPLpL8d1tilj61nxXBJ6ywBdffGGCCf0aR48eNd2YtJuTtmDoHUT9I+yZtNXiwYMHZrCj53Kd1uU6ONwzWS3zXB9r055esfbdH+f3vX//fomAVJfpk4Bq1qz5OD86bratTzvSrji+gX3cVDDMimgXPB1I7dsCGu65qMekOoebAv0ODHebT6JcuF5P4rvxGQiUZgFaMErz3uG7xYSAPgXqxz/+sekioH+E9Sksvkm7D/h7aopvcKFlrZb5bpP52Bfgojj292FprYGOe4hmiiS40O8R6HdgNL8n20IAgdIhQIBROvYD3yKGBfROsz5pRQc++vZLjuFq8dURQAABBBBAAIGwBAgwwmKjEAJS4kVUmPgX0Cdo+b64y39uZ6/RFy7iZf8Y0C5laqath6TgAhxbwY3IgQACkQswBiNyQ7bgQAF9Q622WJAQQAABBOJXQFul/b2oMH5rTc0QiFyAACNyQ7aAAAIIIIAAAggggAAC/xDgPRgcCggggAACCCCAAAIIIBA1AQKMqFGyIQQQQAABBBBAAAEEECDA4BhAAAEEEEAAAQQQQACBqAkQYESNkg0hgAACCCCAAAIIIIAAAQbHAAIIIIAAAggggAACCERNgAAjapRsCAEEEEAAAQQQQAABBAgwOAYQQAABBBBAAAEEEEAgagIEGFGjZEMIIIAAAggggAACCCBAgMExgAACCCCAAAIIIIAAAlETIMCIGiUbQgABBBBAAAEEEEAAAQIMjgEEEEAAAQQQQAABBBCImgABRtQo2RACCCCAAAIIIIAAAggQYHAMIIAAAggggAACCCCAQNQECDCiRsmGEEAAAQQQQAABBBBAgACDYwABBBBAAAEEEEAAAQSiJkCAETVKNoQAAggggAACCCCAAAIEGBwDCCCAAAIIIIAAAgggEDUBAoyoUbIhBBBAAAEEEEAAAQQQIMDgGEAAAQQQQAABBBBAAIGoCRBgRI2SDSGAAAIIIIAAAggggAABBscAAggggAACCCCAAAIIRE2AACNqlGwIAQQQQAABBBBAAAEECDA4BhBAAAEEEEAAAQQQQCBqAgQYUaNkQwgggAACCCCAAAIIIECAwTGAAAIIIIAAAggggAACURMgwIgaJRtCAAEEEEAAAQQQQAABAgyOAQQQQAABBBBAAAEEEIiaAAFG1CjZEAIIIIAAAggggAACCBBgcAwggAACCCCAAAIIIIBA1AQIMKJGyYYQQAABBBBAAAEEEECAAINjAAEEEEAAAQQQQAABBKImQIARNUo2hAACCCCAAAIIIIAAAgQYHAMIIIAAAggggAACCCAQNQECjKhRsiEEEEAAAQQQQAABBBAgwOAYQAABBBBAAAEEEEAAgagJEGBEjZINIYAAAggggAACCCCAAAEGxwACCCCAAAIIIIAAAghETYAAI2qUbAgBBBBAAAEEEEAAAQQIMDgGEEAAAQQQQAABBBBAIGoCBBhRo2RDCCCAAAIIIIAAAgggQIDBMYAAAggggAACCCCAAAJREyDAiBolG0IAAQQQQAABBBBAAAECDI4BBBBAAAEEEEAAAQQQiJoAAUbUKNkQAggggAACCCCAAAIIEGBwDCCAAAIIIIAAAggggEDUBAgwokbJhhBAAAEEEEAAAQQQQIAAg2MAAQQQQAABBBBAAAEEoiZAgBE1SjaEAAIIIIAAAggggAACBBgcAwgggAACCCCAAAIIIBA1AQKMqFGyIQQQQAABBBBAAAEEECDA4BhAAAEEEEAAAQQQQACBqAkQYESNkg0hgAACCCCAAAIIIIAAAQbHAAIIIIAAAggggAACCERNgAAjapRsCAEEEEAAAQQQQAABBAgwOAYQQAABBBBAAAEEEEAgagIEGFGjZEMIIIAAAggggAACCCBAgMExgAACCCCAAAIIIIAAAlETIMCIGiUbQgABBBBAAAEEEEAAAQIMjgEEEEAAAQQQQAABBBCImgABRtQo2RACCCCAAAIIIIAAAggQYHAMIIAAAggggAACCCCAQNQECDCiRsmGEEAAAQQQQAABBBBAgACDYwABBBBAAAEEEEAAAQSiJkCAETVKNoQAAggggAACCCCAAAIEGBwDCCCAAAIIIIAAAgggEDUBAoyoUbIhBBBAAAEEEEAAAQQQIMDgGEAAAQQQQAABBBBAAIGoCRBgRI2SDSGAAAIIIIAAAggggMD/B3cLAuO/KW1bAAAAAElFTkSuQmCC"
    }
   },
   "cell_type": "markdown",
   "metadata": {},
   "source": [
    "Information from Column view of the train dataset in Kaggle<br>\n",
    "Note: 'rs' means distribution is right-skewed, 'ls' left - skewed\n",
    "\n",
    "![image.png](attachment:image.png)<br>\n",
    "<font color= yellow>OBSERVATIONS</font><br>\n",
    "\\- f9 not at all useful for modeling<br>\n",
    "\\- data has been converted to t or z scores (mean 0, std dev 1)<br>\n",
    "\\-Data leakage?  Do not know whether the train and test datasets were independently converted to t or z scores<br>\n",
    "\\- Appears most of the columns consists of data clustered near the mean with a few outliers (except f0,f22,f23,f24).<br>\n",
    "\\- Grade is categorical (only possible values are integers from 0 - 4)"
   ]
  },
  {
   "cell_type": "code",
   "execution_count": 3,
   "metadata": {},
   "outputs": [],
   "source": [
    "#list of feature column names (will be useful later)\n",
    "x_params = df_test.columns.to_list()\n",
    "x_params.remove('f9')\n",
    "#checked"
   ]
  },
  {
   "cell_type": "code",
   "execution_count": 4,
   "metadata": {},
   "outputs": [
    {
     "data": {
      "image/png": "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\n",
      "text/plain": [
       "<Figure size 864x576 with 1 Axes>"
      ]
     },
     "metadata": {},
     "output_type": "display_data"
    }
   ],
   "source": [
    "# plot out the number of unique values in each column\n",
    "import matplotlib.pyplot as plt\n",
    "import seaborn as sns\n",
    "sns.set(style = 'ticks')\n",
    "\n",
    "unique_values = {}\n",
    "for x in x_params:\n",
    "    unique_values[x] = df_train[x].value_counts().size\n",
    "\n",
    "fig = plt.figure(figsize = (12,8))\n",
    "ax = fig.add_subplot(111)\n",
    "height = unique_values.values()\n",
    "x = np.arange(len(x_params))\n",
    "y = range(0,80,5)\n",
    "plt.bar(x = x, height = height)\n",
    "tick_positions = range(0,len(unique_values))\n",
    "ax.set_xticks(tick_positions)\n",
    "ax.set_xticklabels(unique_values.keys(), rotation =90, size = 12)\n",
    "ax.set_xlabel(\"Parameter\", c = 'y', size = 18)\n",
    "ax.set_yticks(y)\n",
    "ax.set_yticklabels(y)\n",
    "ax.tick_params(axis = 'both',colors = 'black')\n",
    "ax.grid(axis = 'y')\n",
    "ax.set_ylabel(\"# of Unique Values\", c = 'y', size = 18)\n",
    "plt.show()\n"
   ]
  },
  {
   "cell_type": "markdown",
   "metadata": {},
   "source": [
    "<font color = gray> OBSERVATIONS</font><br><br>\n",
    "\\- Parameters f22 - f24 have over 10 unique values<br>\n",
    "\\- Parameters f0 - f2, f5 have 5 to 10 unique values<br>\n",
    "\\- All other parameters (21 total) have < 5 unique values.<br>\n",
    "\n",
    "f0 - f27 a mixture of continous and numeric categorical variables."
   ]
  },
  {
   "cell_type": "markdown",
   "metadata": {},
   "source": [
    "<font color = gray>THOUGHTS</font><br>\n",
    "1. The factors are all numeric and (I assume) on an interval scale\n",
    "2. This is a manufacturing problem, where knowing the effect of each factor on the output can lead to improved output.\n",
    "3. Given 1. and 2. a regression, with weights for each factor, comes first to my mind.\n",
    "    - Will the variables with few unique values consume degrees of freedom and add little predictive power to a regression because they are effectively binned? StatStack Exchange indicates such (https://stats.stackexchange.com/questions/311954/should-i-convert-integer-variables-with-very-few-unique-values-to-factors-for-pr?rq=1).  But, with the large number of data points relative to the number of factors will the loss of DofF matter?  I don't think it will.\n",
    "    - Don't know whether the x relationships with y are linear or non-linear.\n",
    "    - Don't know (yet) if multicollinearity exists.\n",
    "2.  The y output has only 5 possible values.  A classification model may be more appropriate. \n",
    "    - Many of the x variables appear categorical (not continuous).<br>\n
    "<font color = gray>CONCLUSION:</font><br>\n",
    "\n",
    "- Start with a Linear Regression (LR) model.  \n",
    "    - Evaluate multicollinearity among the x variables.\n",
    "    - Determine x variable correlation with grade.\n",
    "    - Eliminate variables with correlations < abs(0.2) (This value is a judgement call).\n",
    "    - Fit model to training data. \n",
    "    - Bin grade predictions.  \n",
    "    - Determine accuracy of grade predictions.  \n",
    "- Stop and rethink."
   ]
  },
  {
   "cell_type": "markdown",
   "metadata": {},
   "source": [
    "### Linear Regression - Multicollinearity ###"
   ]
  },
  {
   "cell_type": "code",
   "execution_count": 5,
   "metadata": {},
   "outputs": [],
   "source": [
    "#identify multicollinearity between independent variables with VIF\n",
    "from sklearn.linear_model import LinearRegression\n",
    "def vif (x_names, data):\n",
    "    '''Use this function to determine the Variance Inflation Factor (VIF)for the x variables.\n",
    "    VIF is a measure of multicollinearity between variables, and is 1/(1 - r2), where r2 is \n",
    "    is r squared between an x as the dependent variable and all the remaining x as independent\n",
    "    variables'''\n",
    "    vif_dict = {}\n",
    "    for name in x_names:\n",
    "        not_x = [i for i in x_names if i != name]\n",
    "        X,y = data[not_x], data[name]\n",
    "        #get r-squared\n",
    "        r_squared= LinearRegression().fit(X,y).score(X,y)\n",
    "        #get VIF\n",
    "        vif = 1/(1 - r_squared)\n",
    "        #write to dict\n",
    "        vif_dict[name] = vif\n",
    "    #vif's to dataframe\n",
    "    return vif_dict\n",
    "    \n",
    "        "
   ]
  },
  {
   "cell_type": "code",
   "execution_count": 6,
   "metadata": {},
   "outputs": [
    {
     "name": "stdout",
     "output_type": "stream",
     "text": [
      "{'f0': 1.817840428993882, 'f1': 2.314364335543746, 'f2': 3.571219493243316, 'f3': 5.095432553979497, 'f4': 4.3093096582966615, 'f5': 2.6230370997705035, 'f6': 1.9831882447210958, 'f7': 2.2436197161035722, 'f8': 1.0544783748662283, 'f10': 1.3079607062648506, 'f11': 1.2135780523703157, 'f12': 1.4295659457307277, 'f13': 1.6763010268085623, 'f14': 1.2521560034244552, 'f15': 1.0731568885974552, 'f16': 1.2254197405201257, 'f17': 1.0186877188602401, 'f18': 1.2662489907882502, 'f19': 2.060656171148822, 'f20': 1.1252100981229018, 'f21': 2.356358466009056, 'f22': 1.3195474774116394, 'f23': 1.1623462878207766, 'f24': 1.717599552190203, 'f25': 1.174509994465795, 'f26': 1.449481455956652, 'f27': 1.0851639653361487}\n"
     ]
    }
   ],
   "source": [
    "x_vifs = vif(x_params, df_train)\n",
    "print(x_vifs)"
   ]
  },
  {
   "cell_type": "markdown",
   "metadata": {},
   "source": [
    "<font color = yellow>gray </font>\n",
    "<br><br>\n",
    "Potential multicolliearity between f3 and the other x variables (Literature says VIF < 5 not a concern; 5 < VIF < 10 possible concern; VIF > 10 is a concern.<br>\n",
    "\n",
    "For now, I'm going to disregard potential multicollinearity."
   ]
  },
  {
   "cell_type": "markdown",
   "metadata": {},
   "source": [
    "### Initial Linear Regression - x Parameter Evaluation (Feature Selection) ###"
   ]
  },
  {
   "cell_type": "code",
   "execution_count": 7,
   "metadata": {},
   "outputs": [
    {
     "name": "stdout",
     "output_type": "stream",
     "text": [
      "x variable coefficients for LR model \n",
      " f4    2.014e-01\n",
      "f0    2.393e-01\n",
      "f6    2.469e-01\n",
      "f5    2.557e-01\n",
      "f14   2.651e-01\n",
      "f18   2.799e-01\n",
      "f3    3.283e-01\n",
      "f2    4.191e-01\n",
      "dtype: float64\n"
     ]
    }
   ],
   "source": [
    "#correlations between x variables and grade w/0.2 as a cutoff (judgement call)\n",
    "\n",
    "train_corr = df_train[x_params].corrwith(df_train['grade'])\n",
    "sorted_corrs = abs(train_corr).sort_values()\n",
    "strong_corrs = sorted_corrs[sorted_corrs > .2]\n",
    "print(\"x variable coefficients for LR model\",'\\n',strong_corrs)"
   ]
  },
  {
   "cell_type": "markdown",
   "metadata": {},
   "source": [
    "### Initial Linear Regression -  Model Fit and Prediction###"
   ]
  },
  {
   "cell_type": "code",
   "execution_count": 8,
   "metadata": {},
   "outputs": [],
   "source": [
    "#function for binning predictions\n",
    "\n",
    "def binning (predictions):\n",
    "    for n,p in enumerate(predictions):\n",
    "        \n",
    "        if p <= 0.5:\n",
    "            predictions[n] = 0\n",
    "        if (p > 0.5) and (p <= 1.5):\n",
    "            predictions[n] = 1\n",
    "        if (p > 1.5) and (p <= 2.5):\n",
    "            predictions[n] = 2\n",
    "        if (p > 2.5) and (p <= 3.5):\n",
    "            predictions[n] = 3\n",
    "        if p > 3.5:\n",
    "            predictions[n] = 4\n",
    "    \n",
    "    return predictions"
   ]
  },
  {
   "cell_type": "code",
   "execution_count": 9,
   "metadata": {},
   "outputs": [],
   "source": [
    "# fit model with strongly correlated x's to training data\n",
    "\n",
    "from sklearn.linear_model import LinearRegression\n",
    "\n",
    "lr = LinearRegression()\n",
    "X = df_train[strong_corrs.index]\n",
    "y = df_train['grade']\n",
    "lr.fit(X,y)\n",
    "train_pred = lr.predict(X)\n",
    "train_pred_bin = binning(train_pred)"
   ]
  },
  {
   "cell_type": "code",
   "execution_count": 10,
   "metadata": {},
   "outputs": [
    {
     "name": "stdout",
     "output_type": "stream",
     "text": [
      "1st LR model accuracy: 77.42%\n"
     ]
    }
   ],
   "source": [
    "#fraction of LR model grade predictions that were correct\n",
    "\n",
    "from sklearn.metrics import accuracy_score\n",
    "\n",
    "acc_perc = accuracy_score(df_train['grade'], train_pred_bin, normalize=True)\n",
    "print('1st LR model accuracy: {:.2f}%'.format(acc_perc * 100))"
   ]
  },
  {
   "cell_type": "markdown",
   "metadata": {},
   "source": [
    "## **Stop & Rethink** ###\n",
    "\n",
    "<font color = gray>THOUGHTS</font><br>\n",
    "\n",
    "- Basic LR using  features correlated (Pearson) with 'grade' having a corr coefficent > 0.2, and binning the predictions gave a training dataset accuracy of 77% \n",
    "    - Is this beneficial to the client company?  Can they implement process improvement with this information\n",
    "- The predictive power of the model with new data may improve through regularization (penalize the model for having too many factors). Elastic Net CV (ENCV) combines Ridge and LASSO regression regularization to look for x variables having the greatest impact on `grade`.  ENCV is a structured way to reduce the number of factors through the regularization penalties l1 and l2. Per scikit- learn, try  l1/l2 ratios of  [.1, .5, .7, .9, .95, .99, 1]."
   ]
  },
  {
   "cell_type": "markdown",
   "metadata": {},
   "source": [
    "### ENCV Regression -  Model Fit and Prediction###"
   ]
  },
  {
   "cell_type": "code",
   "execution_count": 11,
   "metadata": {},
   "outputs": [
    {
     "name": "stdout",
     "output_type": "stream",
     "text": [
      "alpha_value: 0.01\n",
      "l1_ratio: 0.7\n",
      "accuracy score using all non zero ENCV coefficients: 79.2%\n"
     ]
    }
   ],
   "source": [
    "# fit Elastic Net model to training data using different l1/l2 ratios.\n",
    "#The ElasticNetCV algorithm will choose the best fitting  ratio from the list\n",
    "\n",
    "from sklearn.linear_model import ElasticNetCV\n",
    "l1 = [.1, .5, .7, .9, .95, .99, 1] #list of l1/l2 ratios\n",
    "X = df_train[x_params]\n",
    "y = df_train['grade']\n",
    "\n",
    "lren = ElasticNetCV(l1_ratio = l1)\n",
    "lren.fit(X, y)\n",
    "lren_predict = lren.predict(X)\n",
    "bin_lren_predict = binning(lren_predict)\n",
    "acc_lren = accuracy_score(y,bin_lren_predict, normalize = True)\n",
    "print('alpha_value: {:.2f}'.format(lren.alpha_))\n",
    "print('l1_ratio:', lren.l1_ratio_)\n",
    "print('accuracy score using all non zero ENCV coefficients: {:.1f}%'\n",
    "       .format(acc_lren * 100))\n"
   ]
  },
  {
   "cell_type": "markdown",
   "metadata": {},
   "source": [
    "### ENCV Regression - Feature Evaluation###"
   ]
  },
  {
   "cell_type": "code",
   "execution_count": 12,
   "metadata": {},
   "outputs": [
    {
     "data": {
      "text/plain": [
       "{'f0': -0.011,\n",
       " 'f1': 0.034,\n",
       " 'f2': 0.288,\n",
       " 'f3': 0.0,\n",
       " 'f4': -0.0,\n",
       " 'f5': -0.074,\n",
       " 'f6': -0.064,\n",
       " 'f7': 0.023,\n",
       " 'f8': 0.038,\n",
       " 'f10': -0.033,\n",
       " 'f11': -0.023,\n",
       " 'f12': 0.0,\n",
       " 'f13': 0.03,\n",
       " 'f14': -0.178,\n",
       " 'f15': -0.101,\n",
       " 'f16': -0.029,\n",
       " 'f17': 0.06,\n",
       " 'f18': -0.186,\n",
       " 'f19': 0.025,\n",
       " 'f20': 0.008,\n",
       " 'f21': -0.022,\n",
       " 'f22': 0.066,\n",
       " 'f23': -0.006,\n",
       " 'f24': 0.008,\n",
       " 'f25': -0.062,\n",
       " 'f26': -0.025}"
      ]
     },
     "execution_count": 12,
     "metadata": {},
     "output_type": "execute_result"
    }
   ],
   "source": [
    "#identify ENCV coefficents by feature name\n",
    "ENet_coeffs = {}\n",
    "for i in range(0,len(x_params)-1):\n",
    "    ENet_coeffs[x_params[i]] = round(lren.coef_[i],3)\n",
    "    \n",
    "ENet_coeffs"
   ]
  },
  {
   "cell_type": "code",
   "execution_count": 13,
   "metadata": {},
   "outputs": [
    {
     "name": "stdout",
     "output_type": "stream",
     "text": [
      "# of non-zero ENCV coefficients: 23\n"
     ]
    }
   ],
   "source": [
    "#number of non zero ENCV x coefficients\n",
    "\n",
    "non0_ENCV = []\n",
    "for k,v in ENet_coeffs.items():\n",
    "    if v != 0:\n",
    "        non0_ENCV.append(k)\n",
    "        \n",
    "print('# of non-zero ENCV coefficients:', len(non0_ENCV))"
   ]
  },
  {
   "cell_type": "markdown",
   "metadata": {},
   "source": [
    "<font color = gray>THOUGHTS</font><br>\n",
    "\n",
    "- The ENCV model had 23 non-zero coefficients\n",
    "- sorted Elastic Net cross validation (ENCV) feature coefficients (absolute value, high to low): f2, f18, f14, f5, f22, f6, f25, f17, etc.  f3, f4,f12 are 0.\n",
    "- sorted correlation coefficients (feature with correlated with grade, high to low): f2, f3, f18, f14, f5, f6, f0, f4.\n",
    "- f3 has a high correlation coefficient but the ENCV feature coefficient is 0 and VIF was ~5. \n",
    "- f2, f18, f14 feature coefficents are >2x the magnitude of the next largest coefficient.\n",
    "- Revise original linear model with just f2, f18 and f14."
   ]
  },
  {
   "cell_type": "markdown",
   "metadata": {},
   "source": [
    "### Revised Linear Regression (3 Parameters) -  Model Fit and Prediction###"
   ]
  },
  {
   "cell_type": "code",
   "execution_count": 14,
   "metadata": {},
   "outputs": [
    {
     "name": "stdout",
     "output_type": "stream",
     "text": [
      "2nd LR model accuracy: 76.94%\n"
     ]
    }
   ],
   "source": [
    "#linear regression model, rev.1\n",
    "\n",
    "lr_r1 = LinearRegression()\n",
    "Xr1 = df_train[['f2','f14','f18']]\n",
    "lr_r1.fit(Xr1,y)\n",
    "lr_r1_pred = lr_r1.predict(Xr1)\n",
    "bin_lr_r1_pred = binning(lr_r1_pred)\n",
    "acc_lr_r1 = accuracy_score(df_train['grade'], bin_lr_r1_pred, normalize=True)\n",
    "print('2nd LR model accuracy: {:.2f}%'.format(acc_lr_r1 * 100))"
   ]
  },
  {
   "cell_type": "markdown",
   "metadata": {},
   "source": [
    "<font color = gray>LR SUMMARY</font>\n",
    "<br><br>\n",
    "3 models so far:<br>\n",
    "- Linear Regression with x variables having a Pearson correlation with grade greater than 0.2\n",
    "    - Training dataset prediction accuracy after binning: **<font color = red>77.42%**</font>\n",
    "- ENCV Regression\n",
    "    - Training dataset prediction accuracy after binning: **<font color = red>79.19%**</font>\n",
    "- Linear Regression with three most significant x variables determined by ENCV\n",
    "    - Training dataset prediction accuracy after binning: **<font color = red>76.94%</font>**"
   ]
  },
  {
   "cell_type": "markdown",
   "metadata": {},
   "source": [
    "### Test Data Model Fit and Prediction###"
   ]
  },
  {
   "cell_type": "code",
   "execution_count": 15,
   "metadata": {},
   "outputs": [
    {
     "data": {
      "text/plain": [
       "Index(['f0', 'f1', 'f2', 'f3', 'f4', 'f5', 'f6', 'f7', 'f8', 'f9', 'f10',\n",
       "       'f11', 'f12', 'f13', 'f14', 'f15', 'f16', 'f17', 'f18', 'f19', 'f20',\n",
       "       'f21', 'f22', 'f23', 'f24', 'f25', 'f26', 'f27'],\n",
       "      dtype='object')"
      ]
     },
     "execution_count": 15,
     "metadata": {},
     "output_type": "execute_result"
    }
   ],
   "source": [
    "df_test.columns"
   ]
  },
  {
   "cell_type": "markdown",
   "metadata": {},
   "source": [
    "<font color= gray>THOUGHT</font>\n",
    "\n",
    "Oops...I should have picked up earlier that the test dataset didn't have the `grade` column.  Was hoping to use the test data set to evaluate accuracy of each model's predictions of grade.  I could take a portion of the train data set and set it aside for validating the model, but there would be data leakage between the smaller training data set and the validation set.<br>\n",
    "\n",
    "I'll just name the predictions using each model and write to a csv."
   ]
  },
  {
   "cell_type": "code",
   "execution_count": 16,
   "metadata": {},
   "outputs": [
    {
     "name": "stdout",
     "output_type": "stream",
     "text": [
      "binned prediction for Original LR model named 'test_pred0_bin'\n",
      "binned prediction for ENCV model named 'test_lren_bin'\n",
      "binned prediction for LR model rev 1 named 'test_pred1_bin'\n"
     ]
    }
   ],
   "source": [
    "#Fit test data to all 3 LR models\n",
    "\n",
    "X_test0 = df_test[strong_corrs.index]\n",
    "test_pred0 = lr.predict(X_test0)\n",
    "test_pred0_bin = binning(test_pred0) #predict using original LR model\n",
    "\n",
    "X_testlren = df_test[x_params]\n",
    "test_lren = lren.predict(X_testlren)\n",
    "test_lren_bin = binning(test_lren) #predict using ENCV model\n",
    "\n",
    "X_test1= df_test[['f2','f14','f18']]\n",
    "test_pred1 = lr_r1.predict(X_test1)\n",
    "test_pred1_bin = binning(test_pred1) #predict using revised LR model\n",
    "\n",
    "print(\"\"\"binned prediction for Original LR model named 'test_pred0_bin'\"\"\")\n",
    "print(\"\"\"binned prediction for ENCV model named 'test_lren_bin'\"\"\")\n",
    "print(\"\"\"binned prediction for LR model rev 1 named 'test_pred1_bin'\"\"\")"
   ]
  },
  {
   "cell_type": "code",
   "execution_count": 17,
   "metadata": {},
   "outputs": [],
   "source": [
    "#Write df_ test predicted values from the 3 regression predictions to csv files\n",
    "\n",
    "#original lr model\n",
    "np.savetxt(\"lr0_test_pred.csv\", test_pred0_bin, delimiter=\",\")\n",
    "#ENCV model\n",
    "np.savetxt(\"lren_test_pred.csv\", test_lren_bin, delimiter=\",\")\n",
    "#revised lr model\n",
    "np.savetxt(\"lr1_test_pred.csv\", test_pred1_bin, delimiter=\",\")"
   ]
  },
  {
   "cell_type": "markdown",
   "metadata": {},
   "source": [
    "As stated earlier, with so many variables in this dataset being categorical a classification model may be useful to this client company"
   ]
  },
  {
   "cell_type": "markdown",
   "metadata": {},
   "source": [
    "## Random Forest Classification - Feature Selection ##"
   ]
  },
  {
   "cell_type": "code",
   "execution_count": 18,
   "metadata": {},
   "outputs": [],
   "source": [
    "from sklearn.feature_selection import RFECV  \n",
    "from sklearn.ensemble import RandomForestClassifier"
   ]
  },
  {
   "cell_type": "code",
   "execution_count": 19,
   "metadata": {},
   "outputs": [],
   "source": [
    "#function to select features from RFECV (Recursive Feature Elimination Cross Validation).  \n",
    "#RFECV takes a model (in this case Random Forest) and recursively eliminates features until\n",
    "# the maximum average model accuracy score from Cross Validation is achieved.\n",
    "\n",
    "def feature_selection(df):\n",
    "    all_X = x_params\n",
    "    all_y = df['grade']\n",
    "    rfc = RandomForestClassifier(n_estimators = 100, random_state = 1)\n",
    "    grid = RFECV(rfc, cv = 5) #use the default no. of crossfolds\n",
    "    grid.fit(X = df[all_X], y = all_y)\n",
    "    num_features = grid.n_features_\n",
    "    rank = grid.ranking_\n",
    "    best_columns = df[all_X].columns[grid.support_]\n",
    "    return all_X, all_y, num_features, rank, best_columns"
   ]
  },
  {
   "cell_type": "code",
   "execution_count": 20,
   "metadata": {},
   "outputs": [
    {
     "name": "stdout",
     "output_type": "stream",
     "text": [
      "# of cols chosen recursively from RF classifier: 13 \n",
      " column ranking: [ 1  5  1  2  1  1  1  6  7  1 10  4  9  1  1  1 12  1 11 13  3  1  1  1\n",
      "  8 14 15] \n",
      " column names for model: Index(['f0', 'f2', 'f4', 'f5', 'f6', 'f10', 'f14', 'f15', 'f16', 'f18', 'f22',\n",
      "       'f23', 'f24'],\n",
      "      dtype='object')\n"
     ]
    }
   ],
   "source": [
    "all_X, all_y,num_features,rank, best_columns = feature_selection(df_train)\n",
    "print('# of cols chosen recursively from RF classifier:', num_features, '\\n', \n",
    "      'column ranking:', rank, '\\n','column names for model:',best_columns)"
   ]
  },
  {
   "cell_type": "markdown",
   "metadata": {},
   "source": [
    "## Random Forest Classification - Model Fit and Predict ##"
   ]
  },
  {
   "cell_type": "code",
   "execution_count": 21,
   "metadata": {},
   "outputs": [],
   "source": [
    "#fit RF classifier using the selected features, make `grade` predictions, determine\n",
    "#accuracy score\n",
    "\n",
    "def my_RFC(df,Xcols,ycol):\n",
    "    rfc = RandomForestClassifier(n_estimators = 100, random_state = 1)\n",
    "    X = df[Xcols]\n",
    "    y =df[ycol]\n",
    "    rfc.fit(X,y)\n",
    "    rfc_prediction = rfc.predict(X)\n",
    "    rfc_acc = rfc.score(X,y)\n",
    "    return rfc_prediction, rfc_acc"
   ]
  },
  {
   "cell_type": "code",
   "execution_count": 22,
   "metadata": {},
   "outputs": [
    {
     "name": "stdout",
     "output_type": "stream",
     "text": [
      "Original RFC model accuracy: 99.52%\n"
     ]
    }
   ],
   "source": [
    "rfc_prediction, rfc_acc = my_RFC(df_train, best_columns, 'grade')\n",
    "print('Original RFC model accuracy: {:.2f}%'.format(rfc_acc * 100))"
   ]
  },
  {
   "cell_type": "code",
   "execution_count": 23,
   "metadata": {},
   "outputs": [
    {
     "data": {
      "text/plain": [
       " 0    617\n",
       " 1      2\n",
       "-1      1\n",
       "Name: Diff, dtype: int64"
      ]
     },
     "execution_count": 23,
     "metadata": {},
     "output_type": "execute_result"
    }
   ],
   "source": [
    "#99+% accuracy. Check difference of actual grades - predicted grades.\n",
    "\n",
    "grade_list = list(df_train['grade'])\n",
    "diff = grade_list - rfc_prediction\n",
    "rfc_check_df = pd.DataFrame(data = {'Grade_act': grade_list,\n",
    "                                    'Grade_pred': rfc_prediction,\n",
    "                                   'Diff': diff})\n",
    "rfc_check_df['Diff'].value_counts()"
   ]
  },
  {
   "cell_type": "code",
   "execution_count": 24,
   "metadata": {},
   "outputs": [
    {
     "data": {
      "text/plain": [
       "{'f0': 8,\n",
       " 'f2': 7,\n",
       " 'f4': 3,\n",
       " 'f5': 8,\n",
       " 'f6': 2,\n",
       " 'f10': 2,\n",
       " 'f14': 2,\n",
       " 'f15': 2,\n",
       " 'f16': 2,\n",
       " 'f18': 2,\n",
       " 'f22': 49,\n",
       " 'f23': 63,\n",
       " 'f24': 24}"
      ]
     },
     "execution_count": 24,
     "metadata": {},
     "output_type": "execute_result"
    }
   ],
   "source": [
    "#Are the RFClassifier variables mostly categorical?\n",
    "RFC_params_count = {}\n",
    "for c in best_columns:\n",
    "    RFC_params_count[c] = len(df_train[c].value_counts())\n",
    "    \n",
    "RFC_params_count\n",
    "    "
   ]
  },
  {
   "cell_type": "markdown",
   "metadata": {},
   "source": [
    "<font color = gray>THOUGHTS</font>\n",
    "\n",
    "- 7 input variables (f4,f6,f10,f14,f15,f16,f18) are categorical.\n",
    "- 3 input variables (f0,f2,f5) are \"almost\" categorical.\n",
    "- 3 input variables (f22, f23,f24) are continuous.\n",
    "- Rerun the RFClassifier with the categorical variables, check accuracy\n"
   ]
  },
  {
   "cell_type": "markdown",
   "metadata": {},
   "source": [
    "## Random Forest Classification - Feature Modification ##"
   ]
  },
  {
   "cell_type": "code",
   "execution_count": 25,
   "metadata": {},
   "outputs": [
    {
     "data": {
      "text/plain": [
       "['f4', 'f6', 'f10', 'f14', 'f15', 'f16', 'f18']"
      ]
     },
     "execution_count": 25,
     "metadata": {},
     "output_type": "execute_result"
    }
   ],
   "source": [
    "X_cat = []\n",
    "for k,v in RFC_params_count.items():\n",
    "    if v <= 3:\n",
    "        X_cat.append(k)\n",
    "        \n",
    "X_cat"
   ]
  },
  {
   "cell_type": "code",
   "execution_count": 26,
   "metadata": {},
   "outputs": [
    {
     "name": "stdout",
     "output_type": "stream",
     "text": [
      "7 categorical parameter RFC model accuracy: 83.23%\n"
     ]
    }
   ],
   "source": [
    "#7 categorical variable RFC model accuracy\n",
    "rfc_prediction1, rfc_acc1 = my_RFC(df_train, X_cat, 'grade')\n",
    "print('7 categorical parameter RFC model accuracy: {:.2f}%'.format(rfc_acc1 * 100))\n"
   ]
  },
  {
   "cell_type": "code",
   "execution_count": 27,
   "metadata": {},
   "outputs": [
    {
     "data": {
      "text/plain": [
       "['f4', 'f6', 'f10', 'f14', 'f15', 'f16', 'f18', 'f0', 'f2', 'f5']"
      ]
     },
     "execution_count": 27,
     "metadata": {},
     "output_type": "execute_result"
    }
   ],
   "source": [
    "#Add the 3 \"almost\"categorical variables to the 7 categorical\n",
    "Xcat_10 = X_cat.copy()\n",
    "Xcat_10.extend(['f0','f2','f5'])\n",
    "Xcat_10"
   ]
  },
  {
   "cell_type": "code",
   "execution_count": 28,
   "metadata": {},
   "outputs": [
    {
     "name": "stdout",
     "output_type": "stream",
     "text": [
      "10 \"categorical\" parameter RFC model accuracy: 90.97%\n"
     ]
    }
   ],
   "source": [
    "#rerun my_RFC with 10 variables\n",
    "rfc_prediction2,rfc_acc2 = my_RFC(df_train, Xcat_10, 'grade')\n",
    "print('''10 \"categorical\" parameter RFC model accuracy: {:.2f}%'''.format(rfc_acc2 * 100))"
   ]
  },
  {
   "cell_type": "markdown",
   "metadata": {},
   "source": [
    "<font color = gray>SUMMARY</font>\n",
    "\n",
    "- 7 categorical variable RFC prediction accuracy of train data: <font color= red>83%</font>.\n",
    "    - Is this useful to the people making the alloy?  Can these variable be used to predict grade before starting to make the alloy?\n",
    "- 7 categorical + 3 'almost' categorical variable RFC prediction accuracy of train data: <font color= red>91%</font>.\n",
    "    - Can these 3 additional variables be used to predict grade prior to making the alloy?\n",
    "- 7 categorical + 3 'almost' categorical  + 3 continuous variable prediction accuracy: <font color= red>99+%</font>\n",
    "    - I assume these continuous variables are machine actuals (averaged over the time of alloy manufacture?) \n",
    "\n",
    "<font color = gray>THOUGHTS</font>\n",
    "\n",
    "- I hypothesize binning the 3 continous variables and creating a 4th RFC model would lead to a prediction accuracy between 91% and 99%.  This would allow those making the alloy to create a table of settings for the 13 variables and predicted grade.  Or, \"clustering\" could be done based on the 13 variable model predictions.  For a single grade,cluster the data rows where values for the 10 categorical variables are equal, and determine the range of the continous variables witin that cluster.\n",
    "\n",
    "- I'm going to stop here and make this notebook available to the owner of the dataset.  I'll write a final code block where the 3 RFC model predictions are written to .csv files."
   ]
  },
  {
   "cell_type": "code",
   "execution_count": 29,
   "metadata": {},
   "outputs": [],
   "source": [
    "#Write df_test predicted values from the 3 classificationpredictions to csv files\n",
    "\n",
    "##13 parameter model\n",
    "np.savetxt(\"rfc0_test_pred.csv\", rfc_prediction, delimiter=\",\") \n",
    "##10 parameter model\n",
    "np.savetxt(\"rfc1_test_pred.csv\", rfc_prediction1, delimiter=\",\")\n",
    "#7 parameter model\n",
    "np.savetxt(\"rfc2_test_pred.csv\", rfc_prediction2, delimiter=\",\")"
   ]
  }
 ],
 "metadata": {
  "kernelspec": {
   "display_name": "Python 3",
   "language": "python",
   "name": "python3"
  },
  "language_info": {
   "codemirror_mode": {
    "name": "ipython",
    "version": 3
   },
   "file_extension": ".py",
   "mimetype": "text/x-python",
   "name": "python",
   "nbconvert_exporter": "python",
   "pygments_lexer": "ipython3",
   "version": "3.7.3"
  }
 },
 "nbformat": 4,
 "nbformat_minor": 4
}
